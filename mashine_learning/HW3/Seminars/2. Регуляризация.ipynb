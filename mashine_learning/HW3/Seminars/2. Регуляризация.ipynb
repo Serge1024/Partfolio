{
 "cells": [
  {
   "cell_type": "code",
   "execution_count": 1,
   "metadata": {
    "ExecuteTime": {
     "end_time": "2022-09-16T14:01:03.400925Z",
     "start_time": "2022-09-16T14:00:59.707198Z"
    },
    "executionInfo": {
     "elapsed": 919,
     "status": "ok",
     "timestamp": 1637681950098,
     "user": {
      "displayName": "Olga Kalinichenko",
      "photoUrl": "https://lh3.googleusercontent.com/a/default-user=s64",
      "userId": "04538296743265563342"
     },
     "user_tz": -180
    },
    "id": "Rr7iJvmXRNA1"
   },
   "outputs": [],
   "source": [
    "import numpy as np\n",
    "import pandas as pd\n",
    "from scipy.stats import t\n",
    "from scipy.stats import norm\n",
    "\n",
    "from sklearn.linear_model import Ridge, Lasso, ElasticNet\n",
    "from sklearn.model_selection import train_test_split  \n",
    "from sklearn.datasets import load_diabetes\n",
    "\n",
    "import ipywidgets as widgets\n",
    "import matplotlib.pyplot as plt\n",
    "import seaborn as sns\n",
    "import warnings\n",
    "\n",
    "warnings.filterwarnings(\"ignore\")\n",
    "sns.set('notebook', font_scale=1.7)\n",
    "%matplotlib inline"
   ]
  },
  {
   "cell_type": "markdown",
   "metadata": {
    "id": "aqy8ckhBZssU"
   },
   "source": [
    "# Регуляризация"
   ]
  },
  {
   "cell_type": "markdown",
   "metadata": {
    "id": "g0eq8iGtzCEc"
   },
   "source": [
    "Для начала вспомним, что означают слова Ridge, Lasso и Elastic. Из курса статистики вы знаете, что такое линейная регрессия. \n",
    "* **Ridge** &mdash; это модель линейной регрессии, которая минимизирует $\\lVert y - X \\theta\\rVert^2_2 + \\alpha \\cdot \\lVert\\theta\\rVert^2_2$, где $y$ &mdash; истинные значения целевой переменной, $X$ &mdash; матрица \"объект-признак\", $\\theta$ &mdash; параметры модели, $\\alpha$ &mdash; параметр регуляризации.  \n",
    "* **Lasso**-регрессия минимизирует $\\lVert y - X \\theta\\rVert^2_2 + \\alpha \\cdot \\lVert\\theta\\rVert_1$   \n",
    "* **Elastic**-регрессия минимизирует $\\lVert y - X\\theta\\rVert^2_2 + \\alpha_1 \\cdot \\lVert\\theta\\rVert_1 + \\alpha_2 \\cdot \\lVert\\theta\\rVert^2_2$. Таким образом Elastic-регрессия является компромиссом между $l_1$ и $l_2$ регуляризацией, позже мы в этом убедимся. "
   ]
  },
  {
   "cell_type": "markdown",
   "metadata": {
    "id": "Sean6klwF9rZ"
   },
   "source": [
    "Остановимся подробнее на каждой из моделей в контексте их использования с помощью библиотеки sklearn."
   ]
  },
  {
   "cell_type": "markdown",
   "metadata": {
    "id": "rLSsnZXgGxfg"
   },
   "source": [
    "Рассмотрим работу линейных моделей на данных о диабете. Мы будем восстанавливать зависимость количественного показателя прогрессирования заболевания от давления, массы, пола, возраста и шести показателей сыворотки крови."
   ]
  },
  {
   "cell_type": "markdown",
   "metadata": {
    "id": "_r1lxlLTZssd"
   },
   "source": [
    "## Данные"
   ]
  },
  {
   "cell_type": "markdown",
   "metadata": {
    "id": "mKAZbUAbHWv8"
   },
   "source": [
    "Считываем данные:"
   ]
  },
  {
   "cell_type": "code",
   "execution_count": 2,
   "metadata": {
    "ExecuteTime": {
     "end_time": "2022-09-16T14:01:03.447790Z",
     "start_time": "2022-09-16T14:01:03.407627Z"
    },
    "executionInfo": {
     "elapsed": 24,
     "status": "ok",
     "timestamp": 1637681950099,
     "user": {
      "displayName": "Olga Kalinichenko",
      "photoUrl": "https://lh3.googleusercontent.com/a/default-user=s64",
      "userId": "04538296743265563342"
     },
     "user_tz": -180
    },
    "id": "XuvOx5dAGHQK"
   },
   "outputs": [],
   "source": [
    "X = load_diabetes()['data']\n",
    "y = load_diabetes()['target']\n",
    "columns_name = load_diabetes()['feature_names'] + ['target']\n",
    "\n",
    "data = pd.DataFrame(np.hstack((X, y.reshape(-1, 1))), columns=columns_name)"
   ]
  },
  {
   "cell_type": "markdown",
   "metadata": {
    "id": "C5foPJGoZssi"
   },
   "source": [
    "Описание датасета:"
   ]
  },
  {
   "cell_type": "code",
   "execution_count": 3,
   "metadata": {
    "ExecuteTime": {
     "end_time": "2022-09-16T14:01:03.484823Z",
     "start_time": "2022-09-16T14:01:03.472927Z"
    },
    "colab": {
     "base_uri": "https://localhost:8080/"
    },
    "executionInfo": {
     "elapsed": 22,
     "status": "ok",
     "timestamp": 1637681950100,
     "user": {
      "displayName": "Olga Kalinichenko",
      "photoUrl": "https://lh3.googleusercontent.com/a/default-user=s64",
      "userId": "04538296743265563342"
     },
     "user_tz": -180
    },
    "id": "OZ1HqBdRZssj",
    "outputId": "e0ff0239-6aaf-4fe8-8629-8a0a70bba127"
   },
   "outputs": [
    {
     "name": "stdout",
     "output_type": "stream",
     "text": [
      ".. _diabetes_dataset:\n",
      "\n",
      "Diabetes dataset\n",
      "----------------\n",
      "\n",
      "Ten baseline variables, age, sex, body mass index, average blood\n",
      "pressure, and six blood serum measurements were obtained for each of n =\n",
      "442 diabetes patients, as well as the response of interest, a\n",
      "quantitative measure of disease progression one year after baseline.\n",
      "\n",
      "**Data Set Characteristics:**\n",
      "\n",
      "  :Number of Instances: 442\n",
      "\n",
      "  :Number of Attributes: First 10 columns are numeric predictive values\n",
      "\n",
      "  :Target: Column 11 is a quantitative measure of disease progression one year after baseline\n",
      "\n",
      "  :Attribute Information:\n",
      "      - age     age in years\n",
      "      - sex\n",
      "      - bmi     body mass index\n",
      "      - bp      average blood pressure\n",
      "      - s1      tc, total serum cholesterol\n",
      "      - s2      ldl, low-density lipoproteins\n",
      "      - s3      hdl, high-density lipoproteins\n",
      "      - s4      tch, total cholesterol / HDL\n",
      "      - s5      ltg, possibly log of serum triglycerides level\n",
      "      - s6      glu, blood sugar level\n",
      "\n",
      "Note: Each of these 10 feature variables have been mean centered and scaled by the standard deviation times `n_samples` (i.e. the sum of squares of each column totals 1).\n",
      "\n",
      "Source URL:\n",
      "https://www4.stat.ncsu.edu/~boos/var.select/diabetes.html\n",
      "\n",
      "For more information see:\n",
      "Bradley Efron, Trevor Hastie, Iain Johnstone and Robert Tibshirani (2004) \"Least Angle Regression,\" Annals of Statistics (with discussion), 407-499.\n",
      "(https://web.stanford.edu/~hastie/Papers/LARS/LeastAngle_2002.pdf)\n"
     ]
    }
   ],
   "source": [
    "print(load_diabetes()['DESCR'])"
   ]
  },
  {
   "cell_type": "code",
   "execution_count": 4,
   "metadata": {
    "ExecuteTime": {
     "end_time": "2022-09-16T14:01:03.540950Z",
     "start_time": "2022-09-16T14:01:03.500737Z"
    },
    "colab": {
     "base_uri": "https://localhost:8080/",
     "height": 300
    },
    "executionInfo": {
     "elapsed": 440,
     "status": "ok",
     "timestamp": 1637681950530,
     "user": {
      "displayName": "Olga Kalinichenko",
      "photoUrl": "https://lh3.googleusercontent.com/a/default-user=s64",
      "userId": "04538296743265563342"
     },
     "user_tz": -180
    },
    "id": "kDySD80AH5r7",
    "outputId": "91514044-3924-4213-b8da-b6100adfcf22"
   },
   "outputs": [
    {
     "data": {
      "text/html": [
       "<div>\n",
       "<style scoped>\n",
       "    .dataframe tbody tr th:only-of-type {\n",
       "        vertical-align: middle;\n",
       "    }\n",
       "\n",
       "    .dataframe tbody tr th {\n",
       "        vertical-align: top;\n",
       "    }\n",
       "\n",
       "    .dataframe thead th {\n",
       "        text-align: right;\n",
       "    }\n",
       "</style>\n",
       "<table border=\"1\" class=\"dataframe\">\n",
       "  <thead>\n",
       "    <tr style=\"text-align: right;\">\n",
       "      <th></th>\n",
       "      <th>age</th>\n",
       "      <th>sex</th>\n",
       "      <th>bmi</th>\n",
       "      <th>bp</th>\n",
       "      <th>s1</th>\n",
       "      <th>s2</th>\n",
       "      <th>s3</th>\n",
       "      <th>s4</th>\n",
       "      <th>s5</th>\n",
       "      <th>s6</th>\n",
       "      <th>target</th>\n",
       "    </tr>\n",
       "  </thead>\n",
       "  <tbody>\n",
       "    <tr>\n",
       "      <th>count</th>\n",
       "      <td>442.0000</td>\n",
       "      <td>442.0000</td>\n",
       "      <td>442.0000</td>\n",
       "      <td>442.0000</td>\n",
       "      <td>442.0000</td>\n",
       "      <td>442.0000</td>\n",
       "      <td>442.0000</td>\n",
       "      <td>442.0000</td>\n",
       "      <td>442.0000</td>\n",
       "      <td>442.0000</td>\n",
       "      <td>442.0000</td>\n",
       "    </tr>\n",
       "    <tr>\n",
       "      <th>mean</th>\n",
       "      <td>-0.0000</td>\n",
       "      <td>0.0000</td>\n",
       "      <td>-0.0000</td>\n",
       "      <td>0.0000</td>\n",
       "      <td>-0.0000</td>\n",
       "      <td>0.0000</td>\n",
       "      <td>-0.0000</td>\n",
       "      <td>0.0000</td>\n",
       "      <td>-0.0000</td>\n",
       "      <td>-0.0000</td>\n",
       "      <td>152.1335</td>\n",
       "    </tr>\n",
       "    <tr>\n",
       "      <th>std</th>\n",
       "      <td>0.0476</td>\n",
       "      <td>0.0476</td>\n",
       "      <td>0.0476</td>\n",
       "      <td>0.0476</td>\n",
       "      <td>0.0476</td>\n",
       "      <td>0.0476</td>\n",
       "      <td>0.0476</td>\n",
       "      <td>0.0476</td>\n",
       "      <td>0.0476</td>\n",
       "      <td>0.0476</td>\n",
       "      <td>77.0930</td>\n",
       "    </tr>\n",
       "    <tr>\n",
       "      <th>min</th>\n",
       "      <td>-0.1072</td>\n",
       "      <td>-0.0446</td>\n",
       "      <td>-0.0903</td>\n",
       "      <td>-0.1124</td>\n",
       "      <td>-0.1268</td>\n",
       "      <td>-0.1156</td>\n",
       "      <td>-0.1023</td>\n",
       "      <td>-0.0764</td>\n",
       "      <td>-0.1261</td>\n",
       "      <td>-0.1378</td>\n",
       "      <td>25.0000</td>\n",
       "    </tr>\n",
       "    <tr>\n",
       "      <th>25%</th>\n",
       "      <td>-0.0373</td>\n",
       "      <td>-0.0446</td>\n",
       "      <td>-0.0342</td>\n",
       "      <td>-0.0367</td>\n",
       "      <td>-0.0342</td>\n",
       "      <td>-0.0304</td>\n",
       "      <td>-0.0351</td>\n",
       "      <td>-0.0395</td>\n",
       "      <td>-0.0332</td>\n",
       "      <td>-0.0332</td>\n",
       "      <td>87.0000</td>\n",
       "    </tr>\n",
       "    <tr>\n",
       "      <th>50%</th>\n",
       "      <td>0.0054</td>\n",
       "      <td>-0.0446</td>\n",
       "      <td>-0.0073</td>\n",
       "      <td>-0.0057</td>\n",
       "      <td>-0.0043</td>\n",
       "      <td>-0.0038</td>\n",
       "      <td>-0.0066</td>\n",
       "      <td>-0.0026</td>\n",
       "      <td>-0.0019</td>\n",
       "      <td>-0.0011</td>\n",
       "      <td>140.5000</td>\n",
       "    </tr>\n",
       "    <tr>\n",
       "      <th>75%</th>\n",
       "      <td>0.0381</td>\n",
       "      <td>0.0507</td>\n",
       "      <td>0.0312</td>\n",
       "      <td>0.0356</td>\n",
       "      <td>0.0284</td>\n",
       "      <td>0.0298</td>\n",
       "      <td>0.0293</td>\n",
       "      <td>0.0343</td>\n",
       "      <td>0.0324</td>\n",
       "      <td>0.0279</td>\n",
       "      <td>211.5000</td>\n",
       "    </tr>\n",
       "    <tr>\n",
       "      <th>max</th>\n",
       "      <td>0.1107</td>\n",
       "      <td>0.0507</td>\n",
       "      <td>0.1706</td>\n",
       "      <td>0.1320</td>\n",
       "      <td>0.1539</td>\n",
       "      <td>0.1988</td>\n",
       "      <td>0.1812</td>\n",
       "      <td>0.1852</td>\n",
       "      <td>0.1336</td>\n",
       "      <td>0.1356</td>\n",
       "      <td>346.0000</td>\n",
       "    </tr>\n",
       "  </tbody>\n",
       "</table>\n",
       "</div>"
      ],
      "text/plain": [
       "            age       sex       bmi        bp        s1        s2        s3  \\\n",
       "count  442.0000  442.0000  442.0000  442.0000  442.0000  442.0000  442.0000   \n",
       "mean    -0.0000    0.0000   -0.0000    0.0000   -0.0000    0.0000   -0.0000   \n",
       "std      0.0476    0.0476    0.0476    0.0476    0.0476    0.0476    0.0476   \n",
       "min     -0.1072   -0.0446   -0.0903   -0.1124   -0.1268   -0.1156   -0.1023   \n",
       "25%     -0.0373   -0.0446   -0.0342   -0.0367   -0.0342   -0.0304   -0.0351   \n",
       "50%      0.0054   -0.0446   -0.0073   -0.0057   -0.0043   -0.0038   -0.0066   \n",
       "75%      0.0381    0.0507    0.0312    0.0356    0.0284    0.0298    0.0293   \n",
       "max      0.1107    0.0507    0.1706    0.1320    0.1539    0.1988    0.1812   \n",
       "\n",
       "             s4        s5        s6    target  \n",
       "count  442.0000  442.0000  442.0000  442.0000  \n",
       "mean     0.0000   -0.0000   -0.0000  152.1335  \n",
       "std      0.0476    0.0476    0.0476   77.0930  \n",
       "min     -0.0764   -0.1261   -0.1378   25.0000  \n",
       "25%     -0.0395   -0.0332   -0.0332   87.0000  \n",
       "50%     -0.0026   -0.0019   -0.0011  140.5000  \n",
       "75%      0.0343    0.0324    0.0279  211.5000  \n",
       "max      0.1852    0.1336    0.1356  346.0000  "
      ]
     },
     "execution_count": 4,
     "metadata": {},
     "output_type": "execute_result"
    }
   ],
   "source": [
    "data.describe().round(4)"
   ]
  },
  {
   "cell_type": "markdown",
   "metadata": {
    "id": "_TxwlVbYdDH_"
   },
   "source": [
    "Как видим, данные уже центрированы."
   ]
  },
  {
   "cell_type": "markdown",
   "metadata": {
    "id": "yDtkuUI4iqiS"
   },
   "source": [
    "## Ridge-регрессия"
   ]
  },
  {
   "cell_type": "markdown",
   "metadata": {
    "id": "qQU6ut0pdIOR"
   },
   "source": [
    "Используем Ridge-регрессию:"
   ]
  },
  {
   "cell_type": "code",
   "execution_count": 5,
   "metadata": {
    "ExecuteTime": {
     "end_time": "2022-09-16T14:01:03.558355Z",
     "start_time": "2022-09-16T14:01:03.555572Z"
    },
    "executionInfo": {
     "elapsed": 6,
     "status": "ok",
     "timestamp": 1637681952135,
     "user": {
      "displayName": "Olga Kalinichenko",
      "photoUrl": "https://lh3.googleusercontent.com/a/default-user=s64",
      "userId": "04538296743265563342"
     },
     "user_tz": -180
    },
    "id": "xdNXxToAIYCf"
   },
   "outputs": [],
   "source": [
    "model = Ridge(\n",
    "    # коэффициент регуляризации, чем больше - тем сильнее регуляризация\n",
    "    alpha=1.0,\n",
    "    # использовать ли параметр-остаток при обучении \n",
    "    fit_intercept=True,\n",
    "    # максимальное количество итераций в методе оптимизации\n",
    "    # при использовании итеративного метода\n",
    "    max_iter=100,\n",
    "    # точность решения, \n",
    "    # чем значение меньше, тем больше может потребоваться итераций\n",
    "    tol=0.0001,\n",
    "    # используемый метод оптимизации\n",
    "    solver='auto'\n",
    ")"
   ]
  },
  {
   "cell_type": "markdown",
   "metadata": {
    "id": "9V1wxaVkJ07G"
   },
   "source": [
    "Рассмотрим подробнее параметр `solver`."
   ]
  },
  {
   "cell_type": "markdown",
   "metadata": {
    "id": "WGqcDDJNJ4Qm"
   },
   "source": [
    " Доступные параметры:\n",
    "\n",
    "* `auto` выбирает автоматически под тип даннных.\n",
    "  \n",
    "\n",
    "* `svd` использует сингулярное разложение матрицы для вычисления коэффициентов регрессии. Более стабильный метод для вырожденных матриц, чем метод `cholesky`.\n",
    "  \n",
    "\n",
    "* [`cholesky`](https://docs.scipy.org/doc/scipy/reference/generated/scipy.linalg.solve.html) использует функцию из `scipy.linalg.solve`. \n",
    "  \n",
    "\n",
    "* [`sparse_cg`](https://docs.scipy.org/doc/scipy/reference/generated/scipy.sparse.linalg.cg.html) использует функцию из `scipy.sparse.linalg.cg`.\n",
    "  \n",
    "\n",
    "* [`lsqr`](https://docs.scipy.org/doc/scipy-0.14.0/reference/generated/scipy.sparse.linalg.lsqr.html) использует функцию из `scipy.sparse.linalg.lsqr`.\n",
    "  \n",
    "\n",
    "* `sag` и `saga` - стохастический градиентный спуск. Метод `saga` заявлен как улучшенная версия метода `sag`. Данные методы являются итеративными и лучше сходятся, когда признаки находятся в одном масштабе (то есть для данных нужно выполнять некоторый препроцессинг, например, при помощи `StandartScaler` из `sklearn`)."
   ]
  },
  {
   "cell_type": "markdown",
   "metadata": {
    "id": "bF_kU213Zsso"
   },
   "source": [
    "Обучаем модель."
   ]
  },
  {
   "cell_type": "code",
   "execution_count": 6,
   "metadata": {
    "ExecuteTime": {
     "end_time": "2022-09-16T14:01:03.588638Z",
     "start_time": "2022-09-16T14:01:03.576041Z"
    },
    "colab": {
     "base_uri": "https://localhost:8080/"
    },
    "executionInfo": {
     "elapsed": 45,
     "status": "ok",
     "timestamp": 1637681956044,
     "user": {
      "displayName": "Olga Kalinichenko",
      "photoUrl": "https://lh3.googleusercontent.com/a/default-user=s64",
      "userId": "04538296743265563342"
     },
     "user_tz": -180
    },
    "id": "Ra8Bw7UwNj-x",
    "outputId": "76d297e5-6b93-405b-a382-d6d928437a9e"
   },
   "outputs": [
    {
     "data": {
      "text/plain": [
       "Ridge(max_iter=100, tol=0.0001)"
      ]
     },
     "execution_count": 6,
     "metadata": {},
     "output_type": "execute_result"
    }
   ],
   "source": [
    "model.fit(X, y)"
   ]
  },
  {
   "cell_type": "markdown",
   "metadata": {
    "id": "83RBKmneZssq"
   },
   "source": [
    "Посмотрим на различные параметры модели."
   ]
  },
  {
   "cell_type": "markdown",
   "metadata": {
    "id": "nX_XiBpQZssq"
   },
   "source": [
    "Коэффициенты модели."
   ]
  },
  {
   "cell_type": "code",
   "execution_count": 7,
   "metadata": {
    "ExecuteTime": {
     "end_time": "2022-09-16T14:01:04.652723Z",
     "start_time": "2022-09-16T14:01:04.648242Z"
    },
    "colab": {
     "base_uri": "https://localhost:8080/"
    },
    "executionInfo": {
     "elapsed": 29,
     "status": "ok",
     "timestamp": 1637681956046,
     "user": {
      "displayName": "Olga Kalinichenko",
      "photoUrl": "https://lh3.googleusercontent.com/a/default-user=s64",
      "userId": "04538296743265563342"
     },
     "user_tz": -180
    },
    "id": "7iYuN-wLNne7",
    "outputId": "3ef5bab7-2d7b-4cb3-c305-c9645cd1c82d"
   },
   "outputs": [
    {
     "data": {
      "text/plain": [
       "array([  29.46574564,  -83.15488546,  306.35162706,  201.62943384,\n",
       "          5.90936896,  -29.51592665, -152.04046539,  117.31171538,\n",
       "        262.94499533,  111.878718  ])"
      ]
     },
     "execution_count": 7,
     "metadata": {},
     "output_type": "execute_result"
    }
   ],
   "source": [
    "model.coef_"
   ]
  },
  {
   "cell_type": "markdown",
   "metadata": {
    "id": "9oGEp462Zssr"
   },
   "source": [
    "Свободный параметр."
   ]
  },
  {
   "cell_type": "code",
   "execution_count": 8,
   "metadata": {
    "ExecuteTime": {
     "end_time": "2022-09-16T14:01:05.448014Z",
     "start_time": "2022-09-16T14:01:05.444192Z"
    },
    "colab": {
     "base_uri": "https://localhost:8080/"
    },
    "executionInfo": {
     "elapsed": 25,
     "status": "ok",
     "timestamp": 1637681956051,
     "user": {
      "displayName": "Olga Kalinichenko",
      "photoUrl": "https://lh3.googleusercontent.com/a/default-user=s64",
      "userId": "04538296743265563342"
     },
     "user_tz": -180
    },
    "id": "y6e-WTKuNwx6",
    "outputId": "c99e03ce-1962-4a5d-b276-320ce2182301"
   },
   "outputs": [
    {
     "data": {
      "text/plain": [
       "152.13348416289622"
      ]
     },
     "execution_count": 8,
     "metadata": {},
     "output_type": "execute_result"
    }
   ],
   "source": [
    "model.intercept_"
   ]
  },
  {
   "cell_type": "markdown",
   "metadata": {
    "id": "nCzUetJxZsss"
   },
   "source": [
    "Число итераций, вернет None если solver не итеративный."
   ]
  },
  {
   "cell_type": "code",
   "execution_count": 9,
   "metadata": {
    "ExecuteTime": {
     "end_time": "2022-09-16T14:01:07.583295Z",
     "start_time": "2022-09-16T14:01:07.580772Z"
    },
    "executionInfo": {
     "elapsed": 20,
     "status": "ok",
     "timestamp": 1637681956054,
     "user": {
      "displayName": "Olga Kalinichenko",
      "photoUrl": "https://lh3.googleusercontent.com/a/default-user=s64",
      "userId": "04538296743265563342"
     },
     "user_tz": -180
    },
    "id": "vawo4ckfN-Gr"
   },
   "outputs": [],
   "source": [
    "model.n_iter_ "
   ]
  },
  {
   "cell_type": "markdown",
   "metadata": {
    "id": "Gmif_UwKZssu"
   },
   "source": [
    "Настройки модели, которые использовались при обучении."
   ]
  },
  {
   "cell_type": "code",
   "execution_count": 10,
   "metadata": {
    "ExecuteTime": {
     "end_time": "2022-09-16T14:01:08.249281Z",
     "start_time": "2022-09-16T14:01:08.245037Z"
    },
    "colab": {
     "base_uri": "https://localhost:8080/"
    },
    "executionInfo": {
     "elapsed": 18,
     "status": "ok",
     "timestamp": 1637681956576,
     "user": {
      "displayName": "Olga Kalinichenko",
      "photoUrl": "https://lh3.googleusercontent.com/a/default-user=s64",
      "userId": "04538296743265563342"
     },
     "user_tz": -180
    },
    "id": "Vz_Y5K1iOWit",
    "outputId": "f646f0e1-da5b-457d-89ec-9fa3464b6039"
   },
   "outputs": [
    {
     "data": {
      "text/plain": [
       "{'alpha': 1.0,\n",
       " 'copy_X': True,\n",
       " 'fit_intercept': True,\n",
       " 'max_iter': 100,\n",
       " 'normalize': False,\n",
       " 'random_state': None,\n",
       " 'solver': 'auto',\n",
       " 'tol': 0.0001}"
      ]
     },
     "execution_count": 10,
     "metadata": {},
     "output_type": "execute_result"
    }
   ],
   "source": [
    "model.get_params()"
   ]
  },
  {
   "cell_type": "markdown",
   "metadata": {
    "id": "H9aqnEkVWp59"
   },
   "source": [
    "Теперь займемся визуализацией. Посмотрим, как ведут себя предсказания в зависимости от изменения параметров модели."
   ]
  },
  {
   "cell_type": "code",
   "execution_count": 1,
   "metadata": {
    "ExecuteTime": {
     "end_time": "2022-09-16T14:01:10.722112Z",
     "start_time": "2022-09-16T14:01:10.715256Z"
    },
    "executionInfo": {
     "elapsed": 9,
     "status": "ok",
     "timestamp": 1637681956577,
     "user": {
      "displayName": "Olga Kalinichenko",
      "photoUrl": "https://lh3.googleusercontent.com/a/default-user=s64",
      "userId": "04538296743265563342"
     },
     "user_tz": -180
    },
    "id": "LYGQcIhbQe9s"
   },
   "outputs": [],
   "source": [
    "def linear_predictor(alpha, model, count_of_objects=20, max_iter=1000):\n",
    "    \"\"\"Данная функция строит график предсказаний модели \n",
    "    на первых count_of_objects объектах датасета.\n",
    "    \n",
    "    :param alpha: коэффициент регуляризации\n",
    "    :param model: тип модели\n",
    "    \"\"\"\n",
    "\n",
    "    if model == 'Ridge':\n",
    "        model = Ridge(alpha=alpha, max_iter=1000, fit_intercept=True)\n",
    "    elif model == 'Lasso':\n",
    "        model = Lasso(alpha=alpha, max_iter=1000, fit_intercept=True)\n",
    "    elif model == 'Elastic':\n",
    "        model = ElasticNet(alpha=alpha, max_iter=1000, fit_intercept=True)\n",
    "\n",
    "    model.fit(X, y, max_iter=max_iter)\n",
    "    y_pred = model.predict(X)\n",
    "\n",
    "    plt.figure(figsize=(14, 5))\n",
    "\n",
    "    plt.scatter(np.arange(count_of_objects), y_pred[:count_of_objects], \n",
    "              color='#0066FF', label='Предсказания модели')\n",
    "    plt.plot(np.arange(count_of_objects), y_pred[:count_of_objects], \n",
    "          color='#0066FF')\n",
    "    plt.scatter(np.arange(count_of_objects), y[:count_of_objects], \n",
    "                color='#FF3300', label='Истинные значения')\n",
    "\n",
    "    plt.grid(ls=':')\n",
    "    plt.xlabel('Номер объекта', fontsize=19)\n",
    "    plt.xticks(np.arange(count_of_objects))\n",
    "    plt.ylabel('Предсказание', fontsize=19)\n",
    "    plt.title('Предсказания на {} объектах'.format(count_of_objects), \n",
    "              fontsize=22)\n",
    "    plt.legend(fontsize=19)\n",
    "    plt.show() "
   ]
  },
  {
   "cell_type": "code",
   "execution_count": 12,
   "metadata": {
    "ExecuteTime": {
     "end_time": "2022-09-16T14:01:23.509594Z",
     "start_time": "2022-09-16T14:01:23.149893Z"
    },
    "colab": {
     "base_uri": "https://localhost:8080/",
     "height": 410,
     "referenced_widgets": [
      "b85207d533964a88b054953e9a8b1bb6",
      "5daeb4a3581a47429bf3b01c962d31bc",
      "7181846ccd39432991689c4497113fb2",
      "6081fcbf27de44d2b6bf1aeb3854a0da",
      "3669f5b774a9403abaa84e2ae416b2be",
      "fa946cbf8b4b45e396613649f3df4e31",
      "514b6404a10a4ddfb422b049c953daa7"
     ]
    },
    "executionInfo": {
     "elapsed": 1422,
     "status": "ok",
     "timestamp": 1637681957992,
     "user": {
      "displayName": "Olga Kalinichenko",
      "photoUrl": "https://lh3.googleusercontent.com/a/default-user=s64",
      "userId": "04538296743265563342"
     },
     "user_tz": -180
    },
    "id": "qC6iO4I7QcVq",
    "outputId": "ff350652-abdb-4117-d0fd-4c21cb284f08"
   },
   "outputs": [
    {
     "data": {
      "application/vnd.jupyter.widget-view+json": {
       "model_id": "bf7adc046da347f7a5c0a184c5e92563",
       "version_major": 2,
       "version_minor": 0
      },
      "text/plain": [
       "HBox(children=(FloatSlider(value=1.0, description='alpha', max=10.0, min=0.0001, step=0.01),))"
      ]
     },
     "metadata": {},
     "output_type": "display_data"
    },
    {
     "data": {
      "application/vnd.jupyter.widget-view+json": {
       "model_id": "1aabff1559764848b09faa3fc58808fb",
       "version_major": 2,
       "version_minor": 0
      },
      "text/plain": [
       "Output()"
      ]
     },
     "metadata": {},
     "output_type": "display_data"
    }
   ],
   "source": [
    "# создать виджет, но не отображать его\n",
    "ip = widgets.interactive(\n",
    "    linear_predictor, \n",
    "    alpha=widgets.FloatSlider(min=0.0001, max=10, step=0.01, value=1),\n",
    "    model='Ridge'\n",
    ");\n",
    "\n",
    "# отображаем слайдер\n",
    "display(widgets.HBox(ip.children[:1]))\n",
    "\n",
    "# отображаем вывод функции\n",
    "display(ip.children[-1])\n",
    "ip.update() # чтобы функция запустилась до первого изменения слайдеров"
   ]
  },
  {
   "cell_type": "markdown",
   "metadata": {
    "id": "iCLnoImJUbpK"
   },
   "source": [
    "## Lasso-регрессия"
   ]
  },
  {
   "cell_type": "code",
   "execution_count": 14,
   "metadata": {
    "ExecuteTime": {
     "end_time": "2022-09-16T14:03:29.308060Z",
     "start_time": "2022-09-16T14:03:29.304785Z"
    },
    "executionInfo": {
     "elapsed": 474,
     "status": "ok",
     "timestamp": 1637682064083,
     "user": {
      "displayName": "Olga Kalinichenko",
      "photoUrl": "https://lh3.googleusercontent.com/a/default-user=s64",
      "userId": "04538296743265563342"
     },
     "user_tz": -180
    },
    "id": "YQrJPa8FUa1W"
   },
   "outputs": [],
   "source": [
    "model = Lasso(\n",
    "    # коэффициент регуляризации, чем больше - тем сильнее регуляризация\n",
    "    alpha=1.0,\n",
    "    # использовать ли параметр-остаток при обучении\n",
    "    fit_intercept=True,\n",
    "    # максимальное количество итераций в методе оптимизации\n",
    "    max_iter=100,\n",
    "    # точность решения, \n",
    "    # чем значение меньше, тем больше может потребоваться итераций\n",
    "    tol=0.0001,\n",
    "    # использовать ли предпосчитанную матрицу Грамма для ускорения расчетов\n",
    "    precompute=True,\n",
    "    # использовать ли результаты последнего обучения для инициализации\n",
    "    warm_start=False,\n",
    "    # если True, то будет подбирать положительные коэффициенты\n",
    "    positive=False  \n",
    ")"
   ]
  },
  {
   "cell_type": "markdown",
   "metadata": {
    "id": "SgTtaJkZZssx"
   },
   "source": [
    "Для оптимизации используется покоординатный градиентный спуск."
   ]
  },
  {
   "cell_type": "markdown",
   "metadata": {
    "id": "Dw3RMN3QZssx"
   },
   "source": [
    "Обучаем модель"
   ]
  },
  {
   "cell_type": "code",
   "execution_count": 15,
   "metadata": {
    "ExecuteTime": {
     "end_time": "2022-09-16T14:03:30.232070Z",
     "start_time": "2022-09-16T14:03:30.224160Z"
    },
    "colab": {
     "base_uri": "https://localhost:8080/"
    },
    "executionInfo": {
     "elapsed": 415,
     "status": "ok",
     "timestamp": 1637682176839,
     "user": {
      "displayName": "Olga Kalinichenko",
      "photoUrl": "https://lh3.googleusercontent.com/a/default-user=s64",
      "userId": "04538296743265563342"
     },
     "user_tz": -180
    },
    "id": "ZuZgv19JVtmf",
    "outputId": "54a500c9-9b0e-4f13-9661-6334e42e0e11"
   },
   "outputs": [
    {
     "data": {
      "text/plain": [
       "Lasso(max_iter=100, precompute=True)"
      ]
     },
     "execution_count": 15,
     "metadata": {},
     "output_type": "execute_result"
    }
   ],
   "source": [
    "model.fit(X, y)"
   ]
  },
  {
   "cell_type": "markdown",
   "metadata": {
    "id": "lMtJbMvdZssy"
   },
   "source": [
    "Посмотрим на различные параметры модели."
   ]
  },
  {
   "cell_type": "markdown",
   "metadata": {
    "id": "Im7cczvZZssy"
   },
   "source": [
    "Коэффициенты модели."
   ]
  },
  {
   "cell_type": "code",
   "execution_count": 16,
   "metadata": {
    "ExecuteTime": {
     "end_time": "2022-09-16T14:03:32.469355Z",
     "start_time": "2022-09-16T14:03:32.465343Z"
    },
    "colab": {
     "base_uri": "https://localhost:8080/"
    },
    "executionInfo": {
     "elapsed": 17,
     "status": "ok",
     "timestamp": 1637682178312,
     "user": {
      "displayName": "Olga Kalinichenko",
      "photoUrl": "https://lh3.googleusercontent.com/a/default-user=s64",
      "userId": "04538296743265563342"
     },
     "user_tz": -180
    },
    "id": "1lcf8wOKV1Zn",
    "outputId": "ae297fe6-61f0-4052-ea08-c254db1b3b5c"
   },
   "outputs": [
    {
     "data": {
      "text/plain": [
       "array([  0.        ,  -0.        , 367.70185207,   6.30190419,\n",
       "         0.        ,   0.        ,  -0.        ,   0.        ,\n",
       "       307.6057    ,   0.        ])"
      ]
     },
     "execution_count": 16,
     "metadata": {},
     "output_type": "execute_result"
    }
   ],
   "source": [
    "model.coef_"
   ]
  },
  {
   "cell_type": "markdown",
   "metadata": {
    "id": "SB0z73MuZssz"
   },
   "source": [
    "Свободный параметр."
   ]
  },
  {
   "cell_type": "code",
   "execution_count": 17,
   "metadata": {
    "ExecuteTime": {
     "end_time": "2022-09-16T14:03:32.971393Z",
     "start_time": "2022-09-16T14:03:32.967595Z"
    },
    "colab": {
     "base_uri": "https://localhost:8080/"
    },
    "executionInfo": {
     "elapsed": 14,
     "status": "ok",
     "timestamp": 1637682178727,
     "user": {
      "displayName": "Olga Kalinichenko",
      "photoUrl": "https://lh3.googleusercontent.com/a/default-user=s64",
      "userId": "04538296743265563342"
     },
     "user_tz": -180
    },
    "id": "c5cdv80dZssz",
    "outputId": "0e9b6182-73d7-4c64-b42d-32830833f4d3"
   },
   "outputs": [
    {
     "data": {
      "text/plain": [
       "152.13348416289637"
      ]
     },
     "execution_count": 17,
     "metadata": {},
     "output_type": "execute_result"
    }
   ],
   "source": [
    "model.intercept_"
   ]
  },
  {
   "cell_type": "markdown",
   "metadata": {
    "id": "sZSprys-Zssz"
   },
   "source": [
    "Разряженное представление коэффициентов, хранятся только ненулевые элементы."
   ]
  },
  {
   "cell_type": "code",
   "execution_count": 18,
   "metadata": {
    "ExecuteTime": {
     "end_time": "2022-09-16T14:03:33.433942Z",
     "start_time": "2022-09-16T14:03:33.427738Z"
    },
    "colab": {
     "base_uri": "https://localhost:8080/"
    },
    "executionInfo": {
     "elapsed": 397,
     "status": "ok",
     "timestamp": 1637682193811,
     "user": {
      "displayName": "Olga Kalinichenko",
      "photoUrl": "https://lh3.googleusercontent.com/a/default-user=s64",
      "userId": "04538296743265563342"
     },
     "user_tz": -180
    },
    "id": "Si7HhqFXV4NK",
    "outputId": "b0c5e7c8-d13d-4d0c-aa17-63eb5d510297"
   },
   "outputs": [
    {
     "data": {
      "text/plain": [
       "<1x10 sparse matrix of type '<class 'numpy.float64'>'\n",
       "\twith 3 stored elements in Compressed Sparse Row format>"
      ]
     },
     "execution_count": 18,
     "metadata": {},
     "output_type": "execute_result"
    }
   ],
   "source": [
    "model.sparse_coef_ "
   ]
  },
  {
   "cell_type": "code",
   "execution_count": 20,
   "metadata": {
    "ExecuteTime": {
     "end_time": "2022-09-16T14:03:52.057213Z",
     "start_time": "2022-09-16T14:03:52.053808Z"
    },
    "colab": {
     "base_uri": "https://localhost:8080/"
    },
    "executionInfo": {
     "elapsed": 390,
     "status": "ok",
     "timestamp": 1637682210091,
     "user": {
      "displayName": "Olga Kalinichenko",
      "photoUrl": "https://lh3.googleusercontent.com/a/default-user=s64",
      "userId": "04538296743265563342"
     },
     "user_tz": -180
    },
    "id": "3VdAV8A4V8-W",
    "outputId": "5efcb643-f0ec-4166-937f-2446e57d8f1f"
   },
   "outputs": [
    {
     "name": "stdout",
     "output_type": "stream",
     "text": [
      "  (0, 2)\t367.7018520698165\n",
      "  (0, 3)\t6.301904186054457\n",
      "  (0, 8)\t307.6057000044815\n"
     ]
    }
   ],
   "source": [
    "print(model.sparse_coef_)"
   ]
  },
  {
   "cell_type": "markdown",
   "metadata": {
    "id": "xgUO8fdPZssz"
   },
   "source": [
    "Количество итераций."
   ]
  },
  {
   "cell_type": "code",
   "execution_count": 21,
   "metadata": {
    "ExecuteTime": {
     "end_time": "2022-09-16T14:03:59.392844Z",
     "start_time": "2022-09-16T14:03:59.389018Z"
    },
    "colab": {
     "base_uri": "https://localhost:8080/"
    },
    "executionInfo": {
     "elapsed": 385,
     "status": "ok",
     "timestamp": 1637682220065,
     "user": {
      "displayName": "Olga Kalinichenko",
      "photoUrl": "https://lh3.googleusercontent.com/a/default-user=s64",
      "userId": "04538296743265563342"
     },
     "user_tz": -180
    },
    "id": "YJEI3TegWIz4",
    "outputId": "0486b8c3-7a47-4c1c-9532-ae19b3ed3608"
   },
   "outputs": [
    {
     "data": {
      "text/plain": [
       "8"
      ]
     },
     "execution_count": 21,
     "metadata": {},
     "output_type": "execute_result"
    }
   ],
   "source": [
    "model.n_iter_ "
   ]
  },
  {
   "cell_type": "markdown",
   "metadata": {
    "id": "p_klSI3aZss0"
   },
   "source": [
    "Визуализация."
   ]
  },
  {
   "cell_type": "code",
   "execution_count": 22,
   "metadata": {
    "ExecuteTime": {
     "end_time": "2022-09-16T14:04:02.260377Z",
     "start_time": "2022-09-16T14:04:02.007340Z"
    },
    "colab": {
     "base_uri": "https://localhost:8080/",
     "height": 410,
     "referenced_widgets": [
      "55aa477dee294ca9ba95d1e5464ea6db",
      "357afdb24fd245c1a07efbd2baed4ead",
      "ddc1a0a52f364a00987e93cc0dc10531",
      "bb8d1ed8a1564c0d8258221f9c7966a3",
      "e87798b627e44508a63e84cef144beba",
      "8a43b57d48044df2a7de0663493276f7",
      "6801f58bd51547218832ac0ed793a369"
     ]
    },
    "executionInfo": {
     "elapsed": 1256,
     "status": "ok",
     "timestamp": 1637682227542,
     "user": {
      "displayName": "Olga Kalinichenko",
      "photoUrl": "https://lh3.googleusercontent.com/a/default-user=s64",
      "userId": "04538296743265563342"
     },
     "user_tz": -180
    },
    "id": "qHdZ75jlWwBG",
    "outputId": "5bf842fd-00db-4290-bfad-e69c4e591b93"
   },
   "outputs": [
    {
     "data": {
      "application/vnd.jupyter.widget-view+json": {
       "model_id": "4e25c142ed2b4996b475addbeceb2e18",
       "version_major": 2,
       "version_minor": 0
      },
      "text/plain": [
       "HBox(children=(FloatSlider(value=1.0, description='alpha', max=10.0, min=0.0001, step=0.01),))"
      ]
     },
     "metadata": {},
     "output_type": "display_data"
    },
    {
     "data": {
      "application/vnd.jupyter.widget-view+json": {
       "model_id": "facccf82d611447e9e2b8b7a95ce0765",
       "version_major": 2,
       "version_minor": 0
      },
      "text/plain": [
       "Output()"
      ]
     },
     "metadata": {},
     "output_type": "display_data"
    }
   ],
   "source": [
    "# создать виджет, но не отображать его\n",
    "ip = widgets.interactive(\n",
    "    linear_predictor, \n",
    "    alpha=widgets.FloatSlider(min=0.0001, max=10, step=0.01, value=1),\n",
    "    model=\"Lasso\"\n",
    ");\n",
    "\n",
    "# отображаем слайдер\n",
    "display(widgets.HBox(ip.children[:1]))\n",
    "\n",
    "# отображаем вывод функции\n",
    "display(ip.children[-1])\n",
    "ip.update() # чтобы функция запустилась до первого изменения слайдеров"
   ]
  },
  {
   "cell_type": "markdown",
   "metadata": {
    "id": "ulTCNVa3aDw0"
   },
   "source": [
    "# Elastic-регрессия"
   ]
  },
  {
   "cell_type": "code",
   "execution_count": 23,
   "metadata": {
    "ExecuteTime": {
     "end_time": "2022-09-16T14:04:47.757074Z",
     "start_time": "2022-09-16T14:04:47.753729Z"
    },
    "executionInfo": {
     "elapsed": 432,
     "status": "ok",
     "timestamp": 1637682330160,
     "user": {
      "displayName": "Olga Kalinichenko",
      "photoUrl": "https://lh3.googleusercontent.com/a/default-user=s64",
      "userId": "04538296743265563342"
     },
     "user_tz": -180
    },
    "id": "OvibO53qaFzv"
   },
   "outputs": [],
   "source": [
    "model = ElasticNet(\n",
    "    # коэффициент регуляризации, чем больше - тем сильнее регуляризация\n",
    "    alpha=0.01, \n",
    "    # какое предпочтение отдавать l1, а не l2\n",
    "    l1_ratio=0.6, \n",
    "    # использовать ли параметр-остаток при обучении\n",
    "    fit_intercept=True,    \n",
    "    # максимальное количество итераций в методе оптимизации\n",
    "    max_iter=100,\n",
    "    # точность решения, \n",
    "    # чем значение меньше, тем больше может потребоваться итераций\n",
    "    tol=0.0001, \n",
    "    # использовать ли предпосчитанную матрицу Грамма для ускорения расчетов\n",
    "    precompute=True,  \n",
    "    # использовать ли результаты последнего обучения для инициализации\n",
    "    warm_start=False, \n",
    "    # если True, то будет подбирать положительные коэффициенты\n",
    "    positive=False  \n",
    ")"
   ]
  },
  {
   "cell_type": "markdown",
   "metadata": {
    "id": "25NxHONNZss0"
   },
   "source": [
    "Для оптимизации используется покоординатный градиентный спуск."
   ]
  },
  {
   "cell_type": "markdown",
   "metadata": {
    "id": "bNk07wajZss1"
   },
   "source": [
    "Разберемся чуть подробнее в связи между `alpha`, `l1_ratio` с $\\alpha_1, \\alpha_2$, которые мы вводили:\n",
    "\n",
    "$$\n",
    "\\verb|alpha| = \\alpha_1 + 2\\alpha_2\n",
    "\\\\\n",
    "\\verb|l1_ratio| = \\frac{\\alpha_1}{\\alpha_1 + 2\\alpha_2}\n",
    "\\\\\n",
    "\\alpha_1 = \\verb|alpha| \\cdot \\verb|l1_ratio|\n",
    "\\\\\n",
    "\\alpha_2 = \\frac{1}{2} \\verb|alpha| \\cdot (1 - \\verb|l1_ratio|)\n",
    "$$"
   ]
  },
  {
   "cell_type": "markdown",
   "metadata": {
    "id": "0ETHkB-uZss1"
   },
   "source": [
    " Обучаем модель."
   ]
  },
  {
   "cell_type": "code",
   "execution_count": 29,
   "metadata": {
    "ExecuteTime": {
     "end_time": "2022-09-16T14:07:31.238190Z",
     "start_time": "2022-09-16T14:07:31.232755Z"
    },
    "colab": {
     "base_uri": "https://localhost:8080/"
    },
    "executionInfo": {
     "elapsed": 526,
     "status": "ok",
     "timestamp": 1637682358703,
     "user": {
      "displayName": "Olga Kalinichenko",
      "photoUrl": "https://lh3.googleusercontent.com/a/default-user=s64",
      "userId": "04538296743265563342"
     },
     "user_tz": -180
    },
    "id": "u6g4kGO0atD0",
    "outputId": "497addb4-2475-40df-aa0e-78d37b58ac1b"
   },
   "outputs": [
    {
     "data": {
      "text/plain": [
       "ElasticNet(alpha=0.01, l1_ratio=0.6, max_iter=100, precompute=True)"
      ]
     },
     "execution_count": 29,
     "metadata": {},
     "output_type": "execute_result"
    }
   ],
   "source": [
    "model.fit(X, y)"
   ]
  },
  {
   "cell_type": "markdown",
   "metadata": {
    "id": "-fqdj3rgZss1"
   },
   "source": [
    "Посмотрим на различные параметры модели."
   ]
  },
  {
   "cell_type": "markdown",
   "metadata": {
    "id": "nzGULx-NZss1"
   },
   "source": [
    "Коэффициенты модели."
   ]
  },
  {
   "cell_type": "code",
   "execution_count": 30,
   "metadata": {
    "ExecuteTime": {
     "end_time": "2022-09-16T14:07:32.903266Z",
     "start_time": "2022-09-16T14:07:32.899248Z"
    },
    "colab": {
     "base_uri": "https://localhost:8080/"
    },
    "executionInfo": {
     "elapsed": 421,
     "status": "ok",
     "timestamp": 1637682362111,
     "user": {
      "displayName": "Olga Kalinichenko",
      "photoUrl": "https://lh3.googleusercontent.com/a/default-user=s64",
      "userId": "04538296743265563342"
     },
     "user_tz": -180
    },
    "id": "Aq9PzSQSaux_",
    "outputId": "84f5b23b-9a05-434e-d5c9-eb9383f7337f"
   },
   "outputs": [
    {
     "data": {
      "text/plain": [
       "array([  32.69601043,  -46.27021937,  237.0691138 ,  160.4502964 ,\n",
       "         17.84040055,   -5.07757963, -126.15582569,  106.14137675,\n",
       "        206.58033298,  102.02605962])"
      ]
     },
     "execution_count": 30,
     "metadata": {},
     "output_type": "execute_result"
    }
   ],
   "source": [
    "model.coef_"
   ]
  },
  {
   "cell_type": "markdown",
   "metadata": {
    "id": "JjxQOufaZss2"
   },
   "source": [
    "Свободный параметр."
   ]
  },
  {
   "cell_type": "code",
   "execution_count": 31,
   "metadata": {
    "ExecuteTime": {
     "end_time": "2022-09-16T14:07:35.991885Z",
     "start_time": "2022-09-16T14:07:35.988256Z"
    },
    "colab": {
     "base_uri": "https://localhost:8080/"
    },
    "executionInfo": {
     "elapsed": 10,
     "status": "ok",
     "timestamp": 1637682363199,
     "user": {
      "displayName": "Olga Kalinichenko",
      "photoUrl": "https://lh3.googleusercontent.com/a/default-user=s64",
      "userId": "04538296743265563342"
     },
     "user_tz": -180
    },
    "id": "pj95Voq5Zss2",
    "outputId": "481d703c-2784-4e34-ca89-c1b2d1266e39"
   },
   "outputs": [
    {
     "data": {
      "text/plain": [
       "152.13348416289614"
      ]
     },
     "execution_count": 31,
     "metadata": {},
     "output_type": "execute_result"
    }
   ],
   "source": [
    "model.intercept_"
   ]
  },
  {
   "cell_type": "markdown",
   "metadata": {
    "id": "QEVbtA5RZss2"
   },
   "source": [
    "Разряженное представление коэффициентов, хранятся только ненулевые элементы."
   ]
  },
  {
   "cell_type": "code",
   "execution_count": 32,
   "metadata": {
    "ExecuteTime": {
     "end_time": "2022-09-16T14:07:36.866193Z",
     "start_time": "2022-09-16T14:07:36.861902Z"
    },
    "colab": {
     "base_uri": "https://localhost:8080/"
    },
    "executionInfo": {
     "elapsed": 20,
     "status": "ok",
     "timestamp": 1637682364742,
     "user": {
      "displayName": "Olga Kalinichenko",
      "photoUrl": "https://lh3.googleusercontent.com/a/default-user=s64",
      "userId": "04538296743265563342"
     },
     "user_tz": -180
    },
    "id": "uQa6s1baavSY",
    "outputId": "97b04f15-8341-4661-89f2-e1debf8cd77f"
   },
   "outputs": [
    {
     "data": {
      "text/plain": [
       "<1x10 sparse matrix of type '<class 'numpy.float64'>'\n",
       "\twith 10 stored elements in Compressed Sparse Row format>"
      ]
     },
     "execution_count": 32,
     "metadata": {},
     "output_type": "execute_result"
    }
   ],
   "source": [
    "model.sparse_coef_ "
   ]
  },
  {
   "cell_type": "code",
   "execution_count": 33,
   "metadata": {
    "ExecuteTime": {
     "end_time": "2022-09-16T14:07:38.105967Z",
     "start_time": "2022-09-16T14:07:38.102363Z"
    },
    "colab": {
     "base_uri": "https://localhost:8080/"
    },
    "executionInfo": {
     "elapsed": 6,
     "status": "ok",
     "timestamp": 1637682365238,
     "user": {
      "displayName": "Olga Kalinichenko",
      "photoUrl": "https://lh3.googleusercontent.com/a/default-user=s64",
      "userId": "04538296743265563342"
     },
     "user_tz": -180
    },
    "id": "XUiOz-Z8aynJ",
    "outputId": "ea08e57f-0c30-4fc3-e26c-648b03e40589"
   },
   "outputs": [
    {
     "name": "stdout",
     "output_type": "stream",
     "text": [
      "  (0, 0)\t32.69601043051571\n",
      "  (0, 1)\t-46.27021937489697\n",
      "  (0, 2)\t237.0691137994072\n",
      "  (0, 3)\t160.45029639906863\n",
      "  (0, 4)\t17.840400545463904\n",
      "  (0, 5)\t-5.077579634271905\n",
      "  (0, 6)\t-126.15582569323875\n",
      "  (0, 7)\t106.14137675009518\n",
      "  (0, 8)\t206.58033298459748\n",
      "  (0, 9)\t102.02605961677287\n"
     ]
    }
   ],
   "source": [
    "print(model.sparse_coef_)"
   ]
  },
  {
   "cell_type": "markdown",
   "metadata": {
    "id": "3qwKtd_yZss3"
   },
   "source": [
    "Количество итераций."
   ]
  },
  {
   "cell_type": "code",
   "execution_count": 34,
   "metadata": {
    "ExecuteTime": {
     "end_time": "2022-09-16T14:07:43.923267Z",
     "start_time": "2022-09-16T14:07:43.919629Z"
    },
    "colab": {
     "base_uri": "https://localhost:8080/"
    },
    "executionInfo": {
     "elapsed": 430,
     "status": "ok",
     "timestamp": 1637682377950,
     "user": {
      "displayName": "Olga Kalinichenko",
      "photoUrl": "https://lh3.googleusercontent.com/a/default-user=s64",
      "userId": "04538296743265563342"
     },
     "user_tz": -180
    },
    "id": "gmIPcVPta0k6",
    "outputId": "7e68f465-464a-49dc-89bb-de0e1acf430f"
   },
   "outputs": [
    {
     "data": {
      "text/plain": [
       "8"
      ]
     },
     "execution_count": 34,
     "metadata": {},
     "output_type": "execute_result"
    }
   ],
   "source": [
    "model.n_iter_ "
   ]
  },
  {
   "cell_type": "markdown",
   "metadata": {
    "id": "dYmNYK9HZss3"
   },
   "source": [
    "Визуализация."
   ]
  },
  {
   "cell_type": "code",
   "execution_count": 35,
   "metadata": {
    "ExecuteTime": {
     "end_time": "2022-09-16T14:07:44.884889Z",
     "start_time": "2022-09-16T14:07:44.638938Z"
    },
    "colab": {
     "base_uri": "https://localhost:8080/",
     "height": 410,
     "referenced_widgets": [
      "b620e3da77a245448777138503d23a62",
      "0e1377d5ef2043b69c614c533fd11caa",
      "5a6a4c7eaaea40caae6a7498ade135a3",
      "39adb7eaa5aa4727b748ece1ac1c8c97",
      "600dc86e0a974b67ad8781c31c458345",
      "6878109f38b84ace861781e7c934018d",
      "d7ef2a7202a4423b9017f4ca6995df2f"
     ]
    },
    "executionInfo": {
     "elapsed": 775,
     "status": "ok",
     "timestamp": 1637682380539,
     "user": {
      "displayName": "Olga Kalinichenko",
      "photoUrl": "https://lh3.googleusercontent.com/a/default-user=s64",
      "userId": "04538296743265563342"
     },
     "user_tz": -180
    },
    "id": "aIWAlzoya29u",
    "outputId": "27112278-786f-4e71-9650-73438bc45b07"
   },
   "outputs": [
    {
     "data": {
      "application/vnd.jupyter.widget-view+json": {
       "model_id": "566c7490b6304654834f027285897561",
       "version_major": 2,
       "version_minor": 0
      },
      "text/plain": [
       "HBox(children=(FloatSlider(value=0.01, description='alpha', max=0.1, min=0.0001, step=0.001),))"
      ]
     },
     "metadata": {},
     "output_type": "display_data"
    },
    {
     "data": {
      "application/vnd.jupyter.widget-view+json": {
       "model_id": "a0a968e3f5ba4d6b92604212d8cb2a3e",
       "version_major": 2,
       "version_minor": 0
      },
      "text/plain": [
       "Output()"
      ]
     },
     "metadata": {},
     "output_type": "display_data"
    }
   ],
   "source": [
    "# создать виджет, но не отображать его\n",
    "ip = widgets.interactive(\n",
    "    linear_predictor, \n",
    "    alpha=widgets.FloatSlider(min=0.0001, max=0.1, step=0.001, value=0.01),\n",
    "    model=\"Elastic\"\n",
    ");\n",
    "\n",
    "# отображаем слайдер\n",
    "display(widgets.HBox(ip.children[:1]))\n",
    "\n",
    "# отображаем вывод функции\n",
    "display(ip.children[-1])\n",
    "ip.update() # чтобы функция запустилась до первого изменения слайдеров"
   ]
  },
  {
   "cell_type": "markdown",
   "metadata": {
    "id": "bmql4Zo0bYk8"
   },
   "source": [
    "## Сравнение моделей"
   ]
  },
  {
   "cell_type": "markdown",
   "metadata": {
    "id": "fqJqE8sLc5qF"
   },
   "source": [
    "Рассмотрим графики зависимости значений параметров моделей от параметра регуляризации."
   ]
  },
  {
   "cell_type": "code",
   "execution_count": 42,
   "metadata": {
    "ExecuteTime": {
     "end_time": "2022-09-16T14:13:24.160120Z",
     "start_time": "2022-09-16T14:13:24.153525Z"
    },
    "executionInfo": {
     "elapsed": 394,
     "status": "ok",
     "timestamp": 1637682429733,
     "user": {
      "displayName": "Olga Kalinichenko",
      "photoUrl": "https://lh3.googleusercontent.com/a/default-user=s64",
      "userId": "04538296743265563342"
     },
     "user_tz": -180
    },
    "id": "9QzlSOCXbbf6"
   },
   "outputs": [],
   "source": [
    "def draw_track(model, X, y, log_min, log_max, num, title='', figsize=(12, 6)):\n",
    "    \"\"\"Данная функция строит график зависимости значений \n",
    "    коэффициентов модели от параметра регуляризации.\n",
    "    \n",
    "    :param model: модель\n",
    "    :param X: регрессоры\n",
    "    :param y: отклик\n",
    "    :param log_min: десятичный логарифм \n",
    "        минимального значения коэффициента регуляризации\n",
    "    :param log_max: десятичный логарифм \n",
    "        максимального значения коэффициента регуляризации\n",
    "    :param num: количество элементов в сетке для коэффициента регуляризации\n",
    "    :param title: заголовок графика\n",
    "    :param figsize: размер полотна\n",
    "    \"\"\"\n",
    "    \n",
    "    alphas = np.logspace(log_min, log_max, num)   \n",
    "    coefs = []\n",
    "    for a in alphas:\n",
    "        if 'l1_ratio' in model.get_params():\n",
    "            # равномерно распределим alpha по обоим коэффициентам\n",
    "            a *= 3/2\n",
    "            model.set_params(alpha=a)\n",
    "        else:\n",
    "            model.set_params(alpha=a)\n",
    "        model.fit(X, y)\n",
    "        coefs.append(model.coef_)\n",
    "\n",
    "    plt.figure(figsize=figsize)\n",
    "    ax = plt.gca()\n",
    "#     ax.hlines(0, 10 ** log_min, 10 ** log_max, linewidth=15, alpha=0.15)\n",
    "    ind = 1\n",
    "    for coef in np.array(coefs).T:\n",
    "        label = r'$\\theta_{' + str(ind) + '}$'\n",
    "        ax.plot(alphas, coef, linewidth=2, label=label)\n",
    "        ind += 1\n",
    "        \n",
    "    ax.set_xscale('log')\n",
    "#     ax.set_xlim(ax.get_xlim()[::-1])  # reverse axis\n",
    "    plt.xlabel('alpha', fontsize=19)\n",
    "    plt.ylabel('weights', fontsize=19)\n",
    "    plt.title(title, fontsize=22)\n",
    "    plt.legend(loc='upper left', fontsize=15)\n",
    "    plt.axis('tight')\n",
    "    plt.show()"
   ]
  },
  {
   "cell_type": "code",
   "execution_count": 43,
   "metadata": {
    "ExecuteTime": {
     "end_time": "2022-09-16T14:13:26.640053Z",
     "start_time": "2022-09-16T14:13:24.397889Z"
    },
    "colab": {
     "base_uri": "https://localhost:8080/",
     "height": 1000
    },
    "executionInfo": {
     "elapsed": 4669,
     "status": "ok",
     "timestamp": 1637682435703,
     "user": {
      "displayName": "Olga Kalinichenko",
      "photoUrl": "https://lh3.googleusercontent.com/a/default-user=s64",
      "userId": "04538296743265563342"
     },
     "user_tz": -180
    },
    "id": "XCXYozvhbf_Z",
    "outputId": "f4ab1d16-dc47-41f8-b76a-cdc3529620e5",
    "scrolled": false
   },
   "outputs": [
    {
     "data": {
      "image/png": "[encoded data removed]",
      "text/plain": [
       "<Figure size 864x432 with 1 Axes>"
      ]
     },
     "metadata": {
      "needs_background": "light"
     },
     "output_type": "display_data"
    },
    {
     "data": {
      "image/png": "[encoded data removed]",
      "text/plain": [
       "<Figure size 864x432 with 1 Axes>"
      ]
     },
     "metadata": {
      "needs_background": "light"
     },
     "output_type": "display_data"
    },
    {
     "data": {
      "image/png": "[encoded data removed]",
      "text/plain": [
       "<Figure size 864x432 with 1 Axes>"
      ]
     },
     "metadata": {
      "needs_background": "light"
     },
     "output_type": "display_data"
    }
   ],
   "source": [
    "draw_track(Ridge(fit_intercept=False), X, y, -1.5, 5, 200, \n",
    "           title='Ridge')\n",
    "draw_track(Lasso(fit_intercept=False), X, y, -2, 2.5, 200, \n",
    "           title='Lasso')\n",
    "draw_track(ElasticNet(fit_intercept=False, l1_ratio=1/3), X, y, -2, 2, 200, \n",
    "           title='ElasticNet')"
   ]
  },
  {
   "cell_type": "markdown",
   "metadata": {
    "id": "ZLjg--Fac3f-"
   },
   "source": [
    "Из графиков выше можно сделать вывод, что при высоких значениях коэффициента регуляризации модели не учатся и все коээфициенты зануляются.  Также важно заметить, что Lasso при высоких значениях коэффициента регуляризации склонна занулять параметры, но в отличие от других моделей она **отбирает** определенные признаки начиная с некоторого значения коэффициента регуляризации. Другими словами, с ослаблением регуляризации Lasso присваивает ненулевые значения лишь каким-то конкретным признакам, которые считает наиболее важными. "
   ]
  }
 ],
 "metadata": {
  "colab": {
   "collapsed_sections": [],
   "name": "2. Регуляризация.ipynb",
   "provenance": []
  },
  "kernelspec": {
   "display_name": "Python 3",
   "language": "python",
   "name": "python3"
  },
  "language_info": {
   "codemirror_mode": {
    "name": "ipython",
    "version": 3
   },
   "file_extension": ".py",
   "mimetype": "text/x-python",
   "name": "python",
   "nbconvert_exporter": "python",
   "pygments_lexer": "ipython3",
   "version": "3.8.10"
  },
  "varInspector": {
   "cols": {
    "lenName": 16,
    "lenType": 16,
    "lenVar": 40
   },
   "kernels_config": {
    "python": {
     "delete_cmd_postfix": "",
     "delete_cmd_prefix": "del ",
     "library": "var_list.py",
     "varRefreshCmd": "print(var_dic_list())"
    },
    "r": {
     "delete_cmd_postfix": ") ",
     "delete_cmd_prefix": "rm(",
     "library": "var_list.r",
     "varRefreshCmd": "cat(var_dic_list()) "
    }
   },
   "types_to_exclude": [
    "module",
    "function",
    "builtin_function_or_method",
    "instance",
    "_Feature"
   ],
   "window_display": false
  },
  "widgets": {
   "application/vnd.jupyter.widget-state+json": {
    "0e1377d5ef2043b69c614c533fd11caa": {
     "model_module": "@jupyter-widgets/base",
     "model_module_version": "1.2.0",
     "model_name": "LayoutModel",
     "state": {
      "_model_module": "@jupyter-widgets/base",
      "_model_module_version": "1.2.0",
      "_model_name": "LayoutModel",
      "_view_count": null,
      "_view_module": "@jupyter-widgets/base",
      "_view_module_version": "1.2.0",
      "_view_name": "LayoutView",
      "align_content": null,
      "align_items": null,
      "align_self": null,
      "border": null,
      "bottom": null,
      "display": null,
      "flex": null,
      "flex_flow": null,
      "grid_area": null,
      "grid_auto_columns": null,
      "grid_auto_flow": null,
      "grid_auto_rows": null,
      "grid_column": null,
      "grid_gap": null,
      "grid_row": null,
      "grid_template_areas": null,
      "grid_template_columns": null,
      "grid_template_rows": null,
      "height": null,
      "justify_content": null,
      "justify_items": null,
      "left": null,
      "margin": null,
      "max_height": null,
      "max_width": null,
      "min_height": null,
      "min_width": null,
      "object_fit": null,
      "object_position": null,
      "order": null,
      "overflow": null,
      "overflow_x": null,
      "overflow_y": null,
      "padding": null,
      "right": null,
      "top": null,
      "visibility": null,
      "width": null
     }
    },
    "357afdb24fd245c1a07efbd2baed4ead": {
     "model_module": "@jupyter-widgets/base",
     "model_module_version": "1.2.0",
     "model_name": "LayoutModel",
     "state": {
      "_model_module": "@jupyter-widgets/base",
      "_model_module_version": "1.2.0",
      "_model_name": "LayoutModel",
      "_view_count": null,
      "_view_module": "@jupyter-widgets/base",
      "_view_module_version": "1.2.0",
      "_view_name": "LayoutView",
      "align_content": null,
      "align_items": null,
      "align_self": null,
      "border": null,
      "bottom": null,
      "display": null,
      "flex": null,
      "flex_flow": null,
      "grid_area": null,
      "grid_auto_columns": null,
      "grid_auto_flow": null,
      "grid_auto_rows": null,
      "grid_column": null,
      "grid_gap": null,
      "grid_row": null,
      "grid_template_areas": null,
      "grid_template_columns": null,
      "grid_template_rows": null,
      "height": null,
      "justify_content": null,
      "justify_items": null,
      "left": null,
      "margin": null,
      "max_height": null,
      "max_width": null,
      "min_height": null,
      "min_width": null,
      "object_fit": null,
      "object_position": null,
      "order": null,
      "overflow": null,
      "overflow_x": null,
      "overflow_y": null,
      "padding": null,
      "right": null,
      "top": null,
      "visibility": null,
      "width": null
     }
    },
    "3669f5b774a9403abaa84e2ae416b2be": {
     "model_module": "@jupyter-widgets/base",
     "model_module_version": "1.2.0",
     "model_name": "LayoutModel",
     "state": {
      "_model_module": "@jupyter-widgets/base",
      "_model_module_version": "1.2.0",
      "_model_name": "LayoutModel",
      "_view_count": null,
      "_view_module": "@jupyter-widgets/base",
      "_view_module_version": "1.2.0",
      "_view_name": "LayoutView",
      "align_content": null,
      "align_items": null,
      "align_self": null,
      "border": null,
      "bottom": null,
      "display": null,
      "flex": null,
      "flex_flow": null,
      "grid_area": null,
      "grid_auto_columns": null,
      "grid_auto_flow": null,
      "grid_auto_rows": null,
      "grid_column": null,
      "grid_gap": null,
      "grid_row": null,
      "grid_template_areas": null,
      "grid_template_columns": null,
      "grid_template_rows": null,
      "height": null,
      "justify_content": null,
      "justify_items": null,
      "left": null,
      "margin": null,
      "max_height": null,
      "max_width": null,
      "min_height": null,
      "min_width": null,
      "object_fit": null,
      "object_position": null,
      "order": null,
      "overflow": null,
      "overflow_x": null,
      "overflow_y": null,
      "padding": null,
      "right": null,
      "top": null,
      "visibility": null,
      "width": null
     }
    },
    "39adb7eaa5aa4727b748ece1ac1c8c97": {
     "model_module": "@jupyter-widgets/controls",
     "model_module_version": "1.5.0",
     "model_name": "SliderStyleModel",
     "state": {
      "_model_module": "@jupyter-widgets/controls",
      "_model_module_version": "1.5.0",
      "_model_name": "SliderStyleModel",
      "_view_count": null,
      "_view_module": "@jupyter-widgets/base",
      "_view_module_version": "1.2.0",
      "_view_name": "StyleView",
      "description_width": "",
      "handle_color": null
     }
    },
    "514b6404a10a4ddfb422b049c953daa7": {
     "model_module": "@jupyter-widgets/base",
     "model_module_version": "1.2.0",
     "model_name": "LayoutModel",
     "state": {
      "_model_module": "@jupyter-widgets/base",
      "_model_module_version": "1.2.0",
      "_model_name": "LayoutModel",
      "_view_count": null,
      "_view_module": "@jupyter-widgets/base",
      "_view_module_version": "1.2.0",
      "_view_name": "LayoutView",
      "align_content": null,
      "align_items": null,
      "align_self": null,
      "border": null,
      "bottom": null,
      "display": null,
      "flex": null,
      "flex_flow": null,
      "grid_area": null,
      "grid_auto_columns": null,
      "grid_auto_flow": null,
      "grid_auto_rows": null,
      "grid_column": null,
      "grid_gap": null,
      "grid_row": null,
      "grid_template_areas": null,
      "grid_template_columns": null,
      "grid_template_rows": null,
      "height": null,
      "justify_content": null,
      "justify_items": null,
      "left": null,
      "margin": null,
      "max_height": null,
      "max_width": null,
      "min_height": null,
      "min_width": null,
      "object_fit": null,
      "object_position": null,
      "order": null,
      "overflow": null,
      "overflow_x": null,
      "overflow_y": null,
      "padding": null,
      "right": null,
      "top": null,
      "visibility": null,
      "width": null
     }
    },
    "55aa477dee294ca9ba95d1e5464ea6db": {
     "model_module": "@jupyter-widgets/controls",
     "model_module_version": "1.5.0",
     "model_name": "HBoxModel",
     "state": {
      "_dom_classes": [],
      "_model_module": "@jupyter-widgets/controls",
      "_model_module_version": "1.5.0",
      "_model_name": "HBoxModel",
      "_view_count": null,
      "_view_module": "@jupyter-widgets/controls",
      "_view_module_version": "1.5.0",
      "_view_name": "HBoxView",
      "box_style": "",
      "children": [
       "IPY_MODEL_ddc1a0a52f364a00987e93cc0dc10531"
      ],
      "layout": "IPY_MODEL_357afdb24fd245c1a07efbd2baed4ead"
     }
    },
    "5a6a4c7eaaea40caae6a7498ade135a3": {
     "model_module": "@jupyter-widgets/controls",
     "model_module_version": "1.5.0",
     "model_name": "FloatSliderModel",
     "state": {
      "_dom_classes": [],
      "_model_module": "@jupyter-widgets/controls",
      "_model_module_version": "1.5.0",
      "_model_name": "FloatSliderModel",
      "_view_count": null,
      "_view_module": "@jupyter-widgets/controls",
      "_view_module_version": "1.5.0",
      "_view_name": "FloatSliderView",
      "continuous_update": true,
      "description": "alpha",
      "description_tooltip": null,
      "disabled": false,
      "layout": "IPY_MODEL_600dc86e0a974b67ad8781c31c458345",
      "max": 0.1,
      "min": 0.0001,
      "orientation": "horizontal",
      "readout": true,
      "readout_format": ".2f",
      "step": 0.001,
      "style": "IPY_MODEL_39adb7eaa5aa4727b748ece1ac1c8c97",
      "value": 0.0991
     }
    },
    "5daeb4a3581a47429bf3b01c962d31bc": {
     "model_module": "@jupyter-widgets/base",
     "model_module_version": "1.2.0",
     "model_name": "LayoutModel",
     "state": {
      "_model_module": "@jupyter-widgets/base",
      "_model_module_version": "1.2.0",
      "_model_name": "LayoutModel",
      "_view_count": null,
      "_view_module": "@jupyter-widgets/base",
      "_view_module_version": "1.2.0",
      "_view_name": "LayoutView",
      "align_content": null,
      "align_items": null,
      "align_self": null,
      "border": null,
      "bottom": null,
      "display": null,
      "flex": null,
      "flex_flow": null,
      "grid_area": null,
      "grid_auto_columns": null,
      "grid_auto_flow": null,
      "grid_auto_rows": null,
      "grid_column": null,
      "grid_gap": null,
      "grid_row": null,
      "grid_template_areas": null,
      "grid_template_columns": null,
      "grid_template_rows": null,
      "height": null,
      "justify_content": null,
      "justify_items": null,
      "left": null,
      "margin": null,
      "max_height": null,
      "max_width": null,
      "min_height": null,
      "min_width": null,
      "object_fit": null,
      "object_position": null,
      "order": null,
      "overflow": null,
      "overflow_x": null,
      "overflow_y": null,
      "padding": null,
      "right": null,
      "top": null,
      "visibility": null,
      "width": null
     }
    },
    "600dc86e0a974b67ad8781c31c458345": {
     "model_module": "@jupyter-widgets/base",
     "model_module_version": "1.2.0",
     "model_name": "LayoutModel",
     "state": {
      "_model_module": "@jupyter-widgets/base",
      "_model_module_version": "1.2.0",
      "_model_name": "LayoutModel",
      "_view_count": null,
      "_view_module": "@jupyter-widgets/base",
      "_view_module_version": "1.2.0",
      "_view_name": "LayoutView",
      "align_content": null,
      "align_items": null,
      "align_self": null,
      "border": null,
      "bottom": null,
      "display": null,
      "flex": null,
      "flex_flow": null,
      "grid_area": null,
      "grid_auto_columns": null,
      "grid_auto_flow": null,
      "grid_auto_rows": null,
      "grid_column": null,
      "grid_gap": null,
      "grid_row": null,
      "grid_template_areas": null,
      "grid_template_columns": null,
      "grid_template_rows": null,
      "height": null,
      "justify_content": null,
      "justify_items": null,
      "left": null,
      "margin": null,
      "max_height": null,
      "max_width": null,
      "min_height": null,
      "min_width": null,
      "object_fit": null,
      "object_position": null,
      "order": null,
      "overflow": null,
      "overflow_x": null,
      "overflow_y": null,
      "padding": null,
      "right": null,
      "top": null,
      "visibility": null,
      "width": null
     }
    },
    "6081fcbf27de44d2b6bf1aeb3854a0da": {
     "model_module": "@jupyter-widgets/controls",
     "model_module_version": "1.5.0",
     "model_name": "SliderStyleModel",
     "state": {
      "_model_module": "@jupyter-widgets/controls",
      "_model_module_version": "1.5.0",
      "_model_name": "SliderStyleModel",
      "_view_count": null,
      "_view_module": "@jupyter-widgets/base",
      "_view_module_version": "1.2.0",
      "_view_name": "StyleView",
      "description_width": "",
      "handle_color": null
     }
    },
    "6801f58bd51547218832ac0ed793a369": {
     "model_module": "@jupyter-widgets/base",
     "model_module_version": "1.2.0",
     "model_name": "LayoutModel",
     "state": {
      "_model_module": "@jupyter-widgets/base",
      "_model_module_version": "1.2.0",
      "_model_name": "LayoutModel",
      "_view_count": null,
      "_view_module": "@jupyter-widgets/base",
      "_view_module_version": "1.2.0",
      "_view_name": "LayoutView",
      "align_content": null,
      "align_items": null,
      "align_self": null,
      "border": null,
      "bottom": null,
      "display": null,
      "flex": null,
      "flex_flow": null,
      "grid_area": null,
      "grid_auto_columns": null,
      "grid_auto_flow": null,
      "grid_auto_rows": null,
      "grid_column": null,
      "grid_gap": null,
      "grid_row": null,
      "grid_template_areas": null,
      "grid_template_columns": null,
      "grid_template_rows": null,
      "height": null,
      "justify_content": null,
      "justify_items": null,
      "left": null,
      "margin": null,
      "max_height": null,
      "max_width": null,
      "min_height": null,
      "min_width": null,
      "object_fit": null,
      "object_position": null,
      "order": null,
      "overflow": null,
      "overflow_x": null,
      "overflow_y": null,
      "padding": null,
      "right": null,
      "top": null,
      "visibility": null,
      "width": null
     }
    },
    "6878109f38b84ace861781e7c934018d": {
     "model_module": "@jupyter-widgets/output",
     "model_module_version": "1.0.0",
     "model_name": "OutputModel",
     "state": {
      "_dom_classes": [],
      "_model_module": "@jupyter-widgets/output",
      "_model_module_version": "1.0.0",
      "_model_name": "OutputModel",
      "_view_count": null,
      "_view_module": "@jupyter-widgets/output",
      "_view_module_version": "1.0.0",
      "_view_name": "OutputView",
      "layout": "IPY_MODEL_d7ef2a7202a4423b9017f4ca6995df2f",
      "msg_id": "",
      "outputs": [
       {
        "data": {
         "image/png": "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\n",
         "text/plain": "<Figure size 1008x360 with 1 Axes>"
        },
        "metadata": {
         "needs_background": "light"
        },
        "output_type": "display_data"
       }
      ]
     }
    },
    "7181846ccd39432991689c4497113fb2": {
     "model_module": "@jupyter-widgets/controls",
     "model_module_version": "1.5.0",
     "model_name": "FloatSliderModel",
     "state": {
      "_dom_classes": [],
      "_model_module": "@jupyter-widgets/controls",
      "_model_module_version": "1.5.0",
      "_model_name": "FloatSliderModel",
      "_view_count": null,
      "_view_module": "@jupyter-widgets/controls",
      "_view_module_version": "1.5.0",
      "_view_name": "FloatSliderView",
      "continuous_update": true,
      "description": "alpha",
      "description_tooltip": null,
      "disabled": false,
      "layout": "IPY_MODEL_3669f5b774a9403abaa84e2ae416b2be",
      "max": 10,
      "min": 0.0001,
      "orientation": "horizontal",
      "readout": true,
      "readout_format": ".2f",
      "step": 0.01,
      "style": "IPY_MODEL_6081fcbf27de44d2b6bf1aeb3854a0da",
      "value": 9.9901
     }
    },
    "8a43b57d48044df2a7de0663493276f7": {
     "model_module": "@jupyter-widgets/output",
     "model_module_version": "1.0.0",
     "model_name": "OutputModel",
     "state": {
      "_dom_classes": [],
      "_model_module": "@jupyter-widgets/output",
      "_model_module_version": "1.0.0",
      "_model_name": "OutputModel",
      "_view_count": null,
      "_view_module": "@jupyter-widgets/output",
      "_view_module_version": "1.0.0",
      "_view_name": "OutputView",
      "layout": "IPY_MODEL_6801f58bd51547218832ac0ed793a369",
      "msg_id": "",
      "outputs": [
       {
        "data": {
         "image/png": "iVBORw0KGgoAAAANSUhEUgAAA18AAAFpCAYAAABj+pLwAAAABHNCSVQICAgIfAhkiAAAAAlwSFlzAAALEgAACxIB0t1+/AAAADh0RVh0U29mdHdhcmUAbWF0cGxvdGxpYiB2ZXJzaW9uMy4yLjIsIGh0dHA6Ly9tYXRwbG90bGliLm9yZy+WH4yJAAAgAElEQVR4nOydZ5gUxdaA39lZ2ExGoldUsAyIYAIVA5gwRzCLiIgYMNyrn+GaL+o1K6KgIqiYEEURAcGMgkoyYwlKlCCZXZbN8/2omWXibu+yy5zlnvd5eAa6q6vf6p4Z+kxVnfIFAgEURVEURVEURVGU2iUl2QKKoiiKoiiKoij/C2jwpSiKoiiKoiiKsgPQ4EtRFEVRFEVRFGUHoMGXoiiKoiiKoijKDkCDL0VRFEVRFEVRlB2ABl+KoiiKoiiKoig7gNRkCyiKoiiKooQwxqQAhwFdgX8A2cE/edbaK5LppiiKsr34dJ0vRVGkYIxZDOxWhUP6WWtH14qMotQRgsFKN+BkoCewDy5YWQ/MAZ631r5XSR29gJuAg4F04E/gDeBRa21h7dnHeJwOPAW0i7N7PbC7tXbzjvJRFEWpabTnS1EUiXwErKpgfy+gxQ5yURTp7AF8Hfz7euA7YENw+0nAScaY0cDl1tqYX1yNMbcA/wVKgc+Dxx4N/Ac41RhzrLU2v5bbgDHmMuAloBh4EBgD/G6tLantcyuKouwoNPhSFEUiD1lrP0+00xjzORp8KUqIAPAp8AgwzVpbGtphjDka+BC4DPgSGBV+oDHmYOAhIB/oaa39Nrg9O3jcUcAQ4MbabIAxZnfgOWAjcIK1dnZtnk9RFCVZaMINRVEURanDWGv/sNYea62dEh54Bfd9gQuuAC6Oc/itgA/4byjwCh6XB/QDyoCrjTGNase+nOtxwx0HaeClKMrOjPZ8KYqy02CMuQe4G7gXeBm4HzgeaAj8gRvS9FSiYUzGmK64X/i7A7sAm4CZwMPW2q8qOO9ooG8Favdaa++Jc1w93APuBcABQBawGvgReMNa+1pY2c9xQ8F6hPcKGmP8uOFZ5wNTgTOstQVh9Z+Pmwt0INAa8AOLgQ9wD9zro5xSgeFAZ1yyg0bAOmAB7vq9Yq0tizrmHOAUXIKENriH6OW44aMPWWuXxWl73PaE7b8M10vzsrX2ssq2B/elAT8BHQCstb449Z4FDApej8bE/gjpeR7hdrShyvdlO5kXfG0b5VcfNywR4DWisNb+aYyZCRwRdH3d6wmNMVnADUAfoH1w8wJgLPBknGGMJ+N635YbY97GfQab4nrCZgJPRL3v2wGL4pz6C2vtMV49g3XtCvwLN5z5H7hhjz8BL+DuXSCq/OdU4bMYVt4L5f7GmObAhbh7ZIBWQCEwH3gVGB7Vy+kDJgXb8aK1dkCUdwowDTcvcJi19lqPToqi1CDa86Uoys7I7sBsoAduDstnuPkvjwJvBx9CIjDG/BP3kNcHN9/sfWAhLqj4whgzIPqYOHyNC/pCf35IVNAY0xj4AhiBy+w2D3gX90B5BG6oV4UE2/EK7mFvGmGBV5AWwf0n4gKoScFzNgduAWYZY5pFVZsKXIr7/2Em8DbwM3AoLpB4IY7KW7jrtgX4OOiSBlwNzDXG7FVZW2qImwkGXvEwxgzEXePjccHhWLbdqz92hGCQ6tyX7SF0TVZGbTdAJrDeWpuo/bOCr128nizoPhM3Z2xXXBD+ES6ZzhBghjGmSdRhbYF6uOtwLvAXMA73GTwd+MwY86+w8nlEftY+8uoX5doDF2gNxr3npwDfAp0IBs4e66noszglyjW8zujtU8L2nQg8CeyH+14YD8zF/TDyDPBOMOACIBgkXoK7dlcYYy6I0rwLF3jNA/7ppV2KotQ82vOlKMrOyKXAO8DFYb1AHXBB2JnAVcCzocLGmJNwgdkK4Ozw4VfGmCNwD8fDjDFfWGt/j3O+UDD3YnivSbAn7oAEjqNwQddM4Fxr7Yqw49JxgWNCgg97o3G/jH9CbOAFrufudGCKtbY47NgMYBiu1+1+XE8QAMFf6nOiM9wFewdmA5cZY26Myjh3ITAxvDcj2IN2N/BvXPa6k6hFgj0htwNLcb0X8bgl+Pp/1tqHo44fDexZW35RVPm+VBdjTCYusAD3mQhn9+Dr0gqqCO3bvYIy0TwL7A9MB0631m4MujQGJgKH49oZHhxkBF8DwEXW2vJeNmPMqbig+WFjzExr7dfW2rW4eWyhMsfgghXPGGNa4a5JdrCuV0K9XMH3+wTgEmPMpxX1hlb2WbTWPhTnmL7BfZdF7wtjDtAt/PsozHsScAbuR4+3ws61Nhh0fQaMMMbMttYuMMb0BO4EcoE+OzKDpaIokWjPl6IoOyP5wNVRD0ALcA8fEJs84J7g6xXRDzrW2q9xD8L1gIEJzpcefC1OsD8CY0xn3INTLu5BbUX4fmttgbV2cgXHp+CGAF6Ce8g6zVq7NbqctTbXWvtB+AN+cPtW4FqgBDgnznHxHszCh2pGDDu01o6NHkZmrS2x1t6JC2hPMMbkJGpPDfEU7gG+osQQbYKvb9eyS4VU975Uk2dxgdOvwPNR+7KDr1sqOD4v+Orp/hljdsP1XJUBA0KBF4C1dgMwILivTzDAieat8MAreNxEYCRublpN9tjcgBt6+pi1NmJ4YXCobKi3+7pEFXj9LFYHa+386O+j4PaVbPsh4dw4+6fjerlygLeMMf/ADStNwd2ThTXhpyhK9dCeL0VRdkamWWv/jrP9deBFoL0xpo219q/gEKlDgc24eRrx+CL4eliC/VnBV6/puHsFXydYa9d4PCaEDzf0ry9uqNyplT3sGWO6AMfi1k7KCtYBUAQ0N8Y0Dj4Yhx/TEBfQ+HDD5I7EDVF7JJiMIfocewXb1R73UB/6cS81+Pf2bJt7VKMYY07B9SR9ZK191xiTqOifuDWwzselMk8q1bkvVaz/Ttz7ZBM7rrfjSFw7ZlprbfROa+2vxphvcZ+lo4idazYq+pggI3E91hX2CFeRk4OviYLxObjgs7MxJj1Oz3KVP4tVJdiD3BN3vVrifujxsS0YTjSk90Hc9T0RN4e0ITDCWvtWgvKKouwgNPhSFGVnJN5EfKy1hcaYlbgekLa4uRGh4VQNgJIKHtzBzcmJR6hHZZ1Hv9BC0r95LB/OI8BBwb/vgRvC9XG8gsF04a/hApOKaIBb2ymcDCKTiOQD11trn446Ryqud+UKtgUPic4Rj88queYVEhyi+TQuEUHCHoog9+GuxwPBoVm/BI8Dl+ChulSpDdt5X7ye4yZce/OAk6y1v8QpFgqis+LsCxHqHcv1eOrQZyHuZzDIn7hgok2CffEIzUlrZIzJrGDdsaONMeEJMrbgEn2MBx6P+uFgj+DrLA/3rynu+yIcz5/F6hD8QeM93A8GiYj7ubLWBowxl+DuQ0Ncz+cNNeWmKEr10eBLUZT/dfzB1024B52KWBu9ITjsKBTAVfTAGU7MQrdV4CBcYo9HcA+Uo40xnRJkx3sQ94D/Ky6l+GxgbWi4mzFmBS6DWkzQZK1dBfiCwdWuwJXAU8aYva21V4cVvR43PGsFcBMwA/g71MtijJmBe9BOFJglWlC7PS7xSGXcinvw/U9waGlCrLVvGmMW4xJznI2bl1QTVLUN1b4vXjDGXAc8BmzF9cbMTFB0cfA10Rw5cPc+vKxXqvoe38q2eV/bw2q2Ja1IwfXaHoXLgHqaMebwsOGeoc/+W0B0r1Y08XoNq/JZrA7jcIHXBOBhXJbDTdba0mBgZqn4PXIm2wLrtrhgd0cmllEUJQ4afCmKsjPSLt7GYGrtVsF/hn7FDqVBL65k8nsi9sH9+rw6Xkr1BISSGFSny+cbXE9GrjHmCVzAMwLoHadsaNt51tqfw3cEU4G3rOxk1qXlXwTcFnzgG2SM+dBa+2HUOQYG5+ZE0z7OtnDiLqgdTNNeYfBljNkD+D9cYPBAJecBwFr7jTFmefCfT1trrw/WNZqKlwuoiKq2YbvvSyKMMdfgegILcMkuvqig+G+4oKeJMWbPBBkPDw2+eh0yGvpc7VFBmdC+8J6kv3DvlT1wGQ4THbOxgl4vgN+iP8fBuWWzgINxiV8mBHctC57z/gQ9g5VRlc9ilTDG7I37ceBvXBKg0qgiFX6ujDEdccOGi3DDKi/Czf863FpbtL1+iqJUH024oSjKzsgJCVJ1X4D73vvDWrscwFr7Fy7VdLNgxrSqEkqMUJVU16GyZ1Qjpfjt1trQELDbcfM5zg0+6EcTSucdLyi8kKr3rITm0XX0cg5jzPEkHqpZEzyNmwNzg9e5NsaYE3HDE3/BBW7JoKbvCwDGmKtwKcgLgTOttRUOgQs+hIcSu1wUp749cL2WRcCH0fsTMB3X69Ut3hIDxph9cOvBlQFfhu0K/f2yBPVeHnz9zKNHOcEfRWYE/7lb2K5Q26sbLFXls1hVQu+RFXECL4hzv0IEA/ixuJ7E/8Nlf/0M11P3SA24KYqyHWjwpSjKzkgmLjV8WmiDMWZPXNZCcL8IhxPKgjjGGHNCdGXGGL8xpqcxplvU9l3ZNs/oOa9y1tp5uMV0c4DxwdTR4fWmB9PfxyM8I1sh7iGsAHjaGBOdDjw0pyx8mCDGmINJkHDCOFrH2X4U2x74fo1zjkEmbP204PUenqANNcGxuDXYJllr3/dygHGL1o7GBRMXxkmgsKOo8n2pDOPWoXsWF3idZa31+mPAQ7j31P8ZY0K9XKF5aS/hnhOeDc9aWBHW2iW49O0puFTnDcPqbITrGUoBxkb1FA8DSoHzjDF9otp2Em5OYQA3nLJKBD+noR7IJWG7HsEl2rndGHNNcIht9LH7GWPOTlB1VT6LVWUBLkDtGPzshTuFFmZPxDCCwxWttU9atyj6RbgfTwYbY87YTjdFUbYDHXaoKMrOyKu4B/M/jDFf44KcHrhekg9wDyflWGvfN26R5YeBj4wxv+PmU+ThhoB1ARrh1l36BsAY8yhuPaYmuEn9VwV7HsLpHHw90xjTLmo41GW4uSndgT+NMV8Ba4DWuLXBNpFg+GSU+8/GmFtxi7GOMcYcFfZL+X24IUcPGGPOw80ZaR0855u4B9Ldoqo8CXjMGPM9rmemCLdIb6gtk4jsBXkQl+VwINDDGDMveE2Oxq1htgqXiKCmaYt70B1cWcEwRuLu5z+ttT/WgpNXqnNfEmLc0gUjcD1mi3ABzHlxiq611oYvVIy1dlbw/fNf3OLHnwIbcfdvF9yCw3dUrXkMAvYGjsG9tz8Pbu+BS+3+A3BNlMdc4xZRfhw3PO5m4HfcZ+BwXKBzS3Dph4rYOziEFCLnfKXj5taVL+FgrV1mjDkTN7fqGeAOY8wvuCClEW7Y3664OWHvVtboSj6LVcJau8YY8yxu6YHPjDFf4D5L++N6nh8Ebos+zrj1w/rihjb3C6tvZTABxxRglDGmSzBQVhRlB6M9X4qi7Iz8CRwCfIV74DsWNy/oFuCc4C/BEVhrH8cNyxmJm4h/PHAa7iH/S1xSibFhh5zLtqFBWbgHnug/oQWWDyBqPlFwUv6RuJ6zubi5NWfjkndMxyVi8MrTuDT5h+OGP4XOMS7Y/s9wD5Gn4ean3YBblyge03Ep+bNxKa7Pxk3U/wR3DU4Pv37BZA6H4AKyhrj1y9oCQ3Bprj2tfVZNHk4wTykGY8wgXPs/AZ6oRadKqeZ9qYhGbBuquDfx34t9ibMmVNDnYVzQ/RnuXp6GSy7zb+DoSuZYxatvLW644p24uVwnBf8swwVyR8RLSmGtfRJ3Xd7HBZ99cIH/+0APa+2jHk7fgm3tvQQX0Fpcwo2ecdZW+wzYDzdn8G+gG24o8X6475HbqFrwGfezWE2uxyW6+QH3/XASLqHIScSu2RaaJzYMt07cBdHX2Fo7FRdkNwbejNfTpyhK7eMLBLYn6ZaiKIocjDH3AHcD91pr76nlcy0GFltrj/HqZa2t1lweRVEURVF2DrTnS1EURVEURVEUZQegXc6KoijV419sW6S2Mt6j6uskKYqiKIqyk6HBl6IoSjUIztvxWvZ74Pta1FEURVEUpQ6gc74URVEURVEURVF2ANrz5Z00XBaolbi1SBRFURRFURRFUaLxA62AWbj1F8vR4Ms7h+BSMCuKoiiKoiiKolTGkbhlb8rR4Ms7KwE2bNhCWZmMoZoNGmSwefPWZGtEINEJZHqpk3ckeqmTdyR6SXQCmV7q5B2JXhKdQKaXOnlHopckp5QUH40bZ0EwfghH53x5px2waN26PDHBV2pqCiUlMWvFJhWJTiDTS528I9FLnbwj0UuiE8j0UifvSPSS6AQyvdTJOxK9JDmlpPho2jQbYHeish3rOl91GImBs0QnkOmlTt6R6KVO3pHoJdEJZHqpk3ckekl0Aple6uQdiV4SneKhwVcdpkGDzGQrxCDRCWR6qZN3JHqpk3ckekl0Aple6uQdiV4SnUCmlzp5R6KXRKd46LBD77RD2LBDRVEURVEURVFkocMOd1IyM+snWyEGiU4g00udvCPRS528I9FLohPI9FIn70j0kugEMr3UyTsSvSQ6xUODL0VRFEVRFEVRlB2ADjv0Tjt02KGiKIqiKIqiKBVQ0bBDXeerDtO4cRYbNmxJtkYEEp1Appc6eUeilzp5R5JX2qdjyXr5XlLWLKeseVu29L2bwp59kq1VjqRrFUKKU0lJMVu2bKawcCtQJvKH0JQUnzgviU4g00udvCPRqzadUlL8pKVlkJXVgNTUettVl/Z8eacdwnq+/H4fpaUyXEJIdAKZXurkHYle6uQdKV5pn44l5+nr8BVuW4QzkJZB7uChYgIwKdcqHAlOJSXFrF+/mszMHNLTs/D7/fh8vqQ6KYryv0EgEKC0tJSCgi3k5+fSpEmLSgMwTbixkyLxPx6JTiDTS528I9FLnbwjxSvr5XsjAi8AX+FWsl6+N0lGsUi5VuFIcNqyZTOZmTlkZzckNTVVhJOiKP8b+Hw+UlNTyc5uSGZmDlu2bN6u+jT4qsNkZ6cnWyEGiU4g00udvCPRS528I8UrZc3yKm1PBlKuVTgSnAoLt5KenlX+b79f5uOLRC+JTiDTS528I9FrRzilp2cFhz5XH3lXTvHMxo35yVaIQaITyPRSJ+9I9FIn70jxKmvetkrbk4GUaxWOBKeyslL8fn/5v0tLy5JokxiJXhKdQKaXOnlHoteOcPL7/ZSVlW5XHRp81WGystKSrRCDRCeQ6aVO3pHopU7ekeK1pe/dBNIyIrYF0jLY0vfuJBnFIuVahSPFKXyoYUqKzGGHEr0kOoFML3XyjkSvHeFUE0OeNdthHaasTN6vDhKdQKaXOnlHopc6eUeKVyiphuRsh1KuVTgSnaTmCpPoJdEJZHqpk3ckekl0ikfSsx0aY5oA9wJdcRkFGwIrgDnAg9baOXGOOQe4Bdgf2Ap8Atxqrf0zwTkGAtcAHYBNwETgdmvt31VQbYewbIeKoiiK8r/AqlVLaNlyt2RrKIqiePo+kp7tcBfgMmADMA54HJgJnAR8Z4zpHV7YGHNVsFwbYDjwHnAq8K0xZvfoyo0xDwXLpQFDgU+D5/vaGNO4Vlq0g2jSJKvyQjsYiU4g00udvCPRS528I9FLohPI9JLoJHGyP8j0kugEMr3UyTsSvSQ6xUPCsMOFQGNrbUn4RmPM3sA84CHg7eC25sCjwCrgwFDPlTHmVVxQ9RhwdlgdHYGbgZ+Abtba/OD2KcDLwJ3ATbXZuNpEwiToaCQ6gUwvdfKORC918o5EL4lOINNLopPEyf5Q814rV66gd+/TPZW9/fa7Ofnk02rdqaaQ6KVO3pHoJdEpHkkPvqKDrrDtvxlj5gMHGGN81toA0AfIAv4TPmTQWvu5MeZj4HRjTDNr7drgrr643r0HQoFXsPwrxpg7gEuNMbckcpCO35+y3RlXahqJTiDTS528I9FLnbwj0UuiE8j0kujk88mc31FbXu3a7U6PHsfF3Td//i98882MHe60vUj0UifvSPSS6BSPpAdfiTDGtAP2AuYHAy+AI4Ovn8Q55GPgeOBwYIKH8p8Ag4B9gR9rQHmHk5lZn02btm+tgZpGohPI9FIn70j0UifvSPSS6AQyvSQ6paT4KC2V95RVW17t2u1O//4D4+575523Kgy+/teu1fagTt6R6CXRKR5igi9jTGvgSsAP7AqcCQSA68KKtQ++/hGnij+iyoT+nmutXVNJ+ToZfEn7zxBkOoFML3XyjkQvdfKORC+JTiDTS6KT1AcsSV7dux9M584HcvvtdzN06BPMmzeb0tIyunQ5kKuvvp527WKmybN06WJGjx7JnDmz2Lx5E02bNqNHj+Po1+8KMjNj5/7NnTubwYOvinv+zp0P5Jlnno/ZPmvWN7z11uvMn/8LW7dupWnTZnTpchCXXNKPXXf9BwDXXnsl338/l6++ml1+XCAQ4L777mTatCkMHnwTffpcCEBxcTHvvfcOX331JUuWLGLjxg00btyEQw/txhVXXEXz5rtEnP/555/lm29msGrVSgoKttKsWXMOO+wILrmkH82aNQ+7FkuYMGE8s2Z9y+rVKykuLqZt239wyimn07v3+TEpx0PXO16b47Vn5MgRjBr1Ak8/PZwDDzw44h5ccsl5lJaWxgwlLSgo4M03x/Dxx1NZvXoVW7dGDgkOrz8RQ4bcw+TJE/H7/bzzzsSINgO88cYYhg17EiDGrbi4mDffHMNHH01mxYrlpKWls//+nbjssivYd9+OFZ4vHvGGyhYWFvLWW68xbdoU/vrrL+rXr0+nTgfQv/9VuBlJkVQ0NLdly1aMG/dB+b/j3QeAiRPf46GH/gPA229PoFWr1nHrqykkzUxrDdwN/Bs3XLAIONta+1lYmQbB181xjg9taxhVPl7ZROUrJSOjHgCNG2fh9/tITU2hUaNMwK2FEtrfpEkWKSk+6tXz07ChW1cmOzuN9HS3v2nTbHw+qF/fT4MGbn9OTjppaS4ebt48B4C0tFRyctJdYxpkUL++H5/PHR+qLzvbrcHSsGEG9er5SUnxlU+QzsioV75GS6NGmaSmpuD3+2jc2O3PzKxPZmb9GmtTdnbadrUJqJU25eSkJ+0+JWpTdnZa0u5TojZlZ6cl9T4lalOzZtlJu0+J2tS0aVbS7lOiNjVpkpXU+5SoTaG/J+M+JWpTyF/Cd3l4m0LXK9nf5eFtys5OS/p3efj6PX5/CikpPlJSfOUPwKGJ9j4f+P2+8mPi7Q/V5fa7OlNTK96/7Xhf+X6/P3a/3x++f9sjVujvIe+K9kc7h85b0f4Q4c4AubmbueaaAWzatIEzzzyXww47nG++mcHVV1/BihXLI9r0ww/fc8UVl/L555/SuXMXevc+n113/QdvvPEqgwcPoqioKK4zQJcuB9Gv3wD697+Sfv0GJHR+441XuPHGa/nll5/o3v0o+vS5kP3378SMGV/x008/RNyn6DY9/vjDTJs2hX79BnDeeReWX8e8vM0888wTABx11DH06XMBe+yxJ5MmfcBVV11OXt7miPu0YIGldes2nHTSKfTpcyF77LEn48eP49prryQQKC0/55dffsaUKRNp164dp512FieffDqFhQU8/fRjPPnkI9W6TxW/t9z2YcOeorR02zDfbe9NH4899iAvvjgcCHDGGWeVX/OWLVtF1F/Zey/Ehx9OiHnvffDB+PIFzcM/TxDgttv+yYgRw/D7U+jd+wKOPvoY5s6dzTXXDOC772bG/TyFtvXpcwGXXz6Afv0GcNRRx8RcE7/fR1FRAddfP4jnn3+W7OxszjrrXI4+ugc//DCPQYP688MP3ydsU4cOe3H55VeWX5Ps7OyIexJ5Tbbdh4KCAl54YXjYPaz8OyJUZ2Xfe4kQ0/NlrZ0N+Iwx9YE9gX8Ck40x11prh1d89I5j69ZiADZs2BLcEiifjLxlS2F5ufXr3f6ystLyXw3z8rbtX7cuD4CiolKKitz+3NyC8v1r1uQCUFhYQmGhm5K2efPWiOPT0+tRUFBcvi3818nQ+UO+EDlpOuSfn18Us2172pSeXm+72gTUSpuKi0vLXXb0fUrUJr8/hby85NynRG3y+XxJvU+J2pSXV0hZWSAp9ylRm7ZsKaKkpKzabaqN915+fhFFRaXVblNtvfdCD/XJuE+J2hRaMkTCd3l4m9LT60XUn6zv8vA2Rf9fk4zviPAlXkpLy/D5fIQvlROaaB8IbOt9ij4mtD90XPj+0Gc50f5txwfK55SE93KF9peVbTs+fPL/tv2xx3jZX5FTONFL4fzxx0JOPfUMbr31zvJtkydPZMiQexg69EkefPBRAoEARUXF3HvvHdSrV4+RI8eU90ABvPXWawwd+gRvv/0GF13UN+L8oTXgunQ5iMsvv7J836hRL8Q4W/sbzz33DG3atOXZZ1+kWbPm5WWKi4vJy8uLuE/hbXr++WcZP/5tzj33fPr3Hxhxn7KycnjnnQ9p1qxZRNunTZvCvff+m3HjxnLZZVeUOz/yyFMx1+3FF4czevSLWGvZe+99KSsL0KvXKZx33kXUq1cvrM2l/N//3cj48eM4//yLadWqdZXuU2h7WVn4+2hbm+fMmcXXX0+nQ4e9WLDg9+D+bddo2rSPaN26DSNHjiEtbdsD/pw5s1m1amV5/ZW9twC6dTuciRPf59JLL8fn81FWFmDevDksXbqE7t2P4quvvoz4PE2cOIFvvpnBEUccyQMPPEpqaiqBQIBzzjmPK6+8jAceuI9x4z4gNTU14vMUCiT79LmwPEicNOkDvvzy8wiv0tIAI0e+wM8//8h1193IeeddVO7at29/Lr/8Ih555AHGjBkb0aaSEld/hw4m+N5w9X344QcR9yTymmy7D6+99jLr16+jffu9WLjwdwKByPsUIt53REXfexUt+Cyp5wsAa22RtXa+tfYK3DyuJ40xbYK7Q71VDeIcGtq2KWzb5gRlE5WvU4T/xyYFiU4g00udvCPRS528I9FLohPI9JLoVNNrlL7zfSoHPpJFi39nc+AjWbzzffV+m0722qnR+P3+iKAIoFevU9htt3bMmDGdLVvcA+PXX3/J33+vpm/f/hGBF0Dv3hfQuHETPvlkWkz9RUUuQA4PUDI4HiwAACAASURBVBIxYcK7lJWVcdVV19K0abOIa1WvXj0aN46/+s9bb73GK6+8RK9ep3D99f+M2V+/fv2YwAvguONOJDs7m9mzv0voVFJSwoIFv/PttzPx+/0RQ/CaNWse0y6/389pp51FWVkZ8+bFLEO7XQQCAYYNe4o2bdpy5pnnRmwHyMvLo6SkhNat20QEXtXltNPOYuXKFcya9W35tgkTxmPMPnToYGLKf/TRJAAGDRqM3+8v9+rQwXD88b1Yu3YNs2Z9E3NcYaF7j6SmVvweKS0t5f3336VDh70iAi+A1q3bcNppZ7F48Z/88cfCiH0lJSXB+lOr/Plbu3Ytb745hhNO6EWHDntV6djtQUzPVwI+BU4EDgXG49LSH4TrGVsfVXbP4Gv4XVkIdDXGNI8z7yte+TpF06bZ5ZG2FCQ6gUwvdfKORC918o5EL4lOINNLopPfn1JjaaXf+T6Vm95PZ2ux+6V6+SYfN72fDhRwTueqJUOuSa+aoGXLVrRq1SrCyefz0bFjJ5YsWcyiRX/SsWMnfv31FwAWLlzAyJEjYurx+/0sW7YkZntenusFTUtLr9Tlt9/mA3Dood2CdVZ+rT78cALPPPMkPp+PSy7pFzPPKsQvv/zM66+/zM8//8TGjRsihu2tW7c2pvySJYu56KJtAU6DBg25+ebbadGiRblTKBiYMuVDFi9exNat+REP9/HqXbVqZdzrt2rVygrbCTB16mSsnc999z1EQcG2HpXQdWrUqBEtWrRk3rw5TJ48kaOP7hF3Hp5X9tyzPfvttz8TJrzLoYd2Y/PmTXzxxadcf/2/WLs2NlXCwoULaNSocflcwfD716XLQUya9AELFy7gsMO6RxwXeo+kp1f8Hlm2bCl5ebn4fK3jXsPFi/8E3Jy4Pffclt4hP9/1lNevn1blz9+LLz5HaWkZV155TXA4545BevDVKvga+vabDpwHHAvMiip7HFAKhKf8mQ50DZZ/M6r8scA64Nca9N2hrF8v6z9DkOkEMr3UyTsSvdTJOxK9JDqBTC+JTjUZ4AyZllYeeIXYWuxjyLS0KgdfkgIvgEaNGsd1aty4CQBbtrgH19xcN7Bo0qQPYspWxJo1btWf6KQN8diyJY+MjAyystzcGC/X6uGHh7D33vuwcOECHnnkAYYOHRETgM2bN4cbb7wGv99P166H06ZN2/IH/bfffoPi4tie24YNG9Gv3wAKCwuxdj55eXk0bdoswunRRx/igw/G06pVa3r0OJYmTZqSmprKqlUrmTx5YnmvXzirVq1k1KgXKm1XNIWFhTz//LN07NiJnj2Pi7gP4U533nkfd911G0OG3MOQIfdU+TzRnH76WTzyyANs2LCeqVMn4/encvzxvXjjjVdjyubnb2G33drF9Yp+P4Wzdu0aMjIyyudgJWLzZjcQ7fffLb//bhOWKygoiPj3pk3uuEaNGlXp8/fnnwuZPHkiF1xwCS1atPR8XE2Q9ODLGLMfsMBaWxS1vRNwOZAPfBXcPBb4LzDYGPNS2CLLR+OCr/fC1vgCt5DyTcDtxpgJYYssX4pLY/9EXV3jC6BePX/5/A4pSHQCmV7q5B2JXurkHYleEp1AppdEp5pcz+evTfF7UxJtrwhp6wxt3LghrtOGDW7wUFZWKLmJe43OblcZf/7pBg9FD1WMR3Z2DsuXL2PLljyysrI9Xas99+zAk08+yzvvjOX5559l3Li36N37/Igyr732MiUlJTzzzAt07Lh/+fZAIBA3iAD3oB6euv+VV17i1ltv4qWXxrDnnh1Yt24tEye+R4cOezF8+KiIYX6ffDI1Yfa+yrIdJmLs2DdYvXoV99wzJGZf+HXq3PlA3n77ffr3v4QVK/7iggsuISUlhcmTJ3rqXYvm2GNP4OmnH2PSpA+YPHkixx13ApmZmXHLZmZmsX79tkFn4V7R76cQhYWFLFu2lD322JPKCAXlJ510KnfccY/nNqxcuQKAFi1aVunz98wzT5GTk8Mll1zm+Vw1hYQ5XwOAFcaY94wxTxpjHjPGTATmAtnAtdbaDQDBoYM343rE5hpjHjfGvAhMxvViRQwGttb+DDwK7A/MM8Y8bIx5DXgJN9zw/h3TxNohPb1+shVikOgEMr3UyTsSvdTJOxK9JDqBTC+JTomGn1WHNg3jP60l2l4RNelVE6xatbK8dypEIBDg559/xO/3s/vuewCw7777AfDrrz97rjsQCDBv3lyys3MihoElYu+99wXgu+/cvCAv1+qxx4aSlZXNhRdeijH7MGLEM/z11/KIMitW/EXDhg0jAi+AhQt/j+klScRhh3WntLS0fM7SypUrCQQCHHTQoTHzq37++SdPdXpl06aNjBkzimOO6cn++x8Qsz/6On300WQWL17EFVcMYsCAQfTvP7A8kUVVSU9P5/jjT+KVV15i8eJFnH76WQnLtm/fgY0bN7BkyeIYrx9+mBcsEzlv6scfv6e0tJQDDjiwUpfddmtHZmYW8+f/Wp7IxQvz57shs8bs7fnzN2vWN3z33Uz69RtQHvTtSCQEX+OAD3GLHfcHrsUFS2OBw6y1o8ILW2ufA3oDK4CrgLODx3ez1i6KU/+twXJFwGBcD9nLwBGhoK6uEp5lRQoSnUCmlzp5R6KXOnlHopdEJ5DpJdEpOnPb9nDH8YVk1IusL6NegDuOL0xwRGJq0qsmKC0tjUijDTBlyocsWbKYww/vXv7g2b370eyySwtefXUUv//+W0w9eXl5MdunT/+Cv/9ezXHHnUhKSuWPk2eccRYpKSkMH/4M69evi8okV8LGjRtjjgkl4UhNTeWOO+6mtLSUBx+8L2Lu1S67tGDz5s0sXbq4fFt+fj5PPfVYTH0FBQVxA7Jp0yYDkJ3tcrG1aNECgF9++SniXPPn/8L7779baVurwujRIyksLOSqq66Luz/8Oq1Y8RdDhz5Bp06dOf/8i+KWrypnnHE2mZlZHHTQIeyzz34Jy5144skADB8+lLKysnKvhQsX8NFHk2jWrDmHHNI14ph33x0LwAkn9KrUIzU1lTPOOJvFi/9k1KgXYgKwQCAQ03u4bNlSPv/8U9q23ZU99mjv+fP3zDNPseuu/+CMM87xVL6mSfqwQ2vtV2wbVuj1mHG4oM1L2QAwIvhnpyInJz0ipbEEJDqBTC918o5EL3XyjkQviU4g00uiU0qKr8YCHTevq4Ah09L4a5OPNg1d4FXV+V417VUT7Llne7777hsGDepP584Hsnz5Mr744lNychpwzTU3lJdLS0vjvvse5F//GswVV1xK166Hsdtuu1NYWMjKlX8xb94cevU6hZtvvh2AYcOe4r333GNYUVFhwiQTI0eOoE+fC8nJyaFDB8OgQYMZNuxJLrzwXI45pieNGzfh779XM2vWt1x11bUxC+6Gs8ce7enbtz8vvjicd98dyznnnAfAmWeew+zZ3zFoUH969jyBQCDAt9/OpFGjRjFz0ZYtW8J11w3kkEO60bJlK0pKSvjxx++xdj6tWrXh2GOPA6B58104/PAjmTFjOldeeRlduhzI6tWrmD79C7p1O4Ivv/wsxq+6/PHHAnr3voC2bXeNuz/0niorKyuf53XHHfd4Cni90KHDXowfP6nScieffBqfffYJ06d/Qf/+F9O162Fs3LiRTz6ZCsCtt95JaqoLKxYssLz00gtMn/4F2dk5zJz5NTNnfl1e18KFLo3+9Omfl9cNcMUVVzF//i+MGvUCn3/+CfvvfwDZ2dmsXr2KX375mfXr1/Hppy61w2OP/ZcpUz6kuLiIG264GfD++fvjjwXl6fKTQdKDL6X6FBXJm64m0QlkeqmTdyR6qZN3JHpJdAKZXhKdajql+zmdS6oVbEUjLdV8Tk4DHnzwUYYOfZLx49+mtLSUrl0P45prboh52O/YsROjRr3OmDGj+e67b5g9+zsyMzNp0aIl55xzXkRgFD6XKlGSjlDyiZNPPo2cHLcw9wUXXMwee+zJm2+O4fPPP6GoqJimTZvRrdvhdOrUudL2XHzxZXz55ecMH/4Mhx3Wndat23DMMcdy55338frrr/DhhxNo0KABRx11DAMHXkPfvhdEHN+sWXOOOOIofvrpB77+ejr16qWyyy4tuPTSy+nd+wIyM7PK5wzdddf9DB/+DDNmTGfcuLH84x+7BTMitqzR4Cs7O4d+/a5IuD/0nnrzzdf44Yd5/Otft9GmTdsaO79XUlJSeOihx3jjjVf56KNJvPXW66SlpdO584H06zeAffftWF52wYLfywOrvLzchElIpk//gtzc3PL3VlpaGk8++Szjx49j6tRJTJs2hUAgQNOmzdhvv4707Hl8+bGzZn3LoYd25aKL+paf2+vn74ADukQs9Lyj8Un7ohBMO2DRunV5on7VUhRFUZSdnVWrltCy5W7J1qhTdO9+cMIEEDVR9+23311hT9XcubMZPPgq3n57Aq1ata5xB0UukyZ9wAMP3MtXX82usNyQIfewcuWKWnmP1iZevo9SUnw0bZoNsDuwOGJfrZkptU7z5jnJVohBohPI9FIn70j0UifvSPSS6AQyvSQ6pabKfHyR6CXRCWR6qZN3JHpJdIqHDjusw6xZk5tshRgkOoFML3XyjkQvdfKORC+JTiDTS6JTSYms9bRCSPSqDad+/QbQocNeFZZp1ao1/foNIDs7fvD+v3KttheJTlCxV4cOe9Gv34BK6zjyyGPKF2GubSdJaPBVh0lLS6WwUNZYfIlOINNLnbwj0UudvCPRS6ITyPSS6CRtPa0QEr1qwyl8jaxEtGrVusJy/yvXanuR6AQVe3XoYOjQwVRaR03Pu5J6raLR4KsOU7++vP8QJTqBTC918o5EL3XyjkQviU4g00uik8/nE5fcAmR5hebbSHIKR6KXOnlHopdEp3jUjcGRSlykpf4FmU4g00udvCPRS528I9FLohPI9JLoJDXxlUQviU4g00udvCPRS6JTPDT4qsM0aJCRbIUYJDqBTC918o5EL3XyjkQviU4g00uiU0qKL9kKcZHoJdEJZHqpk3ckekl0iocGX3WYgoKiZCvEINEJZHqpk3ckeqmTdyR6SXQCmV4SnaQOLZLoJdEJZHqpk3ckekl0iocGX3WY4uLSZCvEINEJZHqpk3ckeqmTdyR6SXQCmV4SnaQ+Y0n0kugEMr3UyTsSvSQ6xUODrzpMkybZyVaIQaITyPRSJ+9I9FIn70j0kugEMr0kOvn9Mh9fJHpJdAKZXurkHYleEp3i4asrXXQCaAcsWrcur85M6FMURVGUnYFVq5bQsuVuydZQFEXx9H2UkuKjadNsgN2BxRH7as1MqXXS0+slWyEGiU4g00udvCPRS528I9FLohPI9JLo5PPJnFgv0UuiE8j0UifvSPSS6BQPDb7qMKmp8m6fRCeQ6aVO3pHopU7ekegl0Qlkekl0kvqMJdFLohPI9FIn70j0kugUD3nfqIpn8vIKk60Qg0QnkOmlTt6R6KVO3pHoJdEJZHpJdJI6/F+il0QnkOmlTt6R6CXRKR4afNVhGjaUt/aKRCeQ6aVO3pHopU7ekegl0Qlkekl08vtl/sQt0UuiE8j0UifvSPSS6BQPDb7qMPn58tZekegEMr3UyTsSvdTJOxK9JDqBTC+JTlJ/4a5pr5UrV9C9+8H8+9+3xN3/3nvj6N79YLp3P5hJkz7YIU41hUQvdfKORC+JTvHQ4KsOU1palmyFGCQ6gUwvdfKORC918o5EL4lOINNLopPURM070quwsIDRo0dWWk6vlXfUyTsSvSQ6xUODrzpMo0aZyVaIQaITyPRSJ+9I9FIn70j0kugEMr0kOkldz2dHeo0b9xZr166hTZu2FZbTa+UddfKORC+JTvGoG5ZKXNav35JshRgkOoFML3XyjkQvdfKORC+JTiDTS6KTxN442HFeeXl5vPbaKzRr1pwzzjg7Ybn583/htttu5vTTT6RHj8M4++xTuPPOW/ntt18BOPfc08qHLVb0Z+XKFQAMGXJPxL9DzJ79XXnZuXNnl2+fO3c23bsfzMiRI2LcSkvL6N79YK699sqI7ddeeyXdux8ctz0jR46o0jnCmTTpg4TDM7/77htuvPEajj/+aHr2PJy+fc/nnXfG4nUt3LfffpOBA/tx6qnH06PHYZxzzqn85z93s3Tpkkr9K2vHp59+zJ133krv3mfQs+fhnHRST26++Xp++eXnmDoSXTsvbe/Vq0eFbY92D3+vJ3KPd38B7r//Trp3P5hzzz0tZt/PP//ILbfcwJlnnsRRRx0a8T6s7B5L/V6IJjXZAkr1yciox9atxcnWiECiE8j0UifvSPRSJ+9I9JLoBDK9JDr5fD7PD8Y7kh3l9frrr7B58yb+9a/bKC0tiVtm6tQpDBlyN35/KkcddQwtW7Zi7do1fP/9XL7+ejp7770vffpcQG5ubvkxkydPJC8vl969L4ioKzs7J6FLWVkZw4Y9WeU2SFmTaezY13n66cdp2rQZxxzTk8zMTObMmcUTTzzM0qWLufHG+PPtwvnjjwU0atSIffbZj4yMDJYvX8Ynn0xl5syveO21d2jUqFG1/Z5//lnS0tLo0uVAGjduwt9/r+bLLz9j9uzvePrp4ey//wHVrnt72l7d9/pvv81n6tQpcfctWvQn118/iLKyMo46qgdt2+5KSkoKq1atZPLkiZXWLfV7IRoNvuowKSnyOi4lOoFML3XyjkQvdfKORC+JTiDTS6KTz1ez8zvSPh1L1sv3krJmOWXN27Kl790U9uyTdK94rF+/jrfffoO2bXfl1FPP4P3334kps3btWv773/vJyspmxIiX2HXX3cr3lZWVsX79egD69Lkw4rh58+awahX07z/Qs8+UKR+yYMHvdOiwFwsW/O75OAmx159/LmTYsKfo1Kkzjz76FNnZ2ZSVBSgpKeHuu2/jnXfGcuKJJ7Pvvh0rrOfWW++M2TZx4vs89ND9zJ07m549j6u24+OPD6VFi1YR25YuXcwVV/TlxReH89RTz5VvDwW0gUCg0uA2uu2ZmVkAntte3ff6sGFP0qRJU8rKYnupPvvsYwoLC7nlljs4/fSzyrfPnTvbY/BVN+Z9yftGVTyzZYu8tVckOoFML3XyjkQvdfKORC+JTiDTS6JTTWY1S/t0LDlPX4f/72X4AgH8fy8j5+nrSPt0bFK9EvHyyyPZunUr/fsPJDU1/m/okydPpLCwkIsvviwi8AIXTDdr1qxGXAoLC3jhhec44IAudO9+dJWOlZCZ7v3336W0tJQbb7yZzMyscqfU1FT6978KgE8+mValOktLS1m6dAlffvkZAC1bttwux+jAC+Af/2jHgQcexA8/zKO4eFuvdKNGjQH4++/VldYb3fYQXttenfv31VdfMG/eHAYMuIq0tLSY/Rs3bgCgXbvdq1x3dZ2SgfZ81WEaNcpk48b8ZGtEINEJZHqpk3ckeqmTdyR6SXQCmV4Snfz+lBqb35H18r34CrdGbPMVbiXr5Xur3PtVk17xWLlyBRMmjKd9+7047rgTE5az1s3pOvTQbrXq9MYbY1i7dg1DhjzMzJlfJyw3b96cmPk6KSkV98zEm98zb94cT+fIzs6mZcvWdOt2GGlp6QmP+fXXX/D7/Xz55ed8+eXnpKT4yh/gS0rccM5ly5YkPD6cwsJCjj32iPJ/Z2RkMmDAoLg9R5MnT4xpy6pVK+PWu27dWkaNepFZs77h779XRwRbAJs2bSoPpvfeex8+++xjnn9+GIMH/5OGDRMPd4xuezgVtT3kHn6tErlH1/ncc0PZc8/2nHzy6XEzdRqzD+Du/T//eWv5sEOv1Pbnr6bQ4KsOk5dXkGyFGCQ6gUwvdfKORC918o5EL4lOINNLolNNPmClrFlepe0VUdsPfiNHjqC4uJgrr7y6wmFleXl5ADRr1rzWnNavX8frr79Kz57Hs+++HSsMvr7/fi7ffz+3SvWPGvVClcrHO0ejRo256677OfTQbnGPyc3dTGlpaYXn2rp1a8J94fj9fvr1G0BJSQmLFv3B8uXLadEifq+XlyF0ABs3bqR//0tYt24tBxzQhcMPP5KsrCx8Ph/Tp3/BwoW/U1y8bR2+s8/uw6effsxHH03mo48mV1h3ddvu1T2aCRPGs2TJYh57bGjCgKpXr1OYM2cWU6dO5sILz6nyOepC4AUafNVpJE4qlOgEMr3UyTsSvdTJOxK9JDqBTC+JTjVJWfO2+P9eFne7JP788w+mTp1Mp06dOfzw7hWWDSXIWLt2zXYle6iIkSNHUFJSzMCB11Ratl+/AXHnkSXKagjw1VexGQFHjhyRMFgIP0dubi6fffYxjz32EA8+eB/vvvth3GMyM7Pw+/188snXCYdwesUN19vWxqlTp3Dfff+mQYOGMffr6aeHc+CBkW2fO3c2gwdfFbHtww/fZ+3aNQwceC2XXHJZxL5ff/2FhQsj59hlZGQwYsQovv56OosX/1neg7Vw4e9Mn/5FRNnqtt2rezj5+VsYNeoFDjmkK127HpawnN/v56677ueQQ7oyZMg9HHTQoXTqdIDnhBt1BZ3zVYdp0EDe2isSnUCmlzp5R6KXOnlHopdEJ5DpJdGpJtfz2dL3bgJpGRHbAmkZbOl7d5Xrqs11hl544TnKysoYOPDaSsvus8++gEsjXhtOixcvYuLE9zn77D60bt2mWnXU5rXKycnh9NPPonPnA1mz5m/Wr18Xt9y+++5HaWkp1v5W406hgOubbxL3CFbGihV/AXDEEZHBW2FhIQsW2LjHpKamcvTRPejbtz/9+w+kf/+BHHnkMTHlotteVapyrV59dTSbNm3kmmtuqLRsQUEBL7/8Es2b78J//vNf+vcfyEknnVrjTsmkblgqcdmwQd7aKxKdQKaXOnlHopc6eUeil0QnkOkl0akmhxcV9uxD7uChlO6yKwGfj9JddiV38NBqZTusrWFPv/9umT79cw477AgOOKBzpeV79TqF9PR0xowZzaJFiyL2lZWVsW7d2u3yGT78GbKysunbt3+166jtIWIlJSWsXr0av98fkVAinDPOOAe/38/jj/+XDRvWxzitWrUyZk2zaEpLSyPS9YeYOtUN+2vQoGE1WwC77NICgJ9++rF8WyAQ4MUXhycMKL0S3fZoKmu71/u3du1axo59nV69TqF9+w6Vlh827CmWL1/KbbfdRU5O4iUOtscp2eiwwzpMZmZ98vOLKi+4A5HoBDK91Mk7Er3UyTsSvSQ6gUwviU7hk/1rgsKefaoVbEVT014hVqz4C5/Px5VXXu2pfNOmzbjttru477476dfvQo46qgctW7Zi3bq1zJs3l169Tq5SOvlo/vhjAYMH31Tlh+NwKku4UVWsnc97740DIDc3j+nTP2f58qWccMJJZGRkxD2mQ4e9GDz4Jp588lEuuOBsunU7ghYtWrJp00aWLFnEzz//xN13/4dWrVonPG9+fj5nntmLQw7pSps2bQEf1s7n++/n0qBBQ0499Yxqt+nEE09mzJjRPPHEw3z//VyaNGnKTz/9wLJlS+nc+cAqz6MLJ7rtXbseTsuWrTy33et7ffnypaSnp3t6786a9Q3vvTeOM888N+E8vYqorc9fTaPBl6IoiqIoinB69jyeDh2M5/LHHnsCLVu25rXXRvPddzPJz8+nceMmdOzYiSOOOGq7XNq0actZZ/XerjpqmhkzvmLGjK8AyMrKomXL1lx99fWce+55FR53zjnn0b694a23XmPOnFnk5m6mYcNGtG27K4MGDebgg7tWeHxaWhonnHAyP/wwlzlzZgE+mjdvzrnnnsf5519My5axqeK90rJlK4YOHc6wYU8zY8Z0UlL8HHBAZ/7973t49dXR2xV8QWTb586dXeW2e+X88y+mWbPmFZbJzc3lwQfvp3XrNlxzzfU1cl6p+Hb2ibQ1SDtg0bp1eXUiqlYURVGUnYVVq5bQsuVulRdUFEWpZbx8H6Wk+GjaNBtgd2BxxL5aM1NqncaN449hTiYSnUCmlzp5R6KXOnlHopdEJ5DpJdFJ6sR6iV4SnUCmlzp5R6KXRKd41A1LJS6bN8ta9BJkOoFML3XyjkQvdfKORC+JTiDTS6KT1In1Er0kOoFML3XyjkQviU7x0OCrDlPRAovJQqITyPRSJ+9I9FIn70j0kugEMr0kOimKotRVNPiqw2RnpydbIQaJTiDTS528I9FLnbwj0UuiE8j0kugkdXiRRC+JTiDTS528I9FLolM8kp5wwxjTFugDnALsDTQHVgPTgPuttYvCyrYDFsWpJsQ+Ns5qccaYgcA1QAdgEzARuN1a+3cVVNuhCTcURVEUZYejCTcURZHCzpBw41rgMaAV8AHwBPA70A+Ya4zpGOeYH4B74/yJWTXQGPMQMBxIA4YCnwKXAV8bYxrXcFt2KFlZaclWiEGiE8j0UifvSPRSJ+9I9JLoBDK9JDrV9BpRNYVEL4lOINNLnbwj0UuiUzyqvc6XMeZg4DzAAJnW2uOC23cDugIfW2tjl8yO5VvgCGvtjKj6bwQeBx4FekUd87219h4Pjh2Bm4GfgG7W2vzg9inAy8CdwE0eHEVSViZvYqFEJ5DppU7ekeilTt6R6CXRCWR6SXEKBALl88+krpIj0UuiE8j0UifvSPTaEU41MWKwWj1fxpincEHTP4FTgR7hXsAbQF8vdVlrx0cHXkGeAvKB7tVxDNIX18YHQoFX8Jyv4HrXLjXG1NmFprduLU62QgwSnUCmlzp5R6KXOnlHopdEJ5DpJcEpJcVPaWlp+b+TPWUiERK9JDqBTC918o5Erx3hVFpaSkqKf7vqqHLwZYy5GrgOGA90BB4M32+tXQrMBM7YLjNHSfBPNG2MMdcZY24zxlxkjEm0bPaRwddP4uz7BGgK7FsDnkmhSRN5a69IdAKZXurkHYle6uQdiV4SnUCmlwSntLQMCgq2lP9b6sR6iV4SnUCmlzp5R6LXgeetwAAAIABJREFUjnAqKNhCWlrGdtVRHcuBwI9AH2vtr0BRnDLzgfbbI4YL3hrg5mhFcxzwNPAAMAZYYoy5IU659kCutXZNnH1/hJWpk2zcKG/tFYlOINNLnbwj0UudvCPRS6ITyPSS4JSV1YD8/Fzy8jZRUlJCSUlp5QclAYnrDEl0Aple6uQdiV615RQIBCgpKSEvbxP5+blkZTXYrvqqM+RuL+BZa21FLVwLNKueEhhjWuCSYxQCd4XtygfuwfW6/QlkAz2BR4AnjDGrrbVvhJVvACTKaLg5+NqwKm4ZGfXYsqWIxo2z2Lw5H5/PR3Z2Ohs35pOVlUZZWRlbtxbTpEkWGzfm4/enkJlZn02btpKdnUZJSRkFBcU0bZrN+vV51KvnJz29Pps3byUnJ52iohIKC0to3jyHNWtySUtLpX79VHJzC2jQIIOCgiKKi0tp0iSbzZu3Ur9+CqmpKeTlFdKwYQb5+UWUlpbRqFEm69dvISOjHikpKWzZUkijRpnk5RUQCARo0CCTDRu2kJlZ313Y/Jpp0+bNW0lNpdptWrcuj/T0ejXeptB1TsZ9StQmd53TknKfErWprCxA06aZSbtPidrUuHEmGzYk5z4lalPDhpnk5m5Nyn2qqE35+YVJu0+J2hQIBNiypSgp9ylRm/z+FHJzC0R8l4e3qbCwhJyc+kn/Lg9v09atRWRl1Uvqd3nz5o1ISfGRl7eJjRtXU1JSEjb/K0BKiq88E7HP5yufH+ZGIQVISUkpn7tW8X4fPh9h+12dle935w93qmx/IueablNip+S2Kfx4vU/appppkzt/bbSpXr16pKam0bJla7KyMiv93svPj9c35ahyqnljzHpgnLX2yuC/7wbustb6w8q8DvSw1raqUuXu2CzckMCuwABr7YsejukCfAcssNbuG7a9CPjbWts2zjEDgOeBy621ozyotUNYqvmGDTPYtGlrsjUikOgEMr3UyTsSvdTJOxK9JDqBTC918o5EL4lOINNLnbwj0UuSU02nmp8NnGyMyYy3Mzj/6iTg66pWbIzJwKWb7wrc7CXwArDWzgPmAfsYY8L7Ajfjer/iEdq+qaqeUpDyBgtHohPI9FIn70j0UifvSPSS6AQyvdTJOxK9JDqBTC918o5EL4lO8ahO8PUo0BqYZIzpBPgAjDEpxphDgA+BHFyaeM8YY9Jwwwl7AHdbax+toldoja/wmcELgZwECTn2DCtTJ8nOlrf2ikQnkOmlTt6R6KVO3pHoJdEJZHqpk3ckekl0Aple6uQdiV4SneJR5eDLWjsVtzbWEbjeptuDu7YC3wBdgOsTpI+PizGmHjAWOBF42Fp7X1WcgscfgJsTFp5cY3rw9dg4hx0LrAN+rcq5JFFSIm+yo0QnkOmlTt6R6KVO3pHoJdEJZHqpk3ckekl0Aple6uQdiV4SneJRrZyM1tongc7As8BcXObAn4ARwEHW2mFe6zLG+HEZC08Hhlpr/6+Csp2MMSlR2/y4hButgXetteGp6V8GyoDbw4dJGmMuxSUOeSWqfJ2ioCD5a69EI9EJZHqpk3ckeqmTdyR6SXQCmV7q5B2JXhKdQKaXOnlHopdEp3hUOeFGTWOMuReX0XAtLpiLEbLW3hMs+x5wEDADWIrLdng0sA9u+GB3a+3qqPr/C9yCW1T5faANcB6wCDjUWrvBo2o7hCXcaNrUZVaRhEQnkOmlTt6R6KVO3pHoJdEJZHqpk3ckekl0Aple6uQdiV6SnCpKuCEh+BoN9K2ojLU2NK/sIuAi3OLOzXGB2h/Ae8Cj1tqY5BnGGB9wJXAt0AGXYGMicJu1NlEa+ni0Q1jw5dJzJtsiEolOINNLnbwj0UudvCPRS6ITyPRSJ+9I9JLoBDK91Mk7Er0kOdVo8BUcsucJa+0rVapcNu0QFnzVr++nqEjWQpMSnUCmlzp5R6KXOnlHopdEJ5DppU7ekegl0QlkeqmTdyR6SXKqKPiqziLLo9k2NNAXfI2ORnzBbTtT8CWO9PT6FBXJSqsp0QlkeqmTdyR6qZN3JHpJdAKZXurkHYleEp1Appc6eUeil0SneFSn56sY8OMyHT4HJJzdZq19ebvsZNEOYT1fiqIoiqIoiqLIoqZ7vvbDrfV1Ki6Rxa3W2ne301GpBjk56eTmFiRbIwKJTiDTS528I9FLnbwj0UuiE8j0UifvSPSS6AQyvdTJOxK9JDrFozrrfP1urT0d6AlsBt42xkw3xnStcTulQoqK5GXJl+gEMr3UyTsSvdTJOxK9JDqBTC918o5EL4lOINNLnbwj0UuiUzy2O9uhMeZiYAjQFhiHyyL4Zw24SaMdOuxQURRFURRFUZQKqGjYYbUWWQ7HWjsGt2DxHcCJwK/GmMeMMY22t26lYpo3z0m2QgwSnUCmlzp5R6KXOnlHopdEJ5DppU7ekegl0QlkeqmTdyR6SXSKR3USbhxVwe7mwJ3A/sAGa22z7XCTRju050tRFEVRFEVRlAqo6YQbnxObWj6cUPr5xtWoW6kCaWmpFBbKGt8q0QlkeqmTdyR6qZN3JHpJdAKZXurkHYleEp1Appc6eUeil0SneFQn+LqPioMvZQdRv768N5lEJ5DppU7ekeilTt6R6CXRCWR6qZN3JHpJdAKZXurkHYleEp3isd0JN/6HaIcOO1QURVEURVEUpQJqNeGGkjwaNMhItkIMEp1Appc6eUeilzp5R6KXRCeQ6aVO3pHoJdEJZHqpk3ckekl0iocGX3WYgoKiZCvEINEJZHqpk3ckeqmTdyR6SXQCmV7q5B2JXhKdQKaXOnlHopdEp3hUec6XMaYMb3O+Atba6swpUzxSXFyabIUYJDqBTC918o5EL3XyjkQviU4g00udvCPRS6ITyPRSJ+9I9JLoFI/q9Hx9GfVnKS7DYfT26TXkqCSgSZPsZCvEINEJZHqpk3ckeqmTdyR6SXQCmV7q5B2JXhKdQKaXOnlHopdEp3hsd8INY8zdwF3WWn/NKImlHZpwQ1EURVEURVGUCtCEGzsp6en1kq0Qg0QnkOmlTt6R6KVO3pHoJdEJZHqpk3ckekl0Aple6uQdiV4SneKhwVcdJjVV3u2T6AQyvdTJOxK91Mk7Er0kOoFML3XyjkQviU4g00udvCPRS6JTPOqGpRKXvLzCZCvEINEJZHqpk3ckeqmTdyR6SXQCmV7q5B2JXhKdQKaXOnlHopdEp3ho8FWHadhQ3noGEp1Appc6eUeilzp5R6KXRCeQ6aVO3pHoJdEJZHqpk3ckekl0ikd1Us1/GrWpXYLtAWvtsdX0UjyQny9vPQOJTiDTS528I9FLnbwj0UuiE8j0UifvSPSS6AQyvdTJOxK9JDrFozrrcB3jcbumBKxlSkvLkq0Qg0QnkOmlTt6R6KVO3pHoJdEJZHqp0/+zd+fxddV1/sdfN2mapEkXWooiRYOoHxG3UXEZF7CAIqK4FnFGgvuCdNxYBLUUcV/YxmVm3IqjM7+OCwzuSkXBfYNRxvkgCAhuLRRbuqVL8vvje265vTlJvtnuead8Xo9HH2nPPbl53nPTm3zvOed78lN0KZpA0xWm/BRdiqayxj34cvc4VFGkBQvmsH795qoZe6RoAk1XmPJTdIUpP0WXogk0XWHKT9GlaAJNV5jyU3Qpmsqa9HW+7kH1Edf5iqIoiqIoiqJolOI6X3tp3d161zNQNIGmK0z5KbrClJ+iS9EEmq4w5afoUjSBpitM+Sm6FE1lTeScLwDM7L6k87z2BzpLVhly93dO9P6jsWtr0xs7K5pA0xWm/BRdYcpP0aVoAk1XmPJTdCmaQNMVpvwUXYqmsiZ02KGZXQS8lj33nNW4e5KNGmnw1T5poU59xGGHURRFURRFURSN0pQedmhmy4HXA98CXkAaaK0CXgRcDAwAXwKWTgYdjd2CBXOqJgxL0QSarjDlp+gKU36KLkUTaLrClJ+iS9EEmq4w5afoUjSVNZH9cy8Dfgcc5+5fLpbd7O6r3f0NwOHAM4EDp8gYjdCmTduqJgxL0QSarjDlp+gKU36KLkUTaLrClJ+iS9EEmq4w5afoUjSVNZHB1wOBb7l7/di7IWD3GW7u/jPgMuBNk+dFo6U4U6WiCTRdYcpP0RWm/BRdiibQdIUpP0WXogk0XWHKT9GlaCprIoOv7cCWhn9vAu7dtM4tgE0UFeU1b57e7lVFE2i6wpSfoitM+Sm6FE2g6QpTfoouRRNousKUn6JL0VTWRAZftwD3bfj3/wJLzWx2w7LDgdsnA4vG7s479S4kp2gCTVeY8lN0hSk/RZeiCTRdYcpP0aVoAk1XmPJTdCmayprI4Os7pMFWfZr6z5Jm8vihmb3fzL4PHAZcPkXGaITmzJk99kotTtEEmq4w5afoClN+ii5FE2i6wpSfokvRBJquMOWn6FI0lTWR63z9C7AO2Bf4C/Bx4JHAy4FHFet8BXjrVACjaG+rc81qelatpG3dbXQtXsLm/hUMLF1WNSuKoiiKoiia5iZ0na+yzOxepGth3eruf5qSO9Wqj7jOVzTJOtesZu5Fp1Ib2Lp72VBnN3ctvzgGYFEURVEURXtBU3qdr5Fy97+6+0/20oGXZPvs01M1YViKJtBx9axaucfAC6A2sJWeVSsrEu2ZynZqTtEVpvwUXYom0HSFKT9Fl6IJNF1hyk/RpWgqa0J7vsysnXSo4R/d/S/FsocCTwPWA19w902Z97UEWEa6NtiDgcXAX4FvA+9095tKPuf5wOnAw4CtwBXAme7++xG+xquBU0jT5G8gHRZ5lruvzX3MCO75am+vsWuXhqWeogl0XPseO59ayf+5oVqN27+2oQLRnqlsp+YUXWHKT9GlaAJNV5jyU3QpmkDTFab8FF1Kpind82Vm+5NmOPwpcIuZ9ZvZ04FfAR8EPgn8yswWZd7l64EPAfuTJuk4H7geeCnwy2JQ1/j1XwN8ATiAdL7ZpcBxwE/M7KAS73uL9TqBi4E1wMnAD8xsn/xHrletVquaMCxFE+i4BhcvGdfyVqeynZpTdIUpP0WXogk0XWHKT9GlaAJNV5jyU3QpmsqayGGHbwUOBs7j7gHXO4F3kPaGfai4fXnm/f0EeKK7P8TdX+PuZ7j7kaSLNC8o7h8AM1tc/PsvwKPc/U3u/nLgWGBR8bVpWP+hwGnAr4G/c/fT3f3FwMuABwBvn8Djl6m3t6tqwrAUTaDj2ty/gqHO7j2WDXV2s7l/RUWiPVPZTs0pusKUn6JL0QSarjDlp+hSNIGmK0z5KboUTWWN+7BDM7sB+I27P8fMHkEagF3h7kc3rPMzoNPdHz5RmJm1AXcBQ+7eWyw7Bfhn4K3u/t6m9b8FLAXu7e63F8s+ALwFONHd/7NpfScN2O7t7jszSH2IHXYYzcwaZzscjNkOoyiKoiiK9qqmesKNA4Drir/XP/68aZ2rgQMncN/N7Sz+1Hty8fGKknW/A7QDf5+5/hWkwddDJmmsrJ6ezqoJw1I0gZZrYOky1q+6jq3f28b6VddJDbyUtlNjiq4w5afoUjSBpitM+Sm6FE2g6QpTfoouRVNZExl8bQa6ABr2GG1tWmcHMNkrnR0PzCOdo1XvAcXHG0vWv7Fpnfrf73L3dZnrz6gGBwerJgxL0QSarjDlp+gKU36KLkUTaLrClJ+iS9EEmq4w5afoUjSVNZHB183suVfrEOAjTevcD5jwlPPFNcMuBgZI55LVm1d83FjyafVl85vWL1t3pPXHrLu7A0jTWba315g1q40FC+YAacRdv33hwh7a2mp0dLQzf346x6e3t5OurnT7okW91Gowe3Y78+al2+fO7aKzM133evHiuQB0ds5i7tx0DOu8ed3Mnt1OrZY+f+vWHXR1ddDbm0b68+d309HRTltbjYULe3Z76+8ELFgwh1mz2mhvr+2ejnPOnNm7rwg+FY9p27Ydk3pMwLQ8ph07dlX2PI30mAYGdlb2PI30mLZu3VHp8zTSY+runl3Z8zTSY+rs7KjseRrpMXV0zKr0eRrpMdWPbq/ieRrpMdVPzFZ4LW98TFu37pB4LW98TFu37pB5La8/pq1bd8i8ljc+pvq2ruJ5GukxDQ4OybyWNz6m2bNnVfY8jfSYurpmV/Y8jfSY5szprPR5mkm/723fvlPmtXy0JnLO13nAI939uBFu7yYNvC5z95PHdefp83tIhwQ+Dnilu3+i4bbrSdPFdzSfp2VmRwPfAs519xXFsu3AWncfNpWcmb0S+FfgZe7+6QxaH2LnfC1c2MP69ZurZuyRogk0XWHKT9EVpvwUXYom0HSFKT9Fl6IJNF1hyk/RpWQa7ZyvWeO9M3d/W8ZqRzCBPV/FwO1y0sDrtMaBV1F9b9U80vXEGqvvFWu8WNLGhuXNla0/o/rb37ZUTRiWogk0XWHKT9EVpvwUXYom0HSFKT9Fl6IJNF1hyk/RpWgqayKHHY6au29192tHOM9qxMysE/gy8FRghbt/sGS1G4qPB5fcdnDTOvW/zy2mqM9Zf0bV3j7lT9+kUzSBpitM+Sm6wpSfokvRBJquMOWn6FI0gaYrTPkpuhRNZUkozawDWA08HXi/u587wqpXFR+PLLntKGAX8MPM9Y8E7iBdMHpGVj/OVSlFE2i6wpSfoitM+Sm6FE2g6QpTfoouRRNousKUn6JL0VTWuM/5AjCzBcAppAHM/kDZmWVD7l62h6r5vtqBzwPLgIvdfcSLMxd7sG4iHU74SHdfWyw/HPgucKm7P69h/YcC15KmxH+8u28plp8ErALOd/c3jf2IAcFzvqIoiqIoiqIo0mq0c74mMuHGfYAfkGY03ECaLXAD0AHMKVb7E7DD3Q/KuL+VpBkNbwc+CgwDufs5Deu/tljvj6S9ZfOAF5OmwH+su9/UdP/vA04HrgcuI12n7ATSIO6x7n5n3iPXG3z19nayadNA1Yw9UjSBpitM+Sm6wpSfokvRBJquMOWn6FI0gaYrTPkpupRMU32R5XOB+wInAguLZee7ey/wKOD7wK3AwzLv737Fx31Jg7AVJX925+4fA15IGuC9Bnge8FXSnq09Bl5FZxbrbQeWkw5PXAU8cRwDL8l27tS7noGiCTRdYcpP0RWm/BRdiibQdIUpP0WXogk0XWHKT9GlaCprInu+bgV+7e7HFv8eBM6pn6dlZr2kQ/2+4u7/NMXeKutDbM9XFEVRFEVRFEVaTfWer/2A/2n4905g99UF3X0T8A3SHqloGqtf0E0pRRNousKUn6IrTPkpuhRNoOkKU36KLkUTaLrClJ+iS9FU1kQGX+uA3qZ/N0+sMcTdhyRG09T69ZuqJgxL0QSarjDlp+gKU36KLkUTaLrClJ+iS9EEmq4w5afoUjSVNZHB12+BBzX8+8fAMWZ2GICZPZA0ocXvJs+LRqujo71qwrAUTaDpClN+iq4w5afoUjSBpitM+Sm6FE2g6QpTfoouRVNZExl8XQ481czuVfz7/aSZDn9sZmtJg7NFxfJoGuvq0ruegaIJNF1hyk/RFab8FF2KJtB0hWnsOtesZmH/ocw7qpeF/YfSuWZ11aTdqW2reoquMOWn6FI0lTWRCTc6SIcU3unu24tlhwNnkE4quxX4uLt/aYqtVddHTLgRRVEURVFDnWtWM/eiU6kNbN29bKizm7uWX8zA0mUVyqIoqqopvc7XPbg+xAZfc+d2cddd26pm7JGiCTRdYcpP0RWm/BRdiibQdIVp9Bb2H0r72luHLd+134GsX3VdBaI9U9pWjSm6wpSfokvJNNWzHWZlZvcbe61oMm3fvrNqwrAUTaDpClN+iq4w5afoUjSBpitMo9e27rZxLW91StuqMUVXmPJTdCmayhr34MvMlmescwrw6wmJouwGBvS+yRRNoOkKU36KrjDlp+hSNIGmK0yjN7h4ybiWtzqlbdWYoitM+Sm6FE1lTWTP1wVm9vayG8ysz8zWABcD109KFo3Z4sVzqyYMS9EEmq4w5afoClN+ii5FE2i6wjR6m/tXMNTZvceyoc5uNvevqEi0Z0rbqjFFV5jyU3QpmsqayIQbnwNeBFzo7m9qWP564D2kmQ/fCbzX3XdNobXq+hA75yuKoiiK7kl1rllNz6qVtK27jcHFS9jcv0JiUgtVVxRF1TTlE26Y2UeA1wKfAd4L/AtwOPAL4GR3r/4M06mvD7HBV2fnLLldrIom0HSFKT9FV5jyU3QpmkDTpWKaCbMKqmyrxhRNoOkKU36KLiXTlE+44e6nAO8GTgb+F3g8cDbw+L104CXZ7NmzqiYMS9EEmq4w5afoClN+ii5FE2i6VEw9q1buMfACqA1spWfVyopEw1PZVo0pmkDTFab8FF2KprImNdW8mb0R+CDwM+Aod980VTDB+hDb8xVFURRF95T2PXY+tZLfWYZqNW7/2oYKRFEUReVN21Tz7n4+8HLg0cAaM1s4mfuLxte8ed1jr9TiFE2g6QpTfoquMOWn6FI0gaZLxaQ+qyDobKvGFE2g6QpTfoouRVNZ494/Z2aDQPNbTzXgMcA6M6svG3L3mbH/b4a2bdv2qgnDUjSBpitM+Sm6wpSfokvRBJouFdPm/hWl53ypzCoIOtuqMUUTaLrClJ+iS9FU1kQGR99n+OArqqAdO/Qmk1Q0gaYrTPkpusKUn6JL0QSaLhVTfVIN5VkFVbZVY4om0HSFKT9Fl6KprEmd83UPqw+xc74WLerljju0TrNTNIGmK0z5KbrClJ+iS9EEmq4w5afoUjSBpitM+Sm6lExTPtX8PbQ+xAZfURRFURRFM6m4Jlp0T2hKJ9wws4PN7CQzWzTC7YuK2+8/EWyUX1dXR9WEYSmaQNMVpvwUXWHKT9GlaAJNV5jyU3QpmerXamtfeyu1oSHa197K3ItOpXPN6qppgNa2qqdoAk2Xoqmsicx2eDbwfmCkeV03AO8D3jpRVJTXrFmTmqxyWlI0gaYrTPkpusKUn6JL0QSarjDlp+hSMqlfq01pW9VTNIGmS9FU1kSURwDfdvfSS0gXy78NPHUSriijTZsGqiYMS9EEmq4w5afoClN+ii5FE2i6wpSfokvJ1LbutnEtb3VK26qeogm0XJ1rVrOw/1C6ntLFwv5DZfakjtREBl/7A38YY51bi/WiaWz+fL3rGSiaQNMVpvwUXWHKT9GlaAJNV5jyU3QpmdSv1aa0reopmkDHpX4oa1kTGXxtAu49xjr3AnSGxHtpW7boXc9A0QSarjDlp+gKU36KLkUTaLrClJ+iS8m0uX8FQ517/tKucK22+p6TjifOlttzovT8NabiUj+UtayJDL5+BjzHzBaX3Whm+wHPA346GVg0drt2DVZNGJaiCTRdYcpP0RWm/BRdiibQdIUpP0WXkmlg6TLuWn4xu/Y7kKFajV37Hchdyy+udLZD9T0nSs9fYyou9UNZy5rI4Ot8YB/gajN7rpn1AphZr5k9D7gamA98aOqYUVkLFsypmjAsRRNousKUn6IrTPkpuhRNoOkKU36KLjXTwNJlrF91HYM/3sn6VddVPs28+p4TteevnopL/VDWsiZ0nS8zOx14N1ArFm0Geoq/DwGnu/uHp0SoUx9xna8oiqIoiqK9pn2PnU+t5HfhoVqN27820sTekUr1PZeNA+ihzu7K96hO6XW+ANz9/cBhwL8BvwT+AvwC+Djw6L1w4CVZd7fe9QwUTaDpClN+iq4w5afoUjSBpitM+Sm6FE2g41Lfc6KynZpTcSkeyjpWsyb6ie7+K+A1U2iJxllbm971DBRNoOkKU36KrjDlp+hSNIGmK0z5KboUTaDj2ty/onTPSdWTgNRT2U7NKbkGli5jYOkyeno62bxZf76/CR12OFZmNg9Y0LDob+6+ccq/UGvrIw47jKIoiqIo2qvqXLOanlUraVt3G4OLl7C5f4X0npNIvyk/7DCjNwI3Nfx5wzR9nXt0Kic7NqZoAk1XmPJTdIUpP0WXogk0XWHKT9GlaAItV30SkJ0/3CExCUhjStupMUWXoqmscR92aGZrMlbrKz4uLT7ePN6vE43dpk3bqiYMS9EEmq4w5afoClN+ii5FE2i6wpSfokvRBJquMOWn6FI0lTWRc76OyFxvyN2/N4H7jzKbjkNGJ5uiCTRdYcpP0RWm/BRdiibQdIUpP0WXogk0XWHKT9GlaCproocdnuPubSP9Ac6dSmRU3rx5ertXFU2g6QpTfoquMOWn6FI0gaYrTPkpuhRNoOkKU36KLkVTWdN1ztfMGHrO8O68c3PVhGEpmkDTFab8FF1hyk/RpWgCTVeY8lN0KZpA0xWm/BRdiqaydOaJjMbdnDmzqyYMS9EEmq4w5afoClN+ii5FE2i6wpSfokvRBJquMOWn6FI0lTXR63wdYWZDwHZgC/An4Hp3//V478jMlpMu2HwY8CCgBnS7+7Cz5sysjzR74kgd4u7/V/J5rwZOAR4IbAC+Apzl7mvH642iKIqiKIqiKJpIEx58sefEG0MAZvY34D+A8Rx0eWHx8RbSwGjBKOvWuxa4tGT57c0LzOy9wBnA9cDFwBLgZOBwM3usu985DqtEX7xmFu/6did/3FDjgPkdnH30AM9/5M4wzRBXmGa2K0wz26VoUnWFaWa7FE2qrjDNbJeiabQmMvh6avGxHegiDZYOAB4GHA68jvGd83Us8DN3v93MrizuY6yucfdzxlrJzB4KnAb8Gni8u28pln8DWAW8HXjTOKyV98VrZvHjT3yJq249m/tu/wN/mH1fzrnlXfCK51X2jfbFa2bxpsu62LqjBsBtG2q86bIuYFul3/yKrjDNbFeYZrZL0aTqCtPMdimaVF1hmtkuRdNY1aZ6WkYzew7wWdLer5NJhxFe4+7/k/G5V5IGX2MddrjK3U/OuL8PAG8BTnT3/2y6zYFFwL3dPefZ6QNuuuOOTQwOVjefyMo3X8b7fvtqvrjP8/nUvi8DYBdt/H6O0XfwokpMP7+1ne27asOWz26Hdze6AAAgAElEQVQf4jEH7qpAlFJ0hSk/RVeY8lN0KZpA0xWm/BRdiibQdIUpP0XXSKYl8wf55WnVTcDR1lZj0aJegINout7xlE+44e6XAh8nDbpWAZ8BnjPFX+YAMzvVzN5qZv9gZotHWO/JxccrSm67gjT4esgU26a1t9xwNj1DW/ZY1s4gB279fUUi2D7C/7eRlrcqRVeY8lN0hSk/RZeiabSvH9sq72vH85f/tWNb5X/tMOV/fcVt9ccNwwdkKk30nK9Rc/fTSIf7TVdHFX/qbTWzs9z9gqb1HgDc5e7rSu7jxoZ1xtwrp9J9t98KwEnrP8tJ6z+7e/kgNe64YEMlpkd9oIfbSr7Jl8wf4tJXbK1AlFJ0hSk/RVeY8lN0KZpA0xWm/BRdiibQdIUpP0XXSKYD5ute9WqmTTW/BTgHeAQwF9gf+AfgTuB8Mzuxaf15wMYR7qu+fP54AN3dHQDss08P7e01Zs1qY8GCNL9IT0/n7tsXLuyhra1GR0c78+d3A9Db20lXV7p90aJeajWYPbudefPS7XPndtHZmcbDixfPBaCzcxZz53alBzOvm80LDix1bV6whPnzu+noaKetrcbChT27vT09nQAsWDCHWbPaaG+vsc8+6fY5c2bvnppzoo/pnGN30t2x5zf5nI4hzj56IOsxzZ7dTq1GffcsXV0d9PYm82Qe09lHDzCnydXdMcS5xw1O+/M00mMaybTymTun/Xka6TGNZFpx7M6WPE8jPaZzjxsc9n3V3THEeccPTfvzNNJjWvnM4d/r3R1DvLvYtz+dz9NIj2nFsTtLn7/3PK/WkudppMd03vFDw18XZg9x9tMGpv15Gukxvfs5lL5Wvf3p21v+Wt74mM4+eqD0++ptT9ve0tfyxsd09tPKTWcfPdDy1/L6Y3r707ePaGr1a3njY3rb07YzZ/Zw17ueQ0tfyxsf09lHD9A863Z3xxDnPXuo5a/ljY/p3c8d/n+wu2OIc47dOe3P00iP6V0lrwvdHUOsPG7XtD9PIz2m8549/PWzu2OIc5812JLnaSb9vrfyuF0jmlr9Wt78mEZqQud8mVkH8E/ACYABc9x9VnHbI4FXARe6u4/zfq9klHO+Rvm8vwN+CvzO3R/SsHw7sNbdl5R8ziuBfwVe5u6fzvgyfQic89W5ZjXdF5xKx46732HY0dHN1jdczMDSZZW59pxpZkhmphlFV5hmtitMM9ulaFJ1hWlmuxRNqq4wzWyXomm0c77GPfgys17S+VKHAWuBncD+7t5e3D4P+DNp8HXWOO/7SiYw+Co+96eFab67byyW3Q7Mdvd5Jeu/Gfgg8Hx3/1LGl+hDYPAFaQDWs2olbetuY3DxEjb3r6h04NVYd3cHW7fuqJoxLEVXmPJTdIUpP0WXogk0XWHKT9GlaAJNV5jyU3QpmaZ6wo13kAY5byQd9veJxhuLgc+VwNMmcN+TqX6Nr56GZTcAc0eYkOPghnVmVANLl7F+1XXc/rUNrF91nczAC5D5pm9O0RWm/BRdYcpP0aVoAk1XmPJTdCmaQNOlZOpcs5qF/YfS89Q5LOw/lM41q6sm7ZHStqqnaCprIoOvFwLfcvcL3X2I8mt63QTcd1KycVQcBvkI0jlhjZNrXFV8PLLk044E7gD+d3p101f9mFilFE2g6QpTfoquMOWn6FI0gaYrTPkpuhRNoOlSMXWuWc3ci06lfe2t1IaGaF97K3MvOlVqAKayrRpTNJU1kcHX/sC1Y6yzlTQhxpRmZg83s7amZe3AB4D7AF9qumbXKmAQOMvM5jR8zknAg4BLMq/xJdnf/rZl7JVanKIJNF1hyk/RFab8FF2KJtB0hSk/RZeiCTRdKqaeVSupDew5e2BtYCs9q1ZWJBqeyrZqTNFU1kSmmr8DKJ9y7+4OAf6Uc2dmdibw4OKf9Y//Zmb1mfvf4u71QwrPBR5tZj8E/gD0ks4RO4R0+OBbGu/b3X9jZh8ETgd+ZWaXAQeQJgq5AXhnjlG19vY2BgcrvuhDU2om5fPj1LYVaJpA0xWm/BRdiibQdIUpP0WXogk0XSqmtnW3jWt5Falsq8YUTWVNZM/Xd4Hjzez+ZTcWsx0eA3wz8/6OAfqLP/cqlv1jw7LehnX/C/g18ATg9cXtu4DzgMe4+19L7v9M4DXAdmA56fpgq4AnuvudmUbJ5jTPIyuQkkl9t73StqqnaAJNV5jyU3QpmkDTFab8FF2KJtB0qZgGFw+bpHvU5VWksq0aUzSVNZHZDh8E/IJ0ftW7SOdanQwcATweOIt0Htgj3f0PU2ituj5EZjuM8lrYfyjta28dtnzXfgeyftV1FYiiKIqiKIpGr/7mceOhh0Od3dy1vNrLCkX5Telsh+5+PfAMYAC4gDTwqpFmOHwfcBdw7F428JJsrIu4VZGSSX23vdK2qqdoAi1XfQaqfY+dLzcDldJ2akzRpWgCTVeY8lN0KZpA06ViGli6jLuWX8yu/Q5kqFZj134Hyg28VLZVY4qmsiZyzhfufrWZHQw8mzTt/EJgI+lCx5e5+8DUEaOR2rlzsGrCsJRMg4uXlO75Utltr7St6imaQMfV/G5k/VBWQOKHosp2ak7RpWgCTVeY8lN0KZpA06VkGli6jIGly+jq6mDbNr0p1JW2VT1FU1njPuzwHlwfcdjhjCp220dTXRzKGkVRFEXRWE31RZZ3Z2a9ZvY4Mzu6+Ng79mdFU1XxpEqlZFLfba+0rZQPpQOdbaV+KKvKdmpO0aVoAk1XmPJTdCmaQNMVpvwUXYqmsia056uY6fADwLOA9oabdgGXA6e5+++nRKhTH2J7vmo1UNtxqWgCTZeKaSbsIVTZVup7vlS2U3OKLkUTaLrClJ+iS9EEmq4w5afoUjJN6Z4vM3sw8BPguaRrZX2aNNHGp4t/Pxf4iZnZpNTRmHV0tI+9UotTNIGmS8U0Ey7mqLKtNvevYKize49lQ53dbO5fUZFoz1S2U3OKLkUTaLrClJ+iS9EEmq4w5afoUjSVNZEJNz4A7AP0u/tnm280s5OATxXrPXtyvGi0urpms3371rFXbGGKJtB0qZjUD6UDnW1V3xOoeuFule3UnKJL0QSarjDlp+hSNIGmK0z5KboUTWVN5DpfG4GvufuLRllnNXCMu8+bpE+pPsQOO4yiqUj9ULooiqIoiqKZ1FRPuLELuHGMdX4H7JzAfUfjaO7crqoJw1I0gaZLxaR+KB3obKvGwpSfokvRBJquMOWn6FI0gaYrTPkpuhRNZU3ksMMrgSePsc5TgO9O4L6jcbR9u974VtEEmi4Vk/qhdKCzrRoLU36KLkUTaLrClJ+iS9EEmq4w5afoUjSVNZHDDvuAq4CvA+e4+58abrsPsBJ4OvAUd795yqTV10ccdhhFURRFURRF0ShN9WGHnwLuAF4O3GRm15vZD8zseuAm4GXAeuBTZram4c8Vk3kQ0fAWL55bNWFYiibQdIUpP0VXmPJTdCmaQNMVpvwUXYom0HSFKT9Fl6KprIns+Rqc4NcacveZMQdkeX3Enq8oiqIoiqIoikZptD1f4z7ny90nsrcsmoY6O2cxMKB1fKuiCTRdYcpP0RWm/BRdiibQdIUpP0WXogk0XWHKT9GlaCorBlIzuNmzJzJfyvSmaAJNV5jyU3SFKT9Fl6IJNF1hyk/RpWgCTVeY8lN0KZrKyjrssLhw8rhz90sm8nmi9RGHHUZRFEVRFEVRNEpTcdjhZ4DxjDhqxfp70+BLrnnzutm4UetK3oom0HSFKT9FV5jyU3QpmkDTFab8FF2KJtB0hSk/RZeiqazx7J/7evEnEmnbtu1VE4alaAJNV5jyU3SFKT9Fl6IJNF1hyk/RpWgCTVeY8lN0KZrKGs/g66fu/pFpk0TjbseOXVUThqVoAk1XmPJTdIUpP0WXogk0XWHKT9GlaAJNV5jyU3QpmsqKCTdmcAsX9lZNGJaiCTRdYcpP0RWm/BRdiibQdIUpP0WXogk0XWHKT9GlaCord8KNQeAcdz93+kmy9RETbkRRFEVRNAPqXLOanlUraVt3G4OLl7C5fwUDS5dVzYqie0SjTbgRe75mcF1dHVUThqVoAk1XmPJTdIUpP0WXogk0XWHKT8XVuWY1cy86lfa1t1IbGqJ97a3MvehUOtesrpq2O5Vt1ViY8lN0KZrKisHXDG7WLL2nT9EEmq4w5afoClN+ii5FE2i6wpSfiqtn1UpqA3vO+lYb2ErPqpUViYansq0aC1N+ii5FU1kzQxmVtmnTQNWEYSmaQNMVpvwUXWHKT9GlaAJNV5jyU3G1rbttXMurSGVbNRam/BRdiqayxjPb4TIze+g41h9y9xPGC4rymz+/mw0btK5noGgCTVeY8lN0hSk/RZeiCTRdYcpPxTW4eAnta28tXa6SyrZqLEz5KboUTWWNZ/D1kOJPbjErxTS3ZYve9QwUTaDpClN+iq4w5afoUjSBpitM+am4NvevYO5Fp+5x6OFQZzeb+1dUqNozlW3VWJjyU3QpmsrKHXwdNK2KaELt2jVYNWFYiibQdIUpP0VXmPJTdCmaQNMVpvxUXPVZDZVnO1TZVo2FKT9Fl6KprKyp5iNAcKr5hQt7WL9+c9WMPVI0gaYrTPkpusKUn6JL0QSarjDlp+hSNIGmK0z5KbqUTKNNNR+Dr/z6EBt8RVEUKRfXGYqiKIruicV1vvbSurv1rmegaAJNV5jyU3SFafTUrzOktK0aU3SFKT9Fl6IJNF1hyk/RpWgqKwZfM7i2Nr2nT9EEmq4w5afoCtPoqV9nSGlbNaboClN+ii5FE2i6wpSfokvRVFYcdphfH3HYYRRFUVb7HjufWsnPl6Fajdu/tqECURRFURS1pjjscC9twYI5VROGpWgCTVeY8lN0hWn0RrqekMp1hpS2VWOKrjDlp+hSNIGmK0z5KboUTWXF4GsGt2nTtqoJw1I0gaYrTPkpusI0epv7VzDU2b3HMqXrDCltq8YUXWHKT9GlaAJNV5jyU3Qpmsoaz0WWI7EUDxlVNIGmK0z5KbrCNHrq1xlS2laNKbrClJ+iS9EEmq4w5afoUjSVVfngy8yWA4cVfx4E1IBudx9x+GpmzwdOBx4GbAWuAM5099+PsP6rgVOABwIbgK8AZ7n72il8KC1v3rw53HmnxvUM6imaQNMVpvwUXWEau4GlyxhYuox99umRcoHetqqn6ApTfoouRRNousKUn6JL0VRW5RNumFkdcAswH1jAKIMvM3sN8DHgj8Dq4nNOBDYDj3X3m5rWfy9wBnA9cBmwBFgG3FSsf2cmtY+YcCOKoiiKoiiKolFSn3DjWGCxu/cB1462opktBj4I/AV4lLu/yd1fXtzHIuBDTes/FDgN+DXwd+5+uru/GHgZ8ADg7VP8WFranDmzqyYMS9EEmq4w5afoClN+ii41U+ea1SzsP5R9j53Pwv5DZa6HBnrbCjRNoOlSNIGmK0z5KboUTWVVPvhy96+7++2Zqy8DeoALGw8ZdPcrge8AzzazfRvW7yc9xne7+5aG9S8h7Qk7ycwqP/QyiqIouuemfkHqKIqiaOqqfPA1zp5cfLyi5LbvAO3A32eufwVpb9lDpkzX4rZs2V41YViKJtB0hSk/RVeY8lN0KZnUL0ittK3qKZpA06VoAk1XmPJTdCmaypppg68HFB9vLLntxqZ16n+/y93XZa4/o9pnn56qCcNSNIGmK0z5KbrClJ+iS8nUtu62cS1vdUrbqp6iCTRdiibQdIUpP0WXoqmsmTb4mld83FhyW33Z/Kb1y9Ydaf0x6+7uANIT3N5eY9astt0Xdevp6dx9+8KFPbS11ejoaGf+/HStm97eTrq60u2LFvVSq8Hs2e3Mm5dunzu3i87OdBTk4sVzAejsnMXcuV3pwczrZvbsdmq19PkbN26hq6uD3t7O9EDmd9PR0U5bW42FC3t2e3t60u0LFsxh1qw22ttru79B58yZvfsY2al4TBs3bpnUYwKm5TFt3rytsudppMd0111bK3ueRnpMGzduqfR5an5Mc6/+Igv7D6X9CbNY2H8oc77/hZY/TyM9Jhiq7Hka6TENDg5W8jyN9ZgGBrZX9jyN9Jh27NhZ2fPU/JhGuyC1wmvExo1bZF7L649p48YtMq/ljY9p+/YdEq/ljY9p27btlb+Wlz2m+oRvVb+WNz6mWo3KnqeRHlN7e63S56n5MXWuWc2+L30o7U+YxaL+Q1nw40tb/jyN9Jg2bdpa6Wt582MaqcpnO2zMzK4EDmeE2Q7N7HrSdPEd7r6z6bajgW8B57r7imLZdmCtuw/7yWZmrwT+FXiZu386g9eH2GyHs2a1sXPnYNWMPVI0gaYrTKNXPw+m8XCsoc5u7lp+scS1opS2VT1FE2i6lEzxvT7+FE2g6VI0gaYrTKMXr1X5qc92OJ7qe6vmldxWX7ahaf2ydUdaf0bV29tVNWFYiibQdIVp9NTPg1HaVvUUTaDpUjINLF3GXcsvZtd+BzJUq7FrvwNlfpkBrW1VT9EEmi5FE2i6wjR68XN5apppM/3dADwaOBhY33TbwQ3rNK7/ODNbXHLeV9n6M6q//W3L2Cu1OEUTaLrCNHrq58Eobat6iibQdKmZ6hekVkxtW4GmCTRdiibQdIVp9OLn8tQ00/Z8XVV8PLLktqOAXcAPM9c/ErgD+N8p07W4u8890UnRBJquMI3eaOfBKKS0reopmkDTpWgCTVeY8lN0KZpA0xWm0Yufy1PTTBt8rQY2A8vNbL/6QjM7nDT4+u+ma4atAgaBs8xsTsP6JwEPAi5pPndsJjU4qHFca2OKJtB0hWn0NvevYKize49lQ53dbO5fUZFoz5S2VT1FE2i6FE2g6QpTfoouRRNousI0evFzeWqqfMINMzsTeHDxz2OAewH/TtqLBfCWxgGVmb0W+CjwR9JgbB7wYtKg7LHuflPT/b8POJ10UeXLgAOAE4CbivXvzKT2ITbhRhTt7XWuWU3PqpW0rbuNwcVL2Ny/QvbQrCiKoija24ufy3mNNuGGwuDrStIMhyN1kLvf3PQ5LyANqB4KbCNdMPlMdx92/S8zqwGvAl5PmilxA/AV4K3uvnYc1D7EBl8LF/awfv3mqhl7pGgCTVeY8lN0hSk/RZeiCTRdYcpP0aVoAk1XmPJTdCmZpAdfM6g+xAZfbW01GUs9RRNousKUn6IrTPkpuhRNoOkKU36KLkUTaLrClJ+iS8m0N001HzXU3q739CmaQNMVpvwUXWHKT9GlaAJNV5jyU3QpmkDTFab8FF2KprJmhjIqrX5Vb6UUTaDpClN+iq4w5afoUjSBpitM+Sm6FE2g6QpTfoouRVNZcdhhfn2IHXYYRVEURVEURZFWcdjhXlpvr971DBRNoOkKU36KrjDlp+hSNIGmK0z5KboUTaDpClN+ii5FU1kx+JrB7dypdz0DRRNousKUn6IrTPkpuhRNoOkKU36KLkUTaLrClJ+iS9FUVhx2mF8fcdhhFEVRFEVRFEWjFIcd7qUVT6pUiibQdIUpP0VXmPJTdCmaQNMVpvwUXYom0HSFKT9Fl6KprNjzlV8fYnu+ajVQe/oUTaDpClN+iq4w5afoUjSBpitM+Sm6FE2g6QpTfoouJVPs+dpL6+hor5owLEUTaLrClJ+iK0z5KboUTaDpClN+ii5FE2i6wpSfokvRVFYMvmZwXV161zNQNIGmK0z5KbrClJ+iS9EEmq4w5afoUjSBpitM+Sm6FE1lxWGH+fUhdthhFEVRFEVRFEVaxWGHe2lz53ZVTRiWogk0XWHKT9EVpvwUXYom0HSFKT9Fl6IJNF1hyk/RpWgqKwZfM7jt23dWTRiWogk0XWHKT9EVpvwUXYom0HSFKT9Fl6IJNF1hyk/RpWgqKwZfM7iBAZ1vss41q1nYfyhzj+xhYf+hdK5ZXTVpj5S2Vb0w5afoClN+ii5FE2i6wpSfokvRBJquMOWn6FI0lRWDrxnc4sVzqyYAaeA196JTaV97K7WhIdrX3srci06VGoCpbKvGwpSfoitM+Sm6FE2g6QpTfoouRRNousKUn6JL0VRWTLiRXx8x4UZpC/sPpX3trcOW79rvQNavuq4CURRFURRFURRVU0y4sZfW2TmragIAbetuG9fyKlLZVo2FKT9FV5jyU3QpmkDTFab8FF2KJtB0hSk/RZeiqawYfM3gZs/W+CYbXLxkXMurSGVbNRam/BRdYcpP0aVoAk1XmPJTdCmaQNMVpvwUXYqmsuKww/z6iMMOS6uf81Ub2Lp72VBnN3ctv5iBpcsqlEVRFEVRFEVRa4vDDvfS5s3rrpoAwMDSZdy1/GJ27XcgQ7Uau/Y7UG7gpbKtGgtTfoquMOWn6FI0gZarPovtvsfOl5vFVmk7NaboUjSBpitM+Sm6FE1lzYz9c1Fp27Ztr5qwu4GlyxhYuozZs9vZvn1X1ZxhKW2remHKT9EVpvwUXYom0HE1H9FQn8UWkHhjTWU7NafoUjSBpitM+Sm6FE1lxWGH+fUhdthhrQZqT5+iCTRdYcpP0RWm/BRdiibQcanPYquynZpTdCmaQNMVpvwUXUqmOOxwL23hwt6qCcNSNIGmK0z5KbrClJ+iS9EEOi71WWxVtlNzii5FE2i6wpSfokvRVFbs+cqvD7E9X1EURVE0Hanv+YqiKFIu9nztpXV1dVRNGJaiCTRdYcpP0RWm/BRdiibQcW3uX8FQ554nrw91drO5f0VFoj1T2U7NKboUTaDpClN+ii5FU1kx+JrBzZql9/QpmkDTFab8FF1KpvqsdL1L58jNSgda26qeogl0XOqz2Kpsp+YUXYom0HSFKT9Fl6KprDjsML8+4rDDKIrEiuvsRVEURZFWcdjhXtr8+XrXM1A0gaYrTPkpulRMPatW7jHwAqgNbKVn1cqKRMNT2VaNKZpA0xWm/BRdiibQdIUpP0WXoqmsGHzN4LZs0buegaIJNF1hyk/RpWJSn5UOdLZVY4om0HSFKT9Fl6IJNF1hyk/RpWgqKwZfM7hduwarJgxL0QSarjDlp+hSMQ0uXjKu5VWksq0aUzSBpitM+Sm6FE2g6QpTfoouRVNZMfiawS1YMKdqwrAUTaDpClN+ii4Vk/qsdKCzrRpTNIGmK0z5KboUTaDpClN+ii5FU1kx4UZ+fcSEG1EUCda5ZjU9q1bStu42BhcvYXP/iphsI4qiKIoqKibc2Evr7ta7noGiCTRdYcpP0aVkGli6jPWrrmPzd7ewftV1cgMvpW1VT9EEmq4w5afoUjSBpitM+Sm6FE1lxeBrBtfWpvf0KZpA0xWm/BRdYcpP0aVoAk1XmPJTdCmaQNMVpvwUXYqmsuKww/z6iMMOoyiKoiiKoigapTjscC9N8cRCRRNousKUn6IrTPkpuhRNoOkKU36KLkUTaLrClJ+iS9FUVgy+ZnCbNm2rmjAsRRNousKUn6IrTPkpuhRNoOkKU36KLkUTaLrClJ+iS9FUVgy+ZnCKh4wqmkDTFab8FF1hyk/RpWgCTVeY8lN0KZpA0xWm/BRdiqayYvA1g5s3T2/3qqIJNF1hyk/RFab8FF2KJtB0hSk/RZeiCTRdYcpP0aVoKism3Mivj5hwI4qiKIqiKIqiURptwo1ZVYBmaO2QNqZK3d0dbN26o2rGHimaQNMVpvwUXWHKT9GlaAJNV5jyU3QpmkDTFab8FF1KpobxQnvzbbHnK78nAVdVjYiiKIqiKIqiaEb0ZODqxgUx+MqvEzgM+DOwq2JLFEVRFEVRFEWatQP7Az8DBhpviMFXFEVRFEVRFEVRC4rZDqMoiqIoiqIoilpQDL6iKIqiKIqiKIpaUAy+oiiKoiiKoiiKWlAMvqIoiqIoiqIoilpQDL6iKIqiKIqiKIpaUAy+oiiKoiiKoiiKWlAMvqIoiqIoiqIoilrQrKoB0fgysyOAFcBjSBd7/hFwlrv/qiLPctLFpw8DHgTUgG5331aFpzAtAZYBzwQeDCwG/gp8G3inu99UgWkhsBJ4HNAHzAf+BPwCeI+7/6LVppEysy8DzwH+6u73rsgw2gUIn+Hu32gZpiEzmwWcAryE9L21C/g9cKm7r6zAcw7p9WC0nuLuV7WAszsz6wReA/QD9wcGgRuBTwGfcPcdrfQUpl7gbcALgAOBO4GvAWe7+59b8PXH/VppZs8HTgceBmwFrgDOdPfft9pkZnOA1wGPLdbvYxpeI8ZpehDptf4Y4IHAAuA24CvAee6+riLXQcBbSdtqCdAL3Ar8AHi3u1/falPJ57YDPyb9LvETd3/8VJjG6zKzPmC0n8mHuPv/tdLU8DlzgLeQvsfuD2wDrgdWufvHWmkys8+QXk9H677ufmsrXcX6c4E3kV5bDwK2kLbTR4H/cPdJX1B4Aqb9gHOAZwH3Av4CfBE4x903TNYz2WLwNYMys2cC/w1sAFYVi18M/MDMDnf3n1XAurD4eEvhWlCBobnXA2cAvwUuJ7keA7wUeK6ZPdndf9Ni037AycAPgZ8XpvsBxxemF7n7f7XYNCwzWwY8m/RDpupuAT5TsvyGFjuA3T+IvwocAVxF+sHSQfql73mkwXWru3KE5V2k/wMbgJa+LphZjfTL71HANaQB1yzgWNI2Owp4fotNc4DvAY8i/f+7jPRL8UnAUWb2WHf/yzQzxvVaaWavAT4G/BH4OOkNmxOBpxbeqXgTaTym/YAPAEPA75i+14jxmM4FTgB+CawGBoAnA8tJr6uPd/c/VeAy0vf4D0ivFZtJvzC+GDjBzI5y9x+02NTcm4FDpsBQ1kRc1wKXliy/vQpT8cv7FcBDgG+SXtPmkLbZs0j/N1tpuhS4uWT5vYFXA9dPxcBrvC4z6yb9XvNQ0vf6N4Ae4LnA54BHk77XWmm6F/AT0u9YVwL/j/R/8g3AEWb2JHffPAWmCReDrxmSmc0m/QDeBjzB3b1Y/s+kvScfJ32Tt7pjgZ+5++1mdiVweAWG5obzAQ8AABb9SURBVH4CPNHdf9i40MzeCHwY+CDpndJWdgOwj7vvbDI9GPgV8F6g0sGXmS0CLgb+mTQo7KrSA9zs7udUbGjsw8BTgBPcfXXjDcUesZbn7ldSMgAzsxOKv66uYC/04aQB1leBZ9Xf9TSz00j/N59nZg+einezx9Fy0sDrc8BJ7j5YmI4tnO9j7HeVJ1v2a6WZLSa9Tv0FeJS7ry2WfxZYA3yINOBvmYn0S/BRwM/dfYOZ3cz0vEaMx/R10h6uPd5MM7MLSc/5O0h7YFvtWgPs2/yOf3HkyndJg8YjW2xqdDyI9GbRWaTXtaluIq5rpvn1frymS0h7u57q7t9vvGEKX++zTe5+KSWDUzM7o/jrqubbWuEivfnxUOCj7n5Kg+ttwK+BU83sHHe/q4WmlaSB13vc/awG0+uAj5COJhjriJFpLc75mjkdTXqn9rP1gRdA8QvM54BHmdnftRrl7l9396l6Z2pKcvcvNw+8ii4k7Q5/UotJuPvO5oFXsfz/SHvo+oo9BlV2Iemd47MrdshlZvcDXglc0jzwgvT8tl41avWBxGcq+Np9xcdvNP7y6e4DpHeSAfZtselZxcfz6gOvwvQ14KekvRFzpxMwztfKZaR3jy+sD7yK+7gS+A7wbDOb9DYcj8ndN7n7FdN9yM44TatGOIrhPcXHKXutH6dre9mhVsXzdyfpl/qWmuoVP2c+AfwGuGgqHFPhmu7GYzKzJwNPB97fPPAq7mtKXu+naDv1kw7rvmQKSMC4XX3Fx6833cd60mGtHaS99q00PYu0Tc5rWv4x0ikoL6/6963Y8zVzenLx8YqS275D+sXwyaS9KNHI7SQdNiNRcbz7g4DfTsVx0ZNwPBP4B+A4d99kZlVRGtunOPRqIfBn4DtTeFjFeHse6c2qLxZ7JY4nDSBuBr7m7hsrcg3LzO4NPA343QhvQkx3vy0+HkPai1p3dQJLSb98/k+LTfsVH28pue1m0rk5jyedF6rQWK/3RwN/TzoMPRpe/ZxCqTdFzOwwYB/SYVpV9TrgCcBh7r5L5LUe4AAzO5V0ftwfgG9N5Tl74+wFxccvmtl9geOAuYCT3lRSOCy//v10COln420VMeqv988gHZoJ7D7P/fGko37+2GLTfsDt7r6lcaG7D5nZLaTX+weQDp+upBh8zZweUHy8seS2G5vWico7HpgHfLkqgJndB3gV0E466f85pMHgqRWa5pEOW13t7l+tylHSw9nzuPqdZnY+cEYFA9X6Ib1G2tM8r+G2O8zsBHcv+0W5iv6R9P01lYehZOfuPzGzS4CTzOyXpMOsZpEmwJkDvLCCweodpNfH+wHNhzv2FR8fiM7gK17vJ9dJxcc1VSLM7CGkvZgdwMGk82n/CpxZked+pEPcP+zu11RhGKWjij/1tprZWe5+QQWW+uv94aTDMmc33HaLmR3v7te2njWsKo9wqPcF0v+z15nZw0h7u3pJ53xtBJZV8PP6DmCxmc1pHIAVe7vuW/zzgVQ4+IrDDmdO9V/2yn5pqS+b9K7dvbXiBMyLSYfVvaNCyn1Ixxq/jfTCuR14nrt/t0LTB0iHOC2v0NDcB0izGi0g7WF6FumXztOo5heX+iFe7yOdm9cHLCK9i9wLfKkYWCtUPwzlsxUaTiYd8vFI0ixYy0nb7POkCS9a3beKj2c1Hm5iZseQ3gUFrdfPeL2fYMV5tCtJv4C9v2LOQ0iv92eRzo35M3BsBRM+1fsX0uDvnIq+fllbSJ5HkPYu7U86CuNO4HwzO7ECU/31/gLS99ABhesdpF/eLy8mmqisYh6AE0mvB5W9oezuu0h7vT5F2mN/GvBa0uvTJdy9Z6yVfYs0vjmrafmrSBOUQMWvn7HnK9rrM7Me0uxmBwCvrPAHH+7+c6BWvHAeTJoF6Otm9np3/3irPcUJ4K8kbZe/tvrrj5S7n9606Ctmdg3pBN4zzeyD3trpyutvVF1L2lb1d/I+VhyWcibwcuCdLTQNy8weRTr5+Qp3/0NFhnbSD93jSDOMfoU0LfDxpPMK67MLbm8h63zSLyovAR5sZt8nnUP7fNL31MNIA9ZoBlcccvsV0kQgy1owg+WoufsXSK/33aTDw94BXF3MbtvSQ0bNrJ90HtPR7r61lV97tIpzGhtnit0EfN7Mfks6H/PtwH+0mFV/vb/c3d/esPydxd7MF5EOTazyDa7jSIfkf7L58LpWZukSHl8mvdHwXNKRDnNIR2C8B3giabKMVvYO0oDwbDP7e9KkdEbaZr8h/Yys9PU+9nzNnOrvds4rua2+rPJrF6hV/NC7nHR9rdPc/RMVk4DdJ2T/1t1fQTqH4wIzO6CVhmLGpk8A3ye9ayVdcUz7t0nf79M1RfJI1f9vfaXkEIrLi49VzDbaXP0wlEoOOSx6BWlK7bOKCRHucPfb3f2T3P0O90mj3cFU5+53ks6R+jhp7/Ny4O9Ih/vWt1VV55eUFa/346yYrfXbpD2sL/GKrgVYlrtvdfdfkn5h/z3wyVbuOSnOvzmfNGHQd1r1dSeTp2uX/go4pDg0vpXV/29dXnKbyuu9wms9pAm6jgJe5e6XuvsGd/+zu3+A9Hr7DDM7avS7mNrc/WbSEQ2fIw20lpP2WL6QNDiEil/vY8/XzKl+baODSdc0aezgpnUidp/g/2XgqcAKd/9gxaSRWkN6R/KxtPbwgV7S987BwGDZideWLna8wd0Vrt8Gd1/zpafFX7d+UdSyX3jry6o+DKWDNOi5i3Qxyap6evHxeyW31Zc9skWW3RUn77+2+LM7M/tk8VelyYpuIP1ydzCwvum2eL1vysz2IQ28DgVe5u7/r2JSae6+s9jr+lrSRdpb9T13X9JEHyeZWdkbH48rXuuvdfeW/98cpcbX+1aeJ3o96dqgkq/3xaRPzwBudPerqnIUjfV6fwrp9b6lg35P10H8x+blxXTzQ6RrUFZWDL5mTleRLpp6JMOvB3VUwzoRu38RXc3d08WeWzFptPYvPrZ6Zq4B4JMj3HYCadKGz5OOyVfpMcXHslnrprMrScePl+1xqy+r5DC/ho4lnavw6SoPQ+Huk9PLpkKvL2vlIYcjVlx8+VmkgYzSBARXkf4PHsnwi2QfBeyi2hnzZCouEfAN0p7MU9z9M9WKxqyK1/s7GPm1/uWkvQD/TfWvYbsrfoY/gvTzp9V7Ka4kvZGl+nr/YtIkLlM2vfwkany939R0m9rr/X1I56WtKabCr6wYfM2cvgPcBrzEzM6vX+urOLn4H4BfFbvp7/EV55z8O2lmqYvd/YwxPmXaM7NDSVN/b29a/nDgZaQfMFe30lQc9/+KstuKwwS6isMiW1pxTP0NJdvqzaRJOK529z+1mPVd0sxI/2BmH3b33xamXu6eAKTKvU2gMfMVwI9IMxueYWY/qJ+bV+yJrp/LV/Yu6bRmZvMaZ1ksDrv9Z2Ax8IYqL/VQ0mrS5C7LzexTfvdFlusXsL5U7TpKVVQMnr9KOmrgze7+0YpJAJjZI4BfN15Trlh+NOm8kz8C17XKU1yiY6TX+pcDv6/itb74+g8HftO4rYqf4R8gHSL871N1Xa1x9F+k/3+vL/7//blw7Uc6hG0I+FKLTY31FwaFwdePSHuczzazV9VfR4tDReuTeLX09b4YuLc3XhKgeK34NGncc04rPWXVhoaUft5Eo2Vmx5EmjthA2iMB6R2QbuBwd/9pBaYzSYdPQLquz71IA59dxbK3tPqXBDNbSTrh8nbgo5Rc18vdz2mx6QLSLvCrSdcV2kU6AfQY0mQEr3D3T7fSNFpmdjNp8HXvMVadjq99AekNhe+T3l1sJ12X5jGkd0APrw9+Wux6CmkWpe2kgdZdpEHG/Um/ILyk1aYG2yLgT6Q3aB5Q8TXj9iHNaHh/0uE73ySdX3wM6ZC57wBPb/7FtAWujaTrZt1Aerf2GaTphi909ze04OuP67XSzF5Lev36I2kwNo/0er8ZeGxxWE2rTR/k7nezX0D6v7n7ED93P7mVJjNbRTp/8MZineb+NlVTlY/TdSnpjaIfkV7vO0jnniwlHXFwvLt/s5WmUe5jCPiJuz9+sp6JuIpt9WjSntw/kA6HP5y0h+kG4ElTMRnUBL7XX0T6PWsdcClpgobnkGbLO69pIo6WmIrPeRjpOolXuvtTJ2uYrMvMDiLtnV9EOoz2StJhos8mbatPufvLW2xaQppY4xuk/3/zCs8BwJvc/fzJeiZb7PmaQbn7V4o9EitIUzkPAj8Azi5O5q2iY0gvlI01Hmd7Dncft92q7ld83JeRp5U/pzWU3X2BdMz9E0iHEs0G/kL6peqCKgbOwn2DdI7Co0jfX+2kwwwvBN5Xfxey1bn7983siaSZuZ5LmlHteuCfaLiYcEWdSPqeuqTqPTjufqeZPY50IvZxwKtJb4BcXyz7YKsHXkWfJ/3y+3TSRXh/BbzV3Vu1x3Jcr5Xu/jEzW0faW/gaYBtpL8+ZUzHwmoiJNOC6H3vW3/D3k1tsqlsOJv1cbO4W0nThU9F4XJ8gDbIOIx0O3EZ6Y+QTwIfcvflac60wtbLxuP6L9Nr1BNIvyEOkwfR5pNeKqZpYZrz///7TzG4nvWa9mPRz6DekibvKBvrTbipqxREO2S53v8nMHkO6fM7RwOtJr6//C5xLurxBS02kHRSXkw4xfA7pyKIfkybiqfKyPruLPV9RFEVRFEVRFEUtKKaaj6IoiqIoiqIoakEx+IqiKIqiKIqiKGpBMfiKoiiKoiiKoihqQTH4iqIoiqIoiqIoakEx+IqiKIqiKIqiKGpBMfiKoiiKoiiKoihqQTH4iqIoiqIoiqIoakFxkeUoiqIoakFmtg9wBLA/sLj48353/0OVriiKoqh1xeAriqIoiqYxM1sEXAS8AJjdcNMg8GPg36twRVEURa2vNjQ0VLUhiqIoEsvM+oCbgC+6+wtGWOf1wMXAS939M63TzZzMrAf4EfAw4BPABcBv3X2wUlgURVFUSbHnK4qiKIqmr7eTBl7L3f3iqjFRFEVRtcWEG1EURVE0DZlZO/ByYE0MvKIoiiKIPV9RFEXRNGRmLwTeADwcqAG/AS5y9883rXcy8Oninye4++qm2x8N/Lz450p3P6fp9sOAs4AnAfOAm4HPkiay2F7ydV4KbAXeChhwB3BJcd8DmY9tNvBm4B+Bg4EtwA+Bc939pw2rPgDYF/ixmX0EeDZwL2Ad8DVghbv/qeF+dwLtTV/uIHe/OcPUDrwaeBlwCOl8sp8D57n7FU3rXgkc7u61hmU10rlnLwbe6O4XmNk5wIqxvjbF81Jsl9cUj/MQ0oQia4FvAu9w9z9m3FcURdFeXez5iqIoiqY0M3srsJo0MPkM6VynA4DPmdnKET5tF/DKkuWvKm4r+zovIA16nkoazFxMGky9E/hCMaBobhmwCrgGuLBYv+4dMzNrAy4D3l24LgS+XBiuMrOnN6y+uPh4BvA60gD0Q6RB0SuAn5rZkob1zwVWFn+uzfEUplrh/wjQAXwS+DxpAPQtM1uWcTf/TBp4rXT3C4plVzZ4VhaPG9L2a1x+ZbF8IfDh4u+Xkc5v+w1pwPtDM1uY+5iiKIr21mLPVxRFUTRaDyn2gJT12OYFZvZA0uDnFuAwd19XLD8H+AnwNjP7grv/uulTvwYcZ2b3d/ffF5/TC5wIfJW0N6Xx6ywm7cm6CXiSu69tuO1CYDnwQoYPqp4BHOHu3yvWPRv4OvBsMzve3S9j9E4GjgEuB57r7ruK+7m4eHyfMrM+d9/B3T9j24Ez3P39DcbXkQZL5xdO3P3chtv7gEeMYan3auB5pMHOm+uTeZjZWcDPgI+a2eXuvrXsk83sPNLg8KLGPYvufiV3D6zqew+PBz5T3NbcncCB7v7npvs/kTQYPIX0vRFFUXSPLfZ8RVEURaN1COnQs7I/zyhZ/8Wkwcb76gMvAHf/G/Au0s+dl5R83uWkQ9Re0bDsRNLU7JeUrH8S0Auc3jjwKnobMAScUPJ536wPvArXLuAdxT//sWT95ur2M+oDr+J+rgE+B9wHOLrpc24jDbIa+zhwA/BcM5ub8XVH6xTgduC0xlkU3f0O0p62RcBRZZ9oZm8EziZt4zdMBuHuA80Dr6L/BDYAR07m/qMoivaGYs9XFEVRNFo5U803Vt9b8z2G972mdRrbQXFOlpm9w913kg45/BLp0MDm6nvdnmJmjyy5fSvpnK7mri5Z9lNgJ+n8tLF6BLDO3X9bctv3SIfYPYK0J6/ej4o9Ybtz90Ezu5p0XthDSdPRl/UGM/sb6RyuvwD/4+4/rt9oZnOAQ0nnur3NbNhDfmB9VdIAd3dm9lLS4GwIeI+7T/raM2b2OOB04Amkwy4bf8/Yf7L3H0VRNNOLwVcURVE0lc0rPv615La/Nq3T3L+Rzo96lpndBDwGOG2EdevnD71xFEtPybJ1zQuKgdDto7gamweUDbxg+OPb2bR8rPXL+qfmBWb2feD4Ym/iPqQJTQ5i9MkxyrbFv5HOP3sE8C9mdsRkBmBmdjjwbdLj/gZwI7C5uPkNQOdE7zuKomhvKQZfURRF0VS2sfh4L4bvsbpX0zp75O6/N7M1pIk3bgF+5+5XmtkRo3ydrNkAG1rcvKCYRGMR6fyxsdrI3Y+juebHd2fT8rHWL+sgd7+5MPaRJvo4gbR36ayGz/2eux8xqnx415IOR3w96ZDQU4GLxnkfjZ1BmvDjKU1752qMPIiOoii6RxXnfEVRFEVTWX2WvqeU3Pbk4uM1o3z+vwJPJ51b9W+jrFef0v1x49KlKembeyxp0PA/GZ9/LbDYzB5cclvz47uedPjjE8yso3HFYjD1RNKMib8Z64u6+2AxEclbikWPKpbfBfwf8LDiEMTxdIy7bwTeD/wCeI+Z3X+c99HY/YE7GgdeRY8AxmuLoijaK4vBVxRFUTSVfZ40oDjDzBbVF5rZfNJEGIOk60mN1KWkw/ruIE1TP1KfIR3S9j4zO6j5RjPbz8wOKfm8/9/evYNGFQVxGP/UxspCLCOWIyIiiEEQUxhErURiYaEkPhsLKwsJ2qRJIyiIWAQNWPgIEhF8IthoqY2CHGwENWJlZ6HgWswNWTfJboLhKuz3axZ2791zd7thzvzP7ojoa7puBRnxDhmY0cmN6nW0KqCmv2cTWTBOAc8AqjmvCaCH7Co1O0HOY01WBdRCbaxevzW9d5nchnmpOmvrDxHRO1dhNh2IUs3XDZG7Ya7NE9G/EB+B1dE0eFYlVl6c/xZJ6i5uO5QkLZlSyvuIOE9uY3sTERNkwTUArCUPIm6NmW++/wczBUa7db5GxGHgJvAuIh6QM0aryKKmDzjH7PmsR+TZV7fIAIu9ZNDG/VLKvQX8xHEyGn4f8CoinpAHKR+sPj/WEq5xFtgJXIiIfrJztoGMzv9M+5k1mAncWA6sI//HBjMHUwNcIbtux4H+iHhOzrb1AFuA9WTYxff5FimlvI2IETIK/hRZ0C3WVXIb48uIuE3Oou2pnmWq3Y2S1C3sfEmSllQpZXou6QNZEJwEvgCHSintQiEWu84ksJXsLm0jQx32kxH0I2QXrtUdYBDYXF2/Bhhl7lj6udb8RRZew8BKsngaIJMOd5RSHrdcP0VujRyr1jxTPfMY0FtK+dRhydNkkMYwGWH/AthVSnnatEaDjOUfImPtD1S/bTu59XGQjKLvZBR4TXb1ZnUTOyml3GWm+3eU/J8eVs/9s82tktQ1ljUaf50sK0nSf606IPg6cKSUMv5vn0aS1K3sfEmSJElSDSy+JEmSJKkGFl+SJEmSVANnviRJkiSpBna+JEmSJKkGFl+SJEmSVAOLL0mSJEmqgcWXJEmSJNXA4kuSJEmSamDxJUmSJEk1+A0yoKrrPP7MuwAAAABJRU5ErkJggg==\n",
         "text/plain": "<Figure size 1008x360 with 1 Axes>"
        },
        "metadata": {
         "needs_background": "light"
        },
        "output_type": "display_data"
       }
      ]
     }
    },
    "b620e3da77a245448777138503d23a62": {
     "model_module": "@jupyter-widgets/controls",
     "model_module_version": "1.5.0",
     "model_name": "HBoxModel",
     "state": {
      "_dom_classes": [],
      "_model_module": "@jupyter-widgets/controls",
      "_model_module_version": "1.5.0",
      "_model_name": "HBoxModel",
      "_view_count": null,
      "_view_module": "@jupyter-widgets/controls",
      "_view_module_version": "1.5.0",
      "_view_name": "HBoxView",
      "box_style": "",
      "children": [
       "IPY_MODEL_5a6a4c7eaaea40caae6a7498ade135a3"
      ],
      "layout": "IPY_MODEL_0e1377d5ef2043b69c614c533fd11caa"
     }
    },
    "b85207d533964a88b054953e9a8b1bb6": {
     "model_module": "@jupyter-widgets/controls",
     "model_module_version": "1.5.0",
     "model_name": "HBoxModel",
     "state": {
      "_dom_classes": [],
      "_model_module": "@jupyter-widgets/controls",
      "_model_module_version": "1.5.0",
      "_model_name": "HBoxModel",
      "_view_count": null,
      "_view_module": "@jupyter-widgets/controls",
      "_view_module_version": "1.5.0",
      "_view_name": "HBoxView",
      "box_style": "",
      "children": [
       "IPY_MODEL_7181846ccd39432991689c4497113fb2"
      ],
      "layout": "IPY_MODEL_5daeb4a3581a47429bf3b01c962d31bc"
     }
    },
    "bb8d1ed8a1564c0d8258221f9c7966a3": {
     "model_module": "@jupyter-widgets/controls",
     "model_module_version": "1.5.0",
     "model_name": "SliderStyleModel",
     "state": {
      "_model_module": "@jupyter-widgets/controls",
      "_model_module_version": "1.5.0",
      "_model_name": "SliderStyleModel",
      "_view_count": null,
      "_view_module": "@jupyter-widgets/base",
      "_view_module_version": "1.2.0",
      "_view_name": "StyleView",
      "description_width": "",
      "handle_color": null
     }
    },
    "d7ef2a7202a4423b9017f4ca6995df2f": {
     "model_module": "@jupyter-widgets/base",
     "model_module_version": "1.2.0",
     "model_name": "LayoutModel",
     "state": {
      "_model_module": "@jupyter-widgets/base",
      "_model_module_version": "1.2.0",
      "_model_name": "LayoutModel",
      "_view_count": null,
      "_view_module": "@jupyter-widgets/base",
      "_view_module_version": "1.2.0",
      "_view_name": "LayoutView",
      "align_content": null,
      "align_items": null,
      "align_self": null,
      "border": null,
      "bottom": null,
      "display": null,
      "flex": null,
      "flex_flow": null,
      "grid_area": null,
      "grid_auto_columns": null,
      "grid_auto_flow": null,
      "grid_auto_rows": null,
      "grid_column": null,
      "grid_gap": null,
      "grid_row": null,
      "grid_template_areas": null,
      "grid_template_columns": null,
      "grid_template_rows": null,
      "height": null,
      "justify_content": null,
      "justify_items": null,
      "left": null,
      "margin": null,
      "max_height": null,
      "max_width": null,
      "min_height": null,
      "min_width": null,
      "object_fit": null,
      "object_position": null,
      "order": null,
      "overflow": null,
      "overflow_x": null,
      "overflow_y": null,
      "padding": null,
      "right": null,
      "top": null,
      "visibility": null,
      "width": null
     }
    },
    "ddc1a0a52f364a00987e93cc0dc10531": {
     "model_module": "@jupyter-widgets/controls",
     "model_module_version": "1.5.0",
     "model_name": "FloatSliderModel",
     "state": {
      "_dom_classes": [],
      "_model_module": "@jupyter-widgets/controls",
      "_model_module_version": "1.5.0",
      "_model_name": "FloatSliderModel",
      "_view_count": null,
      "_view_module": "@jupyter-widgets/controls",
      "_view_module_version": "1.5.0",
      "_view_name": "FloatSliderView",
      "continuous_update": true,
      "description": "alpha",
      "description_tooltip": null,
      "disabled": false,
      "layout": "IPY_MODEL_e87798b627e44508a63e84cef144beba",
      "max": 10,
      "min": 0.0001,
      "orientation": "horizontal",
      "readout": true,
      "readout_format": ".2f",
      "step": 0.01,
      "style": "IPY_MODEL_bb8d1ed8a1564c0d8258221f9c7966a3",
      "value": 2.7301
     }
    },
    "e87798b627e44508a63e84cef144beba": {
     "model_module": "@jupyter-widgets/base",
     "model_module_version": "1.2.0",
     "model_name": "LayoutModel",
     "state": {
      "_model_module": "@jupyter-widgets/base",
      "_model_module_version": "1.2.0",
      "_model_name": "LayoutModel",
      "_view_count": null,
      "_view_module": "@jupyter-widgets/base",
      "_view_module_version": "1.2.0",
      "_view_name": "LayoutView",
      "align_content": null,
      "align_items": null,
      "align_self": null,
      "border": null,
      "bottom": null,
      "display": null,
      "flex": null,
      "flex_flow": null,
      "grid_area": null,
      "grid_auto_columns": null,
      "grid_auto_flow": null,
      "grid_auto_rows": null,
      "grid_column": null,
      "grid_gap": null,
      "grid_row": null,
      "grid_template_areas": null,
      "grid_template_columns": null,
      "grid_template_rows": null,
      "height": null,
      "justify_content": null,
      "justify_items": null,
      "left": null,
      "margin": null,
      "max_height": null,
      "max_width": null,
      "min_height": null,
      "min_width": null,
      "object_fit": null,
      "object_position": null,
      "order": null,
      "overflow": null,
      "overflow_x": null,
      "overflow_y": null,
      "padding": null,
      "right": null,
      "top": null,
      "visibility": null,
      "width": null
     }
    },
    "fa946cbf8b4b45e396613649f3df4e31": {
     "model_module": "@jupyter-widgets/output",
     "model_module_version": "1.0.0",
     "model_name": "OutputModel",
     "state": {
      "_dom_classes": [],
      "_model_module": "@jupyter-widgets/output",
      "_model_module_version": "1.0.0",
      "_model_name": "OutputModel",
      "_view_count": null,
      "_view_module": "@jupyter-widgets/output",
      "_view_module_version": "1.0.0",
      "_view_name": "OutputView",
      "layout": "IPY_MODEL_514b6404a10a4ddfb422b049c953daa7",
      "msg_id": "",
      "outputs": [
       {
        "data": {
         "image/png": "iVBORw0KGgoAAAANSUhEUgAAA18AAAFpCAYAAABj+pLwAAAABHNCSVQICAgIfAhkiAAAAAlwSFlzAAALEgAACxIB0t1+/AAAADh0RVh0U29mdHdhcmUAbWF0cGxvdGxpYiB2ZXJzaW9uMy4yLjIsIGh0dHA6Ly9tYXRwbG90bGliLm9yZy+WH4yJAAAgAElEQVR4nOydZ5gUxdaA39lZ2ExGoldUsAyIYAIVA5gwRzCLiIgYMNyrn+GaL+o1K6KgIqiYEEURAcGMgkoyYwlKlCCZXZbN8/2omWXibu+yy5zlnvd5eAa6q6vf6p4Z+kxVnfIFAgEURVEURVEURVGU2iUl2QKKoiiKoiiKoij/C2jwpSiKoiiKoiiKsgPQ4EtRFEVRFEVRFGUHoMGXoiiKoiiKoijKDkCDL0VRFEVRFEVRlB2ABl+KoiiKoiiKoig7gNRkCyiKoiiKooQwxqQAhwFdgX8A2cE/edbaK5LppiiKsr34dJ0vRVGkYIxZDOxWhUP6WWtH14qMotQRgsFKN+BkoCewDy5YWQ/MAZ631r5XSR29gJuAg4F04E/gDeBRa21h7dnHeJwOPAW0i7N7PbC7tXbzjvJRFEWpabTnS1EUiXwErKpgfy+gxQ5yURTp7AF8Hfz7euA7YENw+0nAScaY0cDl1tqYX1yNMbcA/wVKgc+Dxx4N/Ac41RhzrLU2v5bbgDHmMuAloBh4EBgD/G6tLantcyuKouwoNPhSFEUiD1lrP0+00xjzORp8KUqIAPAp8AgwzVpbGtphjDka+BC4DPgSGBV+oDHmYOAhIB/oaa39Nrg9O3jcUcAQ4MbabIAxZnfgOWAjcIK1dnZtnk9RFCVZaMINRVEURanDWGv/sNYea62dEh54Bfd9gQuuAC6Oc/itgA/4byjwCh6XB/QDyoCrjTGNase+nOtxwx0HaeClKMrOjPZ8KYqy02CMuQe4G7gXeBm4HzgeaAj8gRvS9FSiYUzGmK64X/i7A7sAm4CZwMPW2q8qOO9ooG8Favdaa++Jc1w93APuBcABQBawGvgReMNa+1pY2c9xQ8F6hPcKGmP8uOFZ5wNTgTOstQVh9Z+Pmwt0INAa8AOLgQ9wD9zro5xSgeFAZ1yyg0bAOmAB7vq9Yq0tizrmHOAUXIKENriH6OW44aMPWWuXxWl73PaE7b8M10vzsrX2ssq2B/elAT8BHQCstb449Z4FDApej8bE/gjpeR7hdrShyvdlO5kXfG0b5VcfNywR4DWisNb+aYyZCRwRdH3d6wmNMVnADUAfoH1w8wJgLPBknGGMJ+N635YbY97GfQab4nrCZgJPRL3v2wGL4pz6C2vtMV49g3XtCvwLN5z5H7hhjz8BL+DuXSCq/OdU4bMYVt4L5f7GmObAhbh7ZIBWQCEwH3gVGB7Vy+kDJgXb8aK1dkCUdwowDTcvcJi19lqPToqi1CDa86Uoys7I7sBsoAduDstnuPkvjwJvBx9CIjDG/BP3kNcHN9/sfWAhLqj4whgzIPqYOHyNC/pCf35IVNAY0xj4AhiBy+w2D3gX90B5BG6oV4UE2/EK7mFvGmGBV5AWwf0n4gKoScFzNgduAWYZY5pFVZsKXIr7/2Em8DbwM3AoLpB4IY7KW7jrtgX4OOiSBlwNzDXG7FVZW2qImwkGXvEwxgzEXePjccHhWLbdqz92hGCQ6tyX7SF0TVZGbTdAJrDeWpuo/bOCr128nizoPhM3Z2xXXBD+ES6ZzhBghjGmSdRhbYF6uOtwLvAXMA73GTwd+MwY86+w8nlEftY+8uoX5doDF2gNxr3npwDfAp0IBs4e66noszglyjW8zujtU8L2nQg8CeyH+14YD8zF/TDyDPBOMOACIBgkXoK7dlcYYy6I0rwLF3jNA/7ppV2KotQ82vOlKMrOyKXAO8DFYb1AHXBB2JnAVcCzocLGmJNwgdkK4Ozw4VfGmCNwD8fDjDFfWGt/j3O+UDD3YnivSbAn7oAEjqNwQddM4Fxr7Yqw49JxgWNCgg97o3G/jH9CbOAFrufudGCKtbY47NgMYBiu1+1+XE8QAMFf6nOiM9wFewdmA5cZY26Myjh3ITAxvDcj2IN2N/BvXPa6k6hFgj0htwNLcb0X8bgl+Pp/1tqHo44fDexZW35RVPm+VBdjTCYusAD3mQhn9+Dr0gqqCO3bvYIy0TwL7A9MB0631m4MujQGJgKH49oZHhxkBF8DwEXW2vJeNmPMqbig+WFjzExr7dfW2rW4eWyhMsfgghXPGGNa4a5JdrCuV0K9XMH3+wTgEmPMpxX1hlb2WbTWPhTnmL7BfZdF7wtjDtAt/PsozHsScAbuR4+3ws61Nhh0fQaMMMbMttYuMMb0BO4EcoE+OzKDpaIokWjPl6IoOyP5wNVRD0ALcA8fEJs84J7g6xXRDzrW2q9xD8L1gIEJzpcefC1OsD8CY0xn3INTLu5BbUX4fmttgbV2cgXHp+CGAF6Ce8g6zVq7NbqctTbXWvtB+AN+cPtW4FqgBDgnznHxHszCh2pGDDu01o6NHkZmrS2x1t6JC2hPMMbkJGpPDfEU7gG+osQQbYKvb9eyS4VU975Uk2dxgdOvwPNR+7KDr1sqOD4v+Orp/hljdsP1XJUBA0KBF4C1dgMwILivTzDAieat8MAreNxEYCRublpN9tjcgBt6+pi1NmJ4YXCobKi3+7pEFXj9LFYHa+386O+j4PaVbPsh4dw4+6fjerlygLeMMf/ADStNwd2ThTXhpyhK9dCeL0VRdkamWWv/jrP9deBFoL0xpo219q/gEKlDgc24eRrx+CL4eliC/VnBV6/puHsFXydYa9d4PCaEDzf0ry9uqNyplT3sGWO6AMfi1k7KCtYBUAQ0N8Y0Dj4Yhx/TEBfQ+HDD5I7EDVF7JJiMIfocewXb1R73UB/6cS81+Pf2bJt7VKMYY07B9SR9ZK191xiTqOifuDWwzselMk8q1bkvVaz/Ttz7ZBM7rrfjSFw7ZlprbfROa+2vxphvcZ+lo4idazYq+pggI3E91hX2CFeRk4OviYLxObjgs7MxJj1Oz3KVP4tVJdiD3BN3vVrifujxsS0YTjSk90Hc9T0RN4e0ITDCWvtWgvKKouwgNPhSFGVnJN5EfKy1hcaYlbgekLa4uRGh4VQNgJIKHtzBzcmJR6hHZZ1Hv9BC0r95LB/OI8BBwb/vgRvC9XG8gsF04a/hApOKaIBb2ymcDCKTiOQD11trn446Ryqud+UKtgUPic4Rj88queYVEhyi+TQuEUHCHoog9+GuxwPBoVm/BI8Dl+ChulSpDdt5X7ye4yZce/OAk6y1v8QpFgqis+LsCxHqHcv1eOrQZyHuZzDIn7hgok2CffEIzUlrZIzJrGDdsaONMeEJMrbgEn2MBx6P+uFgj+DrLA/3rynu+yIcz5/F6hD8QeM93A8GiYj7ubLWBowxl+DuQ0Ncz+cNNeWmKEr10eBLUZT/dfzB1024B52KWBu9ITjsKBTAVfTAGU7MQrdV4CBcYo9HcA+Uo40xnRJkx3sQ94D/Ky6l+GxgbWi4mzFmBS6DWkzQZK1dBfiCwdWuwJXAU8aYva21V4cVvR43PGsFcBMwA/g71MtijJmBe9BOFJglWlC7PS7xSGXcinvw/U9waGlCrLVvGmMW4xJznI2bl1QTVLUN1b4vXjDGXAc8BmzF9cbMTFB0cfA10Rw5cPc+vKxXqvoe38q2eV/bw2q2Ja1IwfXaHoXLgHqaMebwsOGeoc/+W0B0r1Y08XoNq/JZrA7jcIHXBOBhXJbDTdba0mBgZqn4PXIm2wLrtrhgd0cmllEUJQ4afCmKsjPSLt7GYGrtVsF/hn7FDqVBL65k8nsi9sH9+rw6Xkr1BISSGFSny+cbXE9GrjHmCVzAMwLoHadsaNt51tqfw3cEU4G3rOxk1qXlXwTcFnzgG2SM+dBa+2HUOQYG5+ZE0z7OtnDiLqgdTNNeYfBljNkD+D9cYPBAJecBwFr7jTFmefCfT1trrw/WNZqKlwuoiKq2YbvvSyKMMdfgegILcMkuvqig+G+4oKeJMWbPBBkPDw2+eh0yGvpc7VFBmdC+8J6kv3DvlT1wGQ4THbOxgl4vgN+iP8fBuWWzgINxiV8mBHctC57z/gQ9g5VRlc9ilTDG7I37ceBvXBKg0qgiFX6ujDEdccOGi3DDKi/Czf863FpbtL1+iqJUH024oSjKzsgJCVJ1X4D73vvDWrscwFr7Fy7VdLNgxrSqEkqMUJVU16GyZ1Qjpfjt1trQELDbcfM5zg0+6EcTSucdLyi8kKr3rITm0XX0cg5jzPEkHqpZEzyNmwNzg9e5NsaYE3HDE3/BBW7JoKbvCwDGmKtwKcgLgTOttRUOgQs+hIcSu1wUp749cL2WRcCH0fsTMB3X69Ut3hIDxph9cOvBlQFfhu0K/f2yBPVeHnz9zKNHOcEfRWYE/7lb2K5Q26sbLFXls1hVQu+RFXECL4hzv0IEA/ixuJ7E/8Nlf/0M11P3SA24KYqyHWjwpSjKzkgmLjV8WmiDMWZPXNZCcL8IhxPKgjjGGHNCdGXGGL8xpqcxplvU9l3ZNs/oOa9y1tp5uMV0c4DxwdTR4fWmB9PfxyM8I1sh7iGsAHjaGBOdDjw0pyx8mCDGmINJkHDCOFrH2X4U2x74fo1zjkEmbP204PUenqANNcGxuDXYJllr3/dygHGL1o7GBRMXxkmgsKOo8n2pDOPWoXsWF3idZa31+mPAQ7j31P8ZY0K9XKF5aS/hnhOeDc9aWBHW2iW49O0puFTnDcPqbITrGUoBxkb1FA8DSoHzjDF9otp2Em5OYQA3nLJKBD+noR7IJWG7HsEl2rndGHNNcIht9LH7GWPOTlB1VT6LVWUBLkDtGPzshTuFFmZPxDCCwxWttU9atyj6RbgfTwYbY87YTjdFUbYDHXaoKMrOyKu4B/M/jDFf44KcHrhekg9wDyflWGvfN26R5YeBj4wxv+PmU+ThhoB1ARrh1l36BsAY8yhuPaYmuEn9VwV7HsLpHHw90xjTLmo41GW4uSndgT+NMV8Ba4DWuLXBNpFg+GSU+8/GmFtxi7GOMcYcFfZL+X24IUcPGGPOw80ZaR0855u4B9Ldoqo8CXjMGPM9rmemCLdIb6gtk4jsBXkQl+VwINDDGDMveE2Oxq1htgqXiKCmaYt70B1cWcEwRuLu5z+ttT/WgpNXqnNfEmLc0gUjcD1mi3ABzHlxiq611oYvVIy1dlbw/fNf3OLHnwIbcfdvF9yCw3dUrXkMAvYGjsG9tz8Pbu+BS+3+A3BNlMdc4xZRfhw3PO5m4HfcZ+BwXKBzS3Dph4rYOziEFCLnfKXj5taVL+FgrV1mjDkTN7fqGeAOY8wvuCClEW7Y3664OWHvVtboSj6LVcJau8YY8yxu6YHPjDFf4D5L++N6nh8Ebos+zrj1w/rihjb3C6tvZTABxxRglDGmSzBQVhRlB6M9X4qi7Iz8CRwCfIV74DsWNy/oFuCc4C/BEVhrH8cNyxmJm4h/PHAa7iH/S1xSibFhh5zLtqFBWbgHnug/oQWWDyBqPlFwUv6RuJ6zubi5NWfjkndMxyVi8MrTuDT5h+OGP4XOMS7Y/s9wD5Gn4ean3YBblyge03Ep+bNxKa7Pxk3U/wR3DU4Pv37BZA6H4AKyhrj1y9oCQ3Bprj2tfVZNHk4wTykGY8wgXPs/AZ6oRadKqeZ9qYhGbBuquDfx34t9ibMmVNDnYVzQ/RnuXp6GSy7zb+DoSuZYxatvLW644p24uVwnBf8swwVyR8RLSmGtfRJ3Xd7HBZ99cIH/+0APa+2jHk7fgm3tvQQX0Fpcwo2ecdZW+wzYDzdn8G+gG24o8X6475HbqFrwGfezWE2uxyW6+QH3/XASLqHIScSu2RaaJzYMt07cBdHX2Fo7FRdkNwbejNfTpyhK7eMLBLYn6ZaiKIocjDH3AHcD91pr76nlcy0GFltrj/HqZa2t1lweRVEURVF2DrTnS1EURVEURVEUZQegXc6KoijV419sW6S2Mt6j6uskKYqiKIqyk6HBl6IoSjUIztvxWvZ74Pta1FEURVEUpQ6gc74URVEURVEURVF2ANrz5Z00XBaolbi1SBRFURRFURRFUaLxA62AWbj1F8vR4Ms7h+BSMCuKoiiKoiiKolTGkbhlb8rR4Ms7KwE2bNhCWZmMoZoNGmSwefPWZGtEINEJZHqpk3ckeqmTdyR6SXQCmV7q5B2JXhKdQKaXOnlHopckp5QUH40bZ0EwfghH53x5px2waN26PDHBV2pqCiUlMWvFJhWJTiDTS528I9FLnbwj0UuiE8j0UifvSPSS6AQyvdTJOxK9JDmlpPho2jQbYHeish3rOl91GImBs0QnkOmlTt6R6KVO3pHoJdEJZHqpk3ckekl0Aple6uQdiV4SneKhwVcdpkGDzGQrxCDRCWR6qZN3JHqpk3ckekl0Aple6uQdiV4SnUCmlzp5R6KXRKd46LBD77RD2LBDRVEURVEURVFkocMOd1IyM+snWyEGiU4g00udvCPRS528I9FLohPI9FIn70j0kugEMr3UyTsSvSQ6xUODL0VRFEVRFEVRlB2ADjv0Tjt02KGiKIqiKIqiKBVQ0bBDXeerDtO4cRYbNmxJtkYEEp1Appc6eUeilzp5R5JX2qdjyXr5XlLWLKeseVu29L2bwp59kq1VjqRrFUKKU0lJMVu2bKawcCtQJvKH0JQUnzgviU4g00udvCPRqzadUlL8pKVlkJXVgNTUettVl/Z8eacdwnq+/H4fpaUyXEJIdAKZXurkHYle6uQdKV5pn44l5+nr8BVuW4QzkJZB7uChYgIwKdcqHAlOJSXFrF+/mszMHNLTs/D7/fh8vqQ6KYryv0EgEKC0tJSCgi3k5+fSpEmLSgMwTbixkyLxPx6JTiDTS528I9FLnbwjxSvr5XsjAi8AX+FWsl6+N0lGsUi5VuFIcNqyZTOZmTlkZzckNTVVhJOiKP8b+Hw+UlNTyc5uSGZmDlu2bN6u+jT4qsNkZ6cnWyEGiU4g00udvCPRS528I8UrZc3yKm1PBlKuVTgSnAoLt5KenlX+b79f5uOLRC+JTiDTS528I9FrRzilp2cFhz5XH3lXTvHMxo35yVaIQaITyPRSJ+9I9FIn70jxKmvetkrbk4GUaxWOBKeyslL8fn/5v0tLy5JokxiJXhKdQKaXOnlHoteOcPL7/ZSVlW5XHRp81WGystKSrRCDRCeQ6aVO3pHopU7ekeK1pe/dBNIyIrYF0jLY0vfuJBnFIuVahSPFKXyoYUqKzGGHEr0kOoFML3XyjkSvHeFUE0OeNdthHaasTN6vDhKdQKaXOnlHopc6eUeKVyiphuRsh1KuVTgSnaTmCpPoJdEJZHqpk3ckekl0ikfSsx0aY5oA9wJdcRkFGwIrgDnAg9baOXGOOQe4Bdgf2Ap8Atxqrf0zwTkGAtcAHYBNwETgdmvt31VQbYewbIeKoiiK8r/AqlVLaNlyt2RrKIqiePo+kp7tcBfgMmADMA54HJgJnAR8Z4zpHV7YGHNVsFwbYDjwHnAq8K0xZvfoyo0xDwXLpQFDgU+D5/vaGNO4Vlq0g2jSJKvyQjsYiU4g00udvCPRS528I9FLohPI9JLoJHGyP8j0kugEMr3UyTsSvSQ6xUPCsMOFQGNrbUn4RmPM3sA84CHg7eC25sCjwCrgwFDPlTHmVVxQ9RhwdlgdHYGbgZ+Abtba/OD2KcDLwJ3ATbXZuNpEwiToaCQ6gUwvdfKORC918o5EL4lOINNLopPEyf5Q814rV66gd+/TPZW9/fa7Ofnk02rdqaaQ6KVO3pHoJdEpHkkPvqKDrrDtvxlj5gMHGGN81toA0AfIAv4TPmTQWvu5MeZj4HRjTDNr7drgrr643r0HQoFXsPwrxpg7gEuNMbckcpCO35+y3RlXahqJTiDTS528I9FLnbwj0UuiE8j0kujk88mc31FbXu3a7U6PHsfF3Td//i98882MHe60vUj0UifvSPSS6BSPpAdfiTDGtAP2AuYHAy+AI4Ovn8Q55GPgeOBwYIKH8p8Ag4B9gR9rQHmHk5lZn02btm+tgZpGohPI9FIn70j0UifvSPSS6AQyvSQ6paT4KC2V95RVW17t2u1O//4D4+575523Kgy+/teu1fagTt6R6CXRKR5igi9jTGvgSsAP7AqcCQSA68KKtQ++/hGnij+iyoT+nmutXVNJ+ToZfEn7zxBkOoFML3XyjkQvdfKORC+JTiDTS6KT1AcsSV7dux9M584HcvvtdzN06BPMmzeb0tIyunQ5kKuvvp527WKmybN06WJGjx7JnDmz2Lx5E02bNqNHj+Po1+8KMjNj5/7NnTubwYOvinv+zp0P5Jlnno/ZPmvWN7z11uvMn/8LW7dupWnTZnTpchCXXNKPXXf9BwDXXnsl338/l6++ml1+XCAQ4L777mTatCkMHnwTffpcCEBxcTHvvfcOX331JUuWLGLjxg00btyEQw/txhVXXEXz5rtEnP/555/lm29msGrVSgoKttKsWXMOO+wILrmkH82aNQ+7FkuYMGE8s2Z9y+rVKykuLqZt239wyimn07v3+TEpx0PXO16b47Vn5MgRjBr1Ak8/PZwDDzw44h5ccsl5lJaWxgwlLSgo4M03x/Dxx1NZvXoVW7dGDgkOrz8RQ4bcw+TJE/H7/bzzzsSINgO88cYYhg17EiDGrbi4mDffHMNHH01mxYrlpKWls//+nbjssivYd9+OFZ4vHvGGyhYWFvLWW68xbdoU/vrrL+rXr0+nTgfQv/9VuBlJkVQ0NLdly1aMG/dB+b/j3QeAiRPf46GH/gPA229PoFWr1nHrqykkzUxrDdwN/Bs3XLAIONta+1lYmQbB181xjg9taxhVPl7ZROUrJSOjHgCNG2fh9/tITU2hUaNMwK2FEtrfpEkWKSk+6tXz07ChW1cmOzuN9HS3v2nTbHw+qF/fT4MGbn9OTjppaS4ebt48B4C0tFRyctJdYxpkUL++H5/PHR+qLzvbrcHSsGEG9er5SUnxlU+QzsioV75GS6NGmaSmpuD3+2jc2O3PzKxPZmb9GmtTdnbadrUJqJU25eSkJ+0+JWpTdnZa0u5TojZlZ6cl9T4lalOzZtlJu0+J2tS0aVbS7lOiNjVpkpXU+5SoTaG/J+M+JWpTyF/Cd3l4m0LXK9nf5eFtys5OS/p3efj6PX5/CikpPlJSfOUPwKGJ9j4f+P2+8mPi7Q/V5fa7OlNTK96/7Xhf+X6/P3a/3x++f9sjVujvIe+K9kc7h85b0f4Q4c4AubmbueaaAWzatIEzzzyXww47nG++mcHVV1/BihXLI9r0ww/fc8UVl/L555/SuXMXevc+n113/QdvvPEqgwcPoqioKK4zQJcuB9Gv3wD697+Sfv0GJHR+441XuPHGa/nll5/o3v0o+vS5kP3378SMGV/x008/RNyn6DY9/vjDTJs2hX79BnDeeReWX8e8vM0888wTABx11DH06XMBe+yxJ5MmfcBVV11OXt7miPu0YIGldes2nHTSKfTpcyF77LEn48eP49prryQQKC0/55dffsaUKRNp164dp512FieffDqFhQU8/fRjPPnkI9W6TxW/t9z2YcOeorR02zDfbe9NH4899iAvvjgcCHDGGWeVX/OWLVtF1F/Zey/Ehx9OiHnvffDB+PIFzcM/TxDgttv+yYgRw/D7U+jd+wKOPvoY5s6dzTXXDOC772bG/TyFtvXpcwGXXz6Afv0GcNRRx8RcE7/fR1FRAddfP4jnn3+W7OxszjrrXI4+ugc//DCPQYP688MP3ydsU4cOe3H55VeWX5Ps7OyIexJ5Tbbdh4KCAl54YXjYPaz8OyJUZ2Xfe4kQ0/NlrZ0N+Iwx9YE9gX8Ck40x11prh1d89I5j69ZiADZs2BLcEiifjLxlS2F5ufXr3f6ystLyXw3z8rbtX7cuD4CiolKKitz+3NyC8v1r1uQCUFhYQmGhm5K2efPWiOPT0+tRUFBcvi3818nQ+UO+EDlpOuSfn18Us2172pSeXm+72gTUSpuKi0vLXXb0fUrUJr8/hby85NynRG3y+XxJvU+J2pSXV0hZWSAp9ylRm7ZsKaKkpKzabaqN915+fhFFRaXVblNtvfdCD/XJuE+J2hRaMkTCd3l4m9LT60XUn6zv8vA2Rf9fk4zviPAlXkpLy/D5fIQvlROaaB8IbOt9ij4mtD90XPj+0Gc50f5txwfK55SE93KF9peVbTs+fPL/tv2xx3jZX5FTONFL4fzxx0JOPfUMbr31zvJtkydPZMiQexg69EkefPBRAoEARUXF3HvvHdSrV4+RI8eU90ABvPXWawwd+gRvv/0GF13UN+L8oTXgunQ5iMsvv7J836hRL8Q4W/sbzz33DG3atOXZZ1+kWbPm5WWKi4vJy8uLuE/hbXr++WcZP/5tzj33fPr3Hxhxn7KycnjnnQ9p1qxZRNunTZvCvff+m3HjxnLZZVeUOz/yyFMx1+3FF4czevSLWGvZe+99KSsL0KvXKZx33kXUq1cvrM2l/N//3cj48eM4//yLadWqdZXuU2h7WVn4+2hbm+fMmcXXX0+nQ4e9WLDg9+D+bddo2rSPaN26DSNHjiEtbdsD/pw5s1m1amV5/ZW9twC6dTuciRPf59JLL8fn81FWFmDevDksXbqE7t2P4quvvoz4PE2cOIFvvpnBEUccyQMPPEpqaiqBQIBzzjmPK6+8jAceuI9x4z4gNTU14vMUCiT79LmwPEicNOkDvvzy8wiv0tIAI0e+wM8//8h1193IeeddVO7at29/Lr/8Ih555AHGjBkb0aaSEld/hw4m+N5w9X344QcR9yTymmy7D6+99jLr16+jffu9WLjwdwKByPsUIt53REXfexUt+Cyp5wsAa22RtXa+tfYK3DyuJ40xbYK7Q71VDeIcGtq2KWzb5gRlE5WvU4T/xyYFiU4g00udvCPRS528I9FLohPI9JLoVNNrlL7zfSoHPpJFi39nc+AjWbzzffV+m0722qnR+P3+iKAIoFevU9htt3bMmDGdLVvcA+PXX3/J33+vpm/f/hGBF0Dv3hfQuHETPvlkWkz9RUUuQA4PUDI4HiwAACAASURBVBIxYcK7lJWVcdVV19K0abOIa1WvXj0aN46/+s9bb73GK6+8RK9ep3D99f+M2V+/fv2YwAvguONOJDs7m9mzv0voVFJSwoIFv/PttzPx+/0RQ/CaNWse0y6/389pp51FWVkZ8+bFLEO7XQQCAYYNe4o2bdpy5pnnRmwHyMvLo6SkhNat20QEXtXltNPOYuXKFcya9W35tgkTxmPMPnToYGLKf/TRJAAGDRqM3+8v9+rQwXD88b1Yu3YNs2Z9E3NcYaF7j6SmVvweKS0t5f3336VDh70iAi+A1q3bcNppZ7F48Z/88cfCiH0lJSXB+lOr/Plbu3Ytb745hhNO6EWHDntV6djtQUzPVwI+BU4EDgXG49LSH4TrGVsfVXbP4Gv4XVkIdDXGNI8z7yte+TpF06bZ5ZG2FCQ6gUwvdfKORC918o5EL4lOINNLopPfn1JjaaXf+T6Vm95PZ2ux+6V6+SYfN72fDhRwTueqJUOuSa+aoGXLVrRq1SrCyefz0bFjJ5YsWcyiRX/SsWMnfv31FwAWLlzAyJEjYurx+/0sW7YkZntenusFTUtLr9Tlt9/mA3Dood2CdVZ+rT78cALPPPMkPp+PSy7pFzPPKsQvv/zM66+/zM8//8TGjRsihu2tW7c2pvySJYu56KJtAU6DBg25+ebbadGiRblTKBiYMuVDFi9exNat+REP9/HqXbVqZdzrt2rVygrbCTB16mSsnc999z1EQcG2HpXQdWrUqBEtWrRk3rw5TJ48kaOP7hF3Hp5X9tyzPfvttz8TJrzLoYd2Y/PmTXzxxadcf/2/WLs2NlXCwoULaNSocflcwfD716XLQUya9AELFy7gsMO6RxwXeo+kp1f8Hlm2bCl5ebn4fK3jXsPFi/8E3Jy4Pffclt4hP9/1lNevn1blz9+LLz5HaWkZV155TXA4545BevDVKvga+vabDpwHHAvMiip7HFAKhKf8mQ50DZZ/M6r8scA64Nca9N2hrF8v6z9DkOkEMr3UyTsSvdTJOxK9JDqBTC+JTjUZ4AyZllYeeIXYWuxjyLS0KgdfkgIvgEaNGsd1aty4CQBbtrgH19xcN7Bo0qQPYspWxJo1btWf6KQN8diyJY+MjAyystzcGC/X6uGHh7D33vuwcOECHnnkAYYOHRETgM2bN4cbb7wGv99P166H06ZN2/IH/bfffoPi4tie24YNG9Gv3wAKCwuxdj55eXk0bdoswunRRx/igw/G06pVa3r0OJYmTZqSmprKqlUrmTx5YnmvXzirVq1k1KgXKm1XNIWFhTz//LN07NiJnj2Pi7gP4U533nkfd911G0OG3MOQIfdU+TzRnH76WTzyyANs2LCeqVMn4/encvzxvXjjjVdjyubnb2G33drF9Yp+P4Wzdu0aMjIyyudgJWLzZjcQ7fffLb//bhOWKygoiPj3pk3uuEaNGlXp8/fnnwuZPHkiF1xwCS1atPR8XE2Q9ODLGLMfsMBaWxS1vRNwOZAPfBXcPBb4LzDYGPNS2CLLR+OCr/fC1vgCt5DyTcDtxpgJYYssX4pLY/9EXV3jC6BePX/5/A4pSHQCmV7q5B2JXurkHYleEp1AppdEp5pcz+evTfF7UxJtrwhp6wxt3LghrtOGDW7wUFZWKLmJe43OblcZf/7pBg9FD1WMR3Z2DsuXL2PLljyysrI9Xas99+zAk08+yzvvjOX5559l3Li36N37/Igyr732MiUlJTzzzAt07Lh/+fZAIBA3iAD3oB6euv+VV17i1ltv4qWXxrDnnh1Yt24tEye+R4cOezF8+KiIYX6ffDI1Yfa+yrIdJmLs2DdYvXoV99wzJGZf+HXq3PlA3n77ffr3v4QVK/7iggsuISUlhcmTJ3rqXYvm2GNP4OmnH2PSpA+YPHkixx13ApmZmXHLZmZmsX79tkFn4V7R76cQhYWFLFu2lD322JPKCAXlJ510KnfccY/nNqxcuQKAFi1aVunz98wzT5GTk8Mll1zm+Vw1hYQ5XwOAFcaY94wxTxpjHjPGTATmAtnAtdbaDQDBoYM343rE5hpjHjfGvAhMxvViRQwGttb+DDwK7A/MM8Y8bIx5DXgJN9zw/h3TxNohPb1+shVikOgEMr3UyTsSvdTJOxK9JDqBTC+JTomGn1WHNg3jP60l2l4RNelVE6xatbK8dypEIBDg559/xO/3s/vuewCw7777AfDrrz97rjsQCDBv3lyys3MihoElYu+99wXgu+/cvCAv1+qxx4aSlZXNhRdeijH7MGLEM/z11/KIMitW/EXDhg0jAi+AhQt/j+klScRhh3WntLS0fM7SypUrCQQCHHTQoTHzq37++SdPdXpl06aNjBkzimOO6cn++x8Qsz/6On300WQWL17EFVcMYsCAQfTvP7A8kUVVSU9P5/jjT+KVV15i8eJFnH76WQnLtm/fgY0bN7BkyeIYrx9+mBcsEzlv6scfv6e0tJQDDjiwUpfddmtHZmYW8+f/Wp7IxQvz57shs8bs7fnzN2vWN3z33Uz69RtQHvTtSCQEX+OAD3GLHfcHrsUFS2OBw6y1o8ILW2ufA3oDK4CrgLODx3ez1i6KU/+twXJFwGBcD9nLwBGhoK6uEp5lRQoSnUCmlzp5R6KXOnlHopdEJ5DpJdEpOnPb9nDH8YVk1IusL6NegDuOL0xwRGJq0qsmKC0tjUijDTBlyocsWbKYww/vXv7g2b370eyySwtefXUUv//+W0w9eXl5MdunT/+Cv/9ezXHHnUhKSuWPk2eccRYpKSkMH/4M69evi8okV8LGjRtjjgkl4UhNTeWOO+6mtLSUBx+8L2Lu1S67tGDz5s0sXbq4fFt+fj5PPfVYTH0FBQVxA7Jp0yYDkJ3tcrG1aNECgF9++SniXPPn/8L7779baVurwujRIyksLOSqq66Luz/8Oq1Y8RdDhz5Bp06dOf/8i+KWrypnnHE2mZlZHHTQIeyzz34Jy5144skADB8+lLKysnKvhQsX8NFHk2jWrDmHHNI14ph33x0LwAkn9KrUIzU1lTPOOJvFi/9k1KgXYgKwQCAQ03u4bNlSPv/8U9q23ZU99mjv+fP3zDNPseuu/+CMM87xVL6mSfqwQ2vtV2wbVuj1mHG4oM1L2QAwIvhnpyInJz0ipbEEJDqBTC918o5EL3XyjkQviU4g00uiU0qKr8YCHTevq4Ah09L4a5OPNg1d4FXV+V417VUT7Llne7777hsGDepP584Hsnz5Mr744lNychpwzTU3lJdLS0vjvvse5F//GswVV1xK166Hsdtuu1NYWMjKlX8xb94cevU6hZtvvh2AYcOe4r333GNYUVFhwiQTI0eOoE+fC8nJyaFDB8OgQYMZNuxJLrzwXI45pieNGzfh779XM2vWt1x11bUxC+6Gs8ce7enbtz8vvjicd98dyznnnAfAmWeew+zZ3zFoUH969jyBQCDAt9/OpFGjRjFz0ZYtW8J11w3kkEO60bJlK0pKSvjxx++xdj6tWrXh2GOPA6B58104/PAjmTFjOldeeRlduhzI6tWrmD79C7p1O4Ivv/wsxq+6/PHHAnr3voC2bXeNuz/0niorKyuf53XHHfd4Cni90KHDXowfP6nScieffBqfffYJ06d/Qf/+F9O162Fs3LiRTz6ZCsCtt95JaqoLKxYssLz00gtMn/4F2dk5zJz5NTNnfl1e18KFLo3+9Omfl9cNcMUVVzF//i+MGvUCn3/+CfvvfwDZ2dmsXr2KX375mfXr1/Hppy61w2OP/ZcpUz6kuLiIG264GfD++fvjjwXl6fKTQdKDL6X6FBXJm64m0QlkeqmTdyR6qZN3JHpJdAKZXhKdajql+zmdS6oVbEUjLdV8Tk4DHnzwUYYOfZLx49+mtLSUrl0P45prboh52O/YsROjRr3OmDGj+e67b5g9+zsyMzNp0aIl55xzXkRgFD6XKlGSjlDyiZNPPo2cHLcw9wUXXMwee+zJm2+O4fPPP6GoqJimTZvRrdvhdOrUudL2XHzxZXz55ecMH/4Mhx3Wndat23DMMcdy55338frrr/DhhxNo0KABRx11DAMHXkPfvhdEHN+sWXOOOOIofvrpB77+ejr16qWyyy4tuPTSy+nd+wIyM7PK5wzdddf9DB/+DDNmTGfcuLH84x+7BTMitqzR4Cs7O4d+/a5IuD/0nnrzzdf44Yd5/Otft9GmTdsaO79XUlJSeOihx3jjjVf56KNJvPXW66SlpdO584H06zeAffftWF52wYLfywOrvLzchElIpk//gtzc3PL3VlpaGk8++Szjx49j6tRJTJs2hUAgQNOmzdhvv4707Hl8+bGzZn3LoYd25aKL+paf2+vn74ADukQs9Lyj8Un7ohBMO2DRunV5on7VUhRFUZSdnVWrltCy5W7J1qhTdO9+cMIEEDVR9+23311hT9XcubMZPPgq3n57Aq1ata5xB0UukyZ9wAMP3MtXX82usNyQIfewcuWKWnmP1iZevo9SUnw0bZoNsDuwOGJfrZkptU7z5jnJVohBohPI9FIn70j0UifvSPSS6AQyvSQ6pabKfHyR6CXRCWR6qZN3JHpJdIqHDjusw6xZk5tshRgkOoFML3XyjkQvdfKORC+JTiDTS6JTSYms9bRCSPSqDad+/QbQocNeFZZp1ao1/foNIDs7fvD+v3KttheJTlCxV4cOe9Gv34BK6zjyyGPKF2GubSdJaPBVh0lLS6WwUNZYfIlOINNLnbwj0UudvCPRS6ITyPSS6CRtPa0QEr1qwyl8jaxEtGrVusJy/yvXanuR6AQVe3XoYOjQwVRaR03Pu5J6raLR4KsOU7++vP8QJTqBTC918o5EL3XyjkQviU4g00uik8/nE5fcAmR5hebbSHIKR6KXOnlHopdEp3jUjcGRSlykpf4FmU4g00udvCPRS528I9FLohPI9JLoJDXxlUQviU4g00udvCPRS6JTPDT4qsM0aJCRbIUYJDqBTC918o5EL3XyjkQviU4g00uiU0qKL9kKcZHoJdEJZHqpk3ckekl0iocGX3WYgoKiZCvEINEJZHqpk3ckeqmTdyR6SXQCmV4SnaQOLZLoJdEJZHqpk3ckekl0iocGX3WY4uLSZCvEINEJZHqpk3ckeqmTdyR6SXQCmV4SnaQ+Y0n0kugEMr3UyTsSvSQ6xUODrzpMkybZyVaIQaITyPRSJ+9I9FIn70j0kugEMr0kOvn9Mh9fJHpJdAKZXurkHYleEp3i4asrXXQCaAcsWrcur85M6FMURVGUnYFVq5bQsuVuydZQFEXx9H2UkuKjadNsgN2BxRH7as1MqXXS0+slWyEGiU4g00udvCPRS528I9FLohPI9JLo5PPJnFgv0UuiE8j0UifvSPSS6BQPDb7qMKmp8m6fRCeQ6aVO3pHopU7ekegl0Qlkekl0kvqMJdFLohPI9FIn70j0kugUD3nfqIpn8vIKk60Qg0QnkOmlTt6R6KVO3pHoJdEJZHpJdJI6/F+il0QnkOmlTt6R6CXRKR4afNVhGjaUt/aKRCeQ6aVO3pHopU7ekegl0Qlkekl08vtl/sQt0UuiE8j0UifvSPSS6BQPDb7qMPn58tZekegEMr3UyTsSvdTJOxK9JDqBTC+JTlJ/4a5pr5UrV9C9+8H8+9+3xN3/3nvj6N79YLp3P5hJkz7YIU41hUQvdfKORC+JTvHQ4KsOU1palmyFGCQ6gUwvdfKORC918o5EL4lOINNLopPURM070quwsIDRo0dWWk6vlXfUyTsSvSQ6xUODrzpMo0aZyVaIQaITyPRSJ+9I9FIn70j0kugEMr0kOkldz2dHeo0b9xZr166hTZu2FZbTa+UddfKORC+JTvGoG5ZKXNav35JshRgkOoFML3XyjkQvdfKORC+JTiDTS6KTxN442HFeeXl5vPbaKzRr1pwzzjg7Ybn583/htttu5vTTT6RHj8M4++xTuPPOW/ntt18BOPfc08qHLVb0Z+XKFQAMGXJPxL9DzJ79XXnZuXNnl2+fO3c23bsfzMiRI2LcSkvL6N79YK699sqI7ddeeyXdux8ctz0jR46o0jnCmTTpg4TDM7/77htuvPEajj/+aHr2PJy+fc/nnXfG4nUt3LfffpOBA/tx6qnH06PHYZxzzqn85z93s3Tpkkr9K2vHp59+zJ133krv3mfQs+fhnHRST26++Xp++eXnmDoSXTsvbe/Vq0eFbY92D3+vJ3KPd38B7r//Trp3P5hzzz0tZt/PP//ILbfcwJlnnsRRRx0a8T6s7B5L/V6IJjXZAkr1yciox9atxcnWiECiE8j0UifvSPRSJ+9I9JLoBDK9JDr5fD7PD8Y7kh3l9frrr7B58yb+9a/bKC0tiVtm6tQpDBlyN35/KkcddQwtW7Zi7do1fP/9XL7+ejp7770vffpcQG5ubvkxkydPJC8vl969L4ioKzs7J6FLWVkZw4Y9WeU2SFmTaezY13n66cdp2rQZxxzTk8zMTObMmcUTTzzM0qWLufHG+PPtwvnjjwU0atSIffbZj4yMDJYvX8Ynn0xl5syveO21d2jUqFG1/Z5//lnS0tLo0uVAGjduwt9/r+bLLz9j9uzvePrp4ey//wHVrnt72l7d9/pvv81n6tQpcfctWvQn118/iLKyMo46qgdt2+5KSkoKq1atZPLkiZXWLfV7IRoNvuowKSnyOi4lOoFML3XyjkQvdfKORC+JTiDTS6KTz1ez8zvSPh1L1sv3krJmOWXN27Kl790U9uyTdK94rF+/jrfffoO2bXfl1FPP4P3334kps3btWv773/vJyspmxIiX2HXX3cr3lZWVsX79egD69Lkw4rh58+awahX07z/Qs8+UKR+yYMHvdOiwFwsW/O75OAmx159/LmTYsKfo1Kkzjz76FNnZ2ZSVBSgpKeHuu2/jnXfGcuKJJ7Pvvh0rrOfWW++M2TZx4vs89ND9zJ07m549j6u24+OPD6VFi1YR25YuXcwVV/TlxReH89RTz5VvDwW0gUCg0uA2uu2ZmVkAntte3ff6sGFP0qRJU8rKYnupPvvsYwoLC7nlljs4/fSzyrfPnTvbY/BVN+Z9yftGVTyzZYu8tVckOoFML3XyjkQvdfKORC+JTiDTS6JTTWY1S/t0LDlPX4f/72X4AgH8fy8j5+nrSPt0bFK9EvHyyyPZunUr/fsPJDU1/m/okydPpLCwkIsvviwi8AIXTDdr1qxGXAoLC3jhhec44IAudO9+dJWOlZCZ7v3336W0tJQbb7yZzMyscqfU1FT6978KgE8+mValOktLS1m6dAlffvkZAC1bttwux+jAC+Af/2jHgQcexA8/zKO4eFuvdKNGjQH4++/VldYb3fYQXttenfv31VdfMG/eHAYMuIq0tLSY/Rs3bgCgXbvdq1x3dZ2SgfZ81WEaNcpk48b8ZGtEINEJZHqpk3ckeqmTdyR6SXQCmV4Snfz+lBqb35H18r34CrdGbPMVbiXr5Xur3PtVk17xWLlyBRMmjKd9+7047rgTE5az1s3pOvTQbrXq9MYbY1i7dg1DhjzMzJlfJyw3b96cmPk6KSkV98zEm98zb94cT+fIzs6mZcvWdOt2GGlp6QmP+fXXX/D7/Xz55ed8+eXnpKT4yh/gS0rccM5ly5YkPD6cwsJCjj32iPJ/Z2RkMmDAoLg9R5MnT4xpy6pVK+PWu27dWkaNepFZs77h779XRwRbAJs2bSoPpvfeex8+++xjnn9+GIMH/5OGDRMPd4xuezgVtT3kHn6tErlH1/ncc0PZc8/2nHzy6XEzdRqzD+Du/T//eWv5sEOv1Pbnr6bQ4KsOk5dXkGyFGCQ6gUwvdfKORC918o5EL4lOINNLolNNPmClrFlepe0VUdsPfiNHjqC4uJgrr7y6wmFleXl5ADRr1rzWnNavX8frr79Kz57Hs+++HSsMvr7/fi7ffz+3SvWPGvVClcrHO0ejRo256677OfTQbnGPyc3dTGlpaYXn2rp1a8J94fj9fvr1G0BJSQmLFv3B8uXLadEifq+XlyF0ABs3bqR//0tYt24tBxzQhcMPP5KsrCx8Ph/Tp3/BwoW/U1y8bR2+s8/uw6effsxHH03mo48mV1h3ddvu1T2aCRPGs2TJYh57bGjCgKpXr1OYM2cWU6dO5sILz6nyOepC4AUafNVpJE4qlOgEMr3UyTsSvdTJOxK9JDqBTC+JTjVJWfO2+P9eFne7JP788w+mTp1Mp06dOfzw7hWWDSXIWLt2zXYle6iIkSNHUFJSzMCB11Ratl+/AXHnkSXKagjw1VexGQFHjhyRMFgIP0dubi6fffYxjz32EA8+eB/vvvth3GMyM7Pw+/188snXCYdwesUN19vWxqlTp3Dfff+mQYOGMffr6aeHc+CBkW2fO3c2gwdfFbHtww/fZ+3aNQwceC2XXHJZxL5ff/2FhQsj59hlZGQwYsQovv56OosX/1neg7Vw4e9Mn/5FRNnqtt2rezj5+VsYNeoFDjmkK127HpawnN/v56677ueQQ7oyZMg9HHTQoXTqdIDnhBt1BZ3zVYdp0EDe2isSnUCmlzp5R6KXOnlHopdEJ5DpJdGpJtfz2dL3bgJpGRHbAmkZbOl7d5Xrqs11hl544TnKysoYOPDaSsvus8++gEsjXhtOixcvYuLE9zn77D60bt2mWnXU5rXKycnh9NPPonPnA1mz5m/Wr18Xt9y+++5HaWkp1v5W406hgOubbxL3CFbGihV/AXDEEZHBW2FhIQsW2LjHpKamcvTRPejbtz/9+w+kf/+BHHnkMTHlotteVapyrV59dTSbNm3kmmtuqLRsQUEBL7/8Es2b78J//vNf+vcfyEknnVrjTsmkblgqcdmwQd7aKxKdQKaXOnlHopc6eUeil0QnkOkl0akmhxcV9uxD7uChlO6yKwGfj9JddiV38NBqZTusrWFPv/9umT79cw477AgOOKBzpeV79TqF9PR0xowZzaJFiyL2lZWVsW7d2u3yGT78GbKysunbt3+166jtIWIlJSWsXr0av98fkVAinDPOOAe/38/jj/+XDRvWxzitWrUyZk2zaEpLSyPS9YeYOtUN+2vQoGE1WwC77NICgJ9++rF8WyAQ4MUXhycMKL0S3fZoKmu71/u3du1axo59nV69TqF9+w6Vlh827CmWL1/KbbfdRU5O4iUOtscp2eiwwzpMZmZ98vOLKi+4A5HoBDK91Mk7Er3UyTsSvSQ6gUwviU7hk/1rgsKefaoVbEVT014hVqz4C5/Px5VXXu2pfNOmzbjttru477476dfvQo46qgctW7Zi3bq1zJs3l169Tq5SOvlo/vhjAYMH31Tlh+NwKku4UVWsnc97740DIDc3j+nTP2f58qWccMJJZGRkxD2mQ4e9GDz4Jp588lEuuOBsunU7ghYtWrJp00aWLFnEzz//xN13/4dWrVonPG9+fj5nntmLQw7pSps2bQEf1s7n++/n0qBBQ0499Yxqt+nEE09mzJjRPPHEw3z//VyaNGnKTz/9wLJlS+nc+cAqz6MLJ7rtXbseTsuWrTy33et7ffnypaSnp3t6786a9Q3vvTeOM888N+E8vYqorc9fTaPBl6IoiqIoinB69jyeDh2M5/LHHnsCLVu25rXXRvPddzPJz8+nceMmdOzYiSOOOGq7XNq0actZZ/XerjpqmhkzvmLGjK8AyMrKomXL1lx99fWce+55FR53zjnn0b694a23XmPOnFnk5m6mYcNGtG27K4MGDebgg7tWeHxaWhonnHAyP/wwlzlzZgE+mjdvzrnnnsf5519My5axqeK90rJlK4YOHc6wYU8zY8Z0UlL8HHBAZ/7973t49dXR2xV8QWTb586dXeW2e+X88y+mWbPmFZbJzc3lwQfvp3XrNlxzzfU1cl6p+Hb2ibQ1SDtg0bp1eXUiqlYURVGUnYVVq5bQsuVulRdUFEWpZbx8H6Wk+GjaNBtgd2BxxL5aM1NqncaN449hTiYSnUCmlzp5R6KXOnlHopdEJ5DpJdFJ6sR6iV4SnUCmlzp5R6KXRKd41A1LJS6bN8ta9BJkOoFML3XyjkQvdfKORC+JTiDTS6KT1In1Er0kOoFML3XyjkQviU7x0OCrDlPRAovJQqITyPRSJ+9I9FIn70j0kugEMr0kOimKotRVNPiqw2RnpydbIQaJTiDTS528I9FLnbwj0UuiE8j0kugkdXiRRC+JTiDTS528I9FLolM8kp5wwxjTFugDnALsDTQHVgPTgPuttYvCyrYDFsWpJsQ+Ns5qccaYgcA1QAdgEzARuN1a+3cVVNuhCTcURVEUZYejCTcURZHCzpBw41rgMaAV8AHwBPA70A+Ya4zpGOeYH4B74/yJWTXQGPMQMBxIA4YCnwKXAV8bYxrXcFt2KFlZaclWiEGiE8j0UifvSPRSJ+9I9JLoBDK9JDrV9BpRNYVEL4lOINNLnbwj0UuiUzyqvc6XMeZg4DzAAJnW2uOC23cDugIfW2tjl8yO5VvgCGvtjKj6bwQeBx4FekUd87219h4Pjh2Bm4GfgG7W2vzg9inAy8CdwE0eHEVSViZvYqFEJ5DppU7ekeilTt6R6CXRCWR6SXEKBALl88+krpIj0UuiE8j0UifvSPTaEU41MWKwWj1fxpincEHTP4FTgR7hXsAbQF8vdVlrx0cHXkGeAvKB7tVxDNIX18YHQoFX8Jyv4HrXLjXG1NmFprduLU62QgwSnUCmlzp5R6KXOnlHopdEJ5DpJcEpJcVPaWlp+b+TPWUiERK9JDqBTC918o5Erx3hVFpaSkqKf7vqqHLwZYy5GrgOGA90BB4M32+tXQrMBM7YLjNHSfBPNG2MMdcZY24zxlxkjEm0bPaRwddP4uz7BGgK7FsDnkmhSRN5a69IdAKZXurkHYle6uQdiV4SnUCmlwSntLQMCgq2lP9b6sR6iV4SnUCmlzp5R6LXgeetwAAAIABJREFUjnAqKNhCWlrGdtVRHcuBwI9AH2vtr0BRnDLzgfbbI4YL3hrg5mhFcxzwNPAAMAZYYoy5IU659kCutXZNnH1/hJWpk2zcKG/tFYlOINNLnbwj0UudvCPRS6ITyPSS4JSV1YD8/Fzy8jZRUlJCSUlp5QclAYnrDEl0Aple6uQdiV615RQIBCgpKSEvbxP5+blkZTXYrvqqM+RuL+BZa21FLVwLNKueEhhjWuCSYxQCd4XtygfuwfW6/QlkAz2BR4AnjDGrrbVvhJVvACTKaLg5+NqwKm4ZGfXYsqWIxo2z2Lw5H5/PR3Z2Ohs35pOVlUZZWRlbtxbTpEkWGzfm4/enkJlZn02btpKdnUZJSRkFBcU0bZrN+vV51KvnJz29Pps3byUnJ52iohIKC0to3jyHNWtySUtLpX79VHJzC2jQIIOCgiKKi0tp0iSbzZu3Ur9+CqmpKeTlFdKwYQb5+UWUlpbRqFEm69dvISOjHikpKWzZUkijRpnk5RUQCARo0CCTDRu2kJlZ313Y/Jpp0+bNW0lNpdptWrcuj/T0ejXeptB1TsZ9StQmd53TknKfErWprCxA06aZSbtPidrUuHEmGzYk5z4lalPDhpnk5m5Nyn2qqE35+YVJu0+J2hQIBNiypSgp9ylRm/z+FHJzC0R8l4e3qbCwhJyc+kn/Lg9v09atRWRl1Uvqd3nz5o1ISfGRl7eJjRtXU1JSEjb/K0BKiq88E7HP5yufH+ZGIQVISUkpn7tW8X4fPh9h+12dle935w93qmx/IueablNip+S2Kfx4vU/appppkzt/bbSpXr16pKam0bJla7KyMiv93svPj9c35ahyqnljzHpgnLX2yuC/7wbustb6w8q8DvSw1raqUuXu2CzckMCuwABr7YsejukCfAcssNbuG7a9CPjbWts2zjEDgOeBy621ozyotUNYqvmGDTPYtGlrsjUikOgEMr3UyTsSvdTJOxK9JDqBTC918o5EL4lOINNLnbwj0UuSU02nmp8NnGyMyYy3Mzj/6iTg66pWbIzJwKWb7wrc7CXwArDWzgPmAfsYY8L7Ajfjer/iEdq+qaqeUpDyBgtHohPI9FIn70j0UifvSPSS6AQyvdTJOxK9JDqBTC918o5EL4lO8ahO8PUo0BqYZIzpBPgAjDEpxphDgA+BHFyaeM8YY9Jwwwl7AHdbax+toldoja/wmcELgZwECTn2DCtTJ8nOlrf2ikQnkOmlTt6R6KVO3pHoJdEJZHqpk3ckekl0Aple6uQdiV4SneJR5eDLWjsVtzbWEbjeptuDu7YC3wBdgOsTpI+PizGmHjAWOBF42Fp7X1WcgscfgJsTFp5cY3rw9dg4hx0LrAN+rcq5JFFSIm+yo0QnkOmlTt6R6KVO3pHoJdEJZHqpk3ckekl0Aple6uQdiV4SneJRrZyM1tongc7As8BcXObAn4ARwEHW2mFe6zLG+HEZC08Hhlpr/6+Csp2MMSlR2/y4hButgXetteGp6V8GyoDbw4dJGmMuxSUOeSWqfJ2ioCD5a69EI9EJZHqpk3ckeqmTdyR6SXQCmV7q5B2JXhKdQKaXOnlHopdEp3hUOeFGTWOMuReX0XAtLpiLEbLW3hMs+x5wEDADWIrLdng0sA9u+GB3a+3qqPr/C9yCW1T5faANcB6wCDjUWrvBo2o7hCXcaNrUZVaRhEQnkOmlTt6R6KVO3pHoJdEJZHqpk3ckekl0Aple6uQdiV6SnCpKuCEh+BoN9K2ojLU2NK/sIuAi3OLOzXGB2h/Ae8Cj1tqY5BnGGB9wJXAt0AGXYGMicJu1NlEa+ni0Q1jw5dJzJtsiEolOINNLnbwj0UudvCPRS6ITyPRSJ+9I9JLoBDK91Mk7Er0kOdVo8BUcsucJa+0rVapcNu0QFnzVr++nqEjWQpMSnUCmlzp5R6KXOnlHopdEJ5DppU7ekegl0QlkeqmTdyR6SXKqKPiqziLLo9k2NNAXfI2ORnzBbTtT8CWO9PT6FBXJSqsp0QlkeqmTdyR6qZN3JHpJdAKZXurkHYleEp1Appc6eUeil0SneFSn56sY8OMyHT4HJJzdZq19ebvsZNEOYT1fiqIoiqIoiqLIoqZ7vvbDrfV1Ki6Rxa3W2ne301GpBjk56eTmFiRbIwKJTiDTS528I9FLnbwj0UuiE8j0UifvSPSS6AQyvdTJOxK9JDrFozrrfP1urT0d6AlsBt42xkw3xnStcTulQoqK5GXJl+gEMr3UyTsSvdTJOxK9JDqBTC918o5EL4lOINNLnbwj0UuiUzy2O9uhMeZiYAjQFhiHyyL4Zw24SaMdOuxQURRFURRFUZQKqGjYYbUWWQ7HWjsGt2DxHcCJwK/GmMeMMY22t26lYpo3z0m2QgwSnUCmlzp5R6KXOnlHopdEJ5DppU7ekegl0QlkeqmTdyR6SXSKR3USbhxVwe7mwJ3A/sAGa22z7XCTRju050tRFEVRFEVRlAqo6YQbnxObWj6cUPr5xtWoW6kCaWmpFBbKGt8q0QlkeqmTdyR6qZN3JHpJdAKZXurkHYleEp1Appc6eUeil0SneFQn+LqPioMvZQdRv768N5lEJ5DppU7ekeilTt6R6CXRCWR6qZN3JHpJdAKZXurkHYleEp3isd0JN/6HaIcOO1QURVEURVEUpQJqNeGGkjwaNMhItkIMEp1Appc6eUeilzp5R6KXRCeQ6aVO3pHoJdEJZHqpk3ckekl0iocGX3WYgoKiZCvEINEJZHqpk3ckeqmTdyR6SXQCmV7q5B2JXhKdQKaXOnlHopdEp3hUec6XMaYMb3O+Atba6swpUzxSXFyabIUYJDqBTC918o5EL3XyjkQviU4g00udvCPRS6ITyPRSJ+9I9JLoFI/q9Hx9GfVnKS7DYfT26TXkqCSgSZPsZCvEINEJZHqpk3ckeqmTdyR6SXQCmV7q5B2JXhKdQKaXOnlHopdEp3hsd8INY8zdwF3WWn/NKImlHZpwQ1EURVEURVGUCtCEGzsp6en1kq0Qg0QnkOmlTt6R6KVO3pHoJdEJZHqpk3ckekl0Aple6uQdiV4SneKhwVcdJjVV3u2T6AQyvdTJOxK91Mk7Er0kOoFML3XyjkQviU4g00udvCPRS6JTPOqGpRKXvLzCZCvEINEJZHqpk3ckeqmTdyR6SXQCmV7q5B2JXhKdQKaXOnlHopdEp3ho8FWHadhQ3noGEp1Appc6eUeilzp5R6KXRCeQ6aVO3pHoJdEJZHqpk3ckekl0ikd1Us1/GrWpXYLtAWvtsdX0UjyQny9vPQOJTiDTS528I9FLnbwj0UuiE8j0UifvSPSS6AQyvdTJOxK9JDrFozrrcB3jcbumBKxlSkvLkq0Qg0QnkOmlTt6R6KVO3pHoJdEJZHqp0/+zd95xdlRl4//OrduTbDopLHUSkkCko9ICCCIdjeL7k2DhVQSioqCAEIoFKSIB7K+vEV9LBCkCKiUgTaSHQMKhk0ayCanbbp3fH3Nvcnd3dnN29+7Os8nz/Xzy2ezcc2e/c+bu7DxzznkeeyR6SXQCmV7qZI9EL4lOQfQ4+DLG6FRFIQwdWsW6dc1ha7RDohPI9FIneyR6qZM9Er0kOoFML3WyR6KXRCeQ6aVO9kj0kugURJ/rfO1ANKB1vhRFURRFURRF6Qat87WdUlkpr56BRCeQ6aVO9kj0Uid7JHpJdAKZXupkj0QviU4g00ud7JHoJdEpiN6s+QLAdd2J+Ou8xgLJgCaeMebq3u5f2TaRiLzYWaITyPRSJ3skeqmTPRK9JDqBTC91skeil0QnkOmlTvZI9JLoFESvph26rjsXOIf2I2cOW5NsOPjBV7TPhnJoQKcdKoqiKIqiKIrSDWWddui67mzgPOAB4JP4gdY84DPAzUAK+Cswoy/SyrYZOrQqbIVOSHQCmV7qZI9EL3WyR6KXRCeQ6aVO9kj0kugEMr3UyR6JXhKdgujN+NwXgDeAE4wxdxa2vWuMmW+M+TpwOPAJYEKZHJUuaGpqC1uhExKdQKaXOtkj0Uud7JHoJdEJZHqpkz0SvSQ6gUwvdbJHopdEpyB6E3ztATxgjCnOvfOALSvcjDHPAncDF/RdT+kOiZkqJTqBTC91skeilzrZI9FLohPI9FIneyR6SXQCmV7qZI9EL4lOQfQm+EoDLSXfNwFjOrR5D3B7K6XYUVcnb3hVohPI9FIneyR6qZM9Er0kOoFML3WyR6KXRCeQ6aVO9kj0kugURG+Cr/eAiSXfLwZmuK6bKNl2OLC2L2LKtlm/Xl4hOYlOINNLneyR6KVO9kj0kugEMr3UyR6JXhKdQKaXOtkj0UuiUxC9Cb4ewg+2imnqb8PP5PGU67rXuq77GHAA8LcyOSpdUFWV2HajAUaiE8j0Uid7JHqpkz0SvSQ6gUwvdbJHopdEJ5DppU72SPSS6BREb+p8/QJYA4wAVgE/B6YDXwT2LbS5F7i4HIKKsr2RXDCf6nlXElmznIqR42meNYfUjJlhaymKoiiKoij9TK/qfAXhuu5o/FpYy4wxK8uyU1k0oHW+lD6SXDCf2rnn46Rat2zzkpVsnn2zBmCKoiiKoijbAWWt89UVxpjVxpj/bKeBl0iGDasOW6ETEp1Ajlf1vCvbBV4ATqqV6nlXhmTUHin91BGJXupkj0QviU4g00ud7JHoJdEJZHqpkz0SvSQ6BdGrkS/XdaP4Uw1XGGNWFbZNBT4GrANuN8Y0We5rPDATvzbYJGAksBp4ELjaGPNOwHtOBy4CpgGtwMPAd4wxb3fxM74MnIufJn8j/rTIS4wxjbbHjMCRr2jUIZeT4VJEohPI8Rpx/BCcgN85z3FYe//GEIzaI6WfOiLRS53skegl0QlkeqmTPRK9JDqBTC91skeilySnso58ua47Fj/D4TPAe67rznJd91jgReB64H+AF13XHW65y/OAG4Cx+Ek6bgReBz4PvFAI6kp//leA24Fx+OvN7gJOAP7juu4uAb7XFNolgZuBBcBZwJOu6w6zP3J5OI4TtkInJDqBHK/8yPE92j7QSOmnjkj0Uid7JHpJdAKZXupkj0QviU4g00ud7JHoJdEpiN5MO7wY2A34HlsDrquBy/FHw24ovD7bcn//AT5ijNnLGPMVY8y3jTFH4RdpHlrYPwCu644sfL8K2NcYc4Ex5ovA8cDwws+mpP1U4EJgEfAhY8xFxpjPAl8Adgcu68Xxi6GmpiJshU5IdAI5Xs2z5uAlK9tt85KVNM+aE5JRe6T0U0ckeqmTPRK9JDqBTC91skeil0QnkOmlTvZI9JLoFESPpx26rvsm8Iox5hTXdffBD8AeNsYcU9LmWSBpjNm7t2Ku60aAzYBnjKkpbDsXuAW42BhzTYf2DwAzgDHGmLWFbdcB3wLOMMb8qUN7gx+wjTHGZC2UGhA27VAZnJRmO8xrtkNFURRFUZTtinIn3BgHvFr4f/Hrcx3aPAFM6MW+O5It/CtyaOHrwwFtHwKiwIct2z+MH3zt1UfH0KiuToat0AmJTiDLKzVjJuvmvUrrv9pYN+9VUYGXpH4qRaKXOtkj0UuiE8j0Uid7JHpJdAKZXupkj0QviU5B9Cb4agYqAEpGjFo7tMkAfa10djJQh79Gq8juha9vBbR/q0Ob4v83G2PWWLYfVOTz+bAVOiHRCWR6qZM9Er3UyR6JXhKdQKaXOtkj0UuiE8j0Uid7JHpJdAqiN8HXu7Qf1ZoM3Nqhzc5Ar1POF2qG3Qyk8NeSFakrfN0U8LbitiEd2ge17ar9NqmsjAN+Osto1CEWizB0aBXgR9zF1+vrq4lEHOLxKEOG+Gt8amqSVFT4rw8fXoPjQCIRpa7Of722toJk0q97PXJkLQDJZIzaWn8Oa11dJYlEFMfx39/amqGiIk5NjR/pDxlSSTweJRJxqK+v3uJbfBIwdGgVsViEaNTZko6zqiqxpSJ4OY6prS3Tp2MC+uWYMplcaOepq2NKpbKhnaeujqm1NRPqeerqmCorE6Gdp66OKZmMh3aeujqmeDwW6nnq6piKs9vDOE9dHVNxYbaEa3npMbW2ZkRcy0uPqbU1I+ZaXjym1taMmGt56TEV+zqM89TVMeXznphreekxJRKx0M5TV8dUUZEI7Tx1dUxVVclQz9Ngut9Lp7NiruXd0Zs1X98DphtjTuji9Ur8wOtuY8xZPdq5//5q/CmBBwFnG2N+XfLa6/jp4uMd12m5rnsM8ABwlTFmTmFbGmg0xnRKJee67tnAL4EvGGP+10KtAWFrvurrq1m3rjlsjXZIdAKZXupkj0QvdbJHopdEJ5DppU72SPSS6AQyvdTJHolekpy6W/MV6+nOjDHftWh2BL0Y+SoEbn/DD7wuLA28ChRHq+rw64mVUhwVKy2WtKlke0eC2g8qNmxoCVuhExKdQKaXOtkj0Uud7JHoJdEJZHqpkz0SvSQ6gUwvdbJHopdEpyB6M+2wW4wxrcaYhV2ss+oS13WTwJ3AkcAcY8z1Ac3eLHzdLeC13Tq0Kf6/tpCi3qb9oCIaLfvp6zMSnUCmlzrZI9FLneyR6CXRCWR6qZM9Er0kOoFML3WyR6KXRKcgRFi6rhsH5gPHAtcaY67qounjha9HBbx2NJADnrJsfxTwAX7B6EFJcZ6rJCQ6gUwvdbJHopc62SPRS6ITyPRSJ3skekl0Aple6mSPRC+JTkH0eM0XgOu6Q4Fz8QOYsUDQyjLPGBM0QtVxX1HgD8BM4GZjTJfFmQsjWO/gTyecboxpLGw/HHgEuMsYc1pJ+6nAQvyU+AcbY1oK288E5gE3GmMu2PYRAwLXfCmKoiiKoiiKIovu1nz1JuHGTsCT+BkNN+JnC9wIxIGqQrOVQMYYs4vF/q7Ez2i4Fvgp0EnIGHNFSftzCu1W4I+W1QGfxU+Bf6Ax5p0O+/8RcBHwOnA3fp2yT+MHcQcaY9bbHbm84KumJklTUypsjXZIdAKZXupkj0QvdbJHopdEJ5DppU72SPSS6AQyvdTJHolekpzKXWT5KmAicAZQX9h2ozGmBtgXeAxYBkyz3N/Oha8j8IOwOQH/tmCM+RnwKfwA7yvAacB9+CNb7QKvAt8ptEsDs/GnJ84DPtKDwEsk2ay8egYSnUCmlzrZI9FLneyR6CXRCWR6qZM9Er0kOoFML3WyR6KXRKcgejPytQxYZIw5vvB9HriiuE7Ldd0a/Kl+9xpjvlZm3zBpQNjIl6IoiqIoiqIosij3yNco4OWS77PAluqCxpgm4B/4I1JKP1Is6CYJiU4g00ud7JHopU72SPSS6AQyvdTJHoleEp1Appc62SPRS6JTEL0JvtYANR2+75hYw2PrlESln1i3rilshU5IdAKZXupkj0QvdbJHopdEJ5DppU72SPSS6AQyvdTJHoleEp2C6E3wtQTYs+T7p4HjXNc9AMB13T3wE1q80Xc9pTvi8WjYCp2Q6AQyvdTJHole6mSPRC+JTiDTS53skegl0QlkeqmTPRK9JDoF0Zvg62/Aka7rji58fy1+psOnXddtxA/Ohhe2K/1IRYW8egYSnUCmlzrZI9FLneyR6CXRCWR6qdO2SS6YT/2sKdQdXUP9rCkkF8wPW2kL0vqqiEQvdbJHopdEpyB6k3Ajjj+lcL0xJl3YdjjwbfxFZcuAnxtj/lpm17BpQBNuKIqiKIpSQnLBfGrnno+Tat2yzUtWsnn2zaRmzAzRTFGUsChrna8dmAaEBV+1tRVs3twWtkY7JDqBTC91skeilzrZI9FLohPI9FKn7qmfNYVo47JO23OjJrBu3qshGLVHUl+VItFLneyR6CXJqdzZDq1wXXfnbbdS+kI6nQ1boRMSnUCmlzrZI9FLneyR6CXRCWR6qVP3RNYs79H2gUZSX5Ui0Uud7JHoJdEpiB4HX67rzrZocy6wqFdGijWplLwPmUQnkOmlTvZI9FIneyR6SXQCmV7q1D35keN7tH2gkdRXpUj0Uid7JHpJdAqiNyNfP3Fd97KgF1zXbXBddwFwM/B6n8yUbTJyZG3YCp2Q6AQyvdTJHole6mSPRC+JTiDTS526p3nWHLxkZbttXrKS5llzQjJqj6S+KkWilzrZI9FLolMQvUm48X/AZ4CbjDEXlGw/D/ghfubDq4FrjDG5MrqGTQPC1nwpiqIoyo5EcsF8quddSWTNcvIjx9M8a46IpBZSvRRFCYeyJ9xwXfdW4Bzgt8A1wC+Aw4HngbOMMeGvMC0/DQgLvpLJmLghVolOINNLneyR6KVO9kj0kugEMr2kOA2GrIJS+qoUiU4g00ud7JHoJcmp7Ak3jDHnAj8AzgIWAwcDlwIHb6eBl0gSiVjYCp2Q6AQyvdTJHole6mSPRC+JTiDTS4pT9bwr2wVeAE6qlep5V4Zk1BkpfVWKRCeQ6aVO9kj0kugURJ9Szbuu+w3geuBZ4GhjTFO5xATSgLCRL0VRFEXZURhx/BCcgHsWz3FYe//GEIwURVGC6bdU88aYG4EvAvsBC1zXre/L/pSeUVdXue1GA4xEJ5DppU72SPRSJ3skekl0ApleUpykZxUEOX1VikQnkOmlTvZI9JLoFESPx+dc180DHR89OcD+wBrXdYvbPGPM4Bj/G6S0taXDVuiERCeQ6aVO9kj0Uid7JHpJdAKZXlKcmmfNCVzzJSWrIMjpq1IkOoFML3WyR6KXRKcgehMcPUbn4EsJgUxGXjJJiU4g00ud7JHopU72SPSS6AQyvaQ4FZNqSM4qKKWvSpHoBDK91MkeiV4SnYLo05qvHYwGhK35Gj68hg8+kLXMTqITyPRSJ3skeqmTPRK9JDqBTC91skeil0QnkOmlTvZI9JLkVPZU8zsoDQgLvhRFURRFUQYTWhNN2REoa8IN13V3c133TNd1h3fx+vDC67v2Rlaxp6IiHrZCJyQ6gUwvdbJHopc62SPRS6ITyPRSJ3skeklyKtZqizYuw/E8oo3LqJ17PskF88NWA2T1VRGJTiDTS6JTEL3JdngpcC3QVV7XjcCPgIt7K6XYEYv1KVllvyDRCWR6qZM9Er3UyR6JXhKdQKaXOtkj0UuSk/RabZL6qohEJ5DpJdEpiN5YHgE8aIwJLCFd2P4gcGQfvBQLmppSYSt0QqITyPRSJ3skeqmTPRK9JDqBTC91skeilySnyJrlPdo+0EjqqyISnUCWV3LBfOpnTaHisArqZ00RM5LaFb0JvsYCS7fRZlmhndKPDBkir56BRCeQ6aVO9kj0Uid7JHpJdAKZXupkj0QvSU7Sa7VJ6qsiEp1Ajpf0qaxB9Cb4agLGbKPNaEBOSLyd0tIir56BRCeQ6aVO9kj0Uid7JHpJdAKZXupkj0QvSU7Ns+bgJdvftEuo1VYcOYl/JCFu5ETS+StFipf0qaxB9Cb4ehY4xXXdkUEvuq47CjgNeKYvYsq2yeXyYSt0QqITyPRSJ3skeqmTPRK9JDqBTC91skeilySn1IyZPHzyrSxPTiSPw/LkRB4++dZQsx1KHzmRdP5KkeIlfSprEL0Jvm4EhgFPuK57quu6NQCu69a4rnsa8AQwBLihfJpKEEOHVoWt0AmJTiDTS53skeilTvZI9JLoBDK91MkeiV6SnO54KcZJS89iwtT3iO6XZ8LU9zhp6Vnc8VIsNCepIyd3vBRj3+uqGXlJNfteVx1qHwUh5XMlfSprEL2q8+W67kXADwCnsKkZqC783wMuMsb8uCyGcmhA63wpiqIoiqL0in2vq2b5xs7P/ccPyfPChc0hGMGI44fgBNwLe47D2vu7Suzdv9zxUowL7q6gNeNs2VYZ9/jxyW2cPj0w390OS3HksjSA9pKVbJ59c6gjqmWt8wVgjLkWOAD4FfACsAp4Hvg5sN92GHiJpLJSXj0DiU4g00ud7JHopU72SPSS6AQyvdTJHoleUpxyeVi+0Ql8bflGhzP/r4IfP5JgwetR1jYHt+sPJI2cZHNgGiNcel+yXeAF0Jpx+P6DyQF36gopn6vUjJlsnn0zuVET8ByH3KgJoQde26LXY5jGmBeBr5TRRekhkYi8egYSnUCmlzrZI9FLneyR6CXRCWR6qZM9Er0kOL3zgcP5d1SwdcJUeyrj8MaaKP9YsvWGfsLQPHvvlGP6uDz7jMuxz045hvXDTLfmWXMCR076OwnImiaHxasiLF4dYfGqKItXRXh9TYRUtuvAc/lGh1QWkgJmIEr4XBVJzZhJasZMqquTNDfLz/fXq2mH28J13TpgaMmmDcaYTWX/QQNLA0KmHd7xUozvP5hkxUaHcUM8Lj0mpcPQiqIoiqKIwvPgtufiXP73JLEInDYtw59ejNOWDZ5Ot6kNFq2M8tLKCAtXRHlpRZR31229yZ84LM/0cTn2GZdn+k459t4pRzkynicXzKd63pVE1iwnP3I8zbPmlG3kpC0Db6yJ8OqqCItX+0HWktUR1jRtPa4xtXn2GpNnrzE59hqd58p/JFndFBzcjK3L85WPpPnc/hlq5AyEKR3obtphfwVfc4DLSzZdaYy5quw/aGBpQEDwJX0e8NChVWzY0BK2RickeqmTPRK91MkeiV4SnUCmlzrZI9ErLKfVmx2+cWcFD70e49Bds8w9rY1xQ70eP0De0Aovr/QDsYUr/KBs6Yatgckuw/1AbJ9x/ijZtLE5ait659yXvvI8WLnRaTeStXh1hDfXRsjl/Xu2ipjHpNF59hqdKwRbeSaPzjO8uv19ZdC9XkXM478PSfPiiiiPvx1jaKXHFw5K86VDMoyoHvj7Uv2sd09Zgy/XdRdYNGsAdgZmFL5/1xjzXo9+kDwaEBB8SVysWkosFiGblZF+tBSJXupkj0QvdbJHopdEJ5DppU72SPQKw+meV2JceHcFrRm47NgUXzwoQ8dZan3xWtcCC1dE/dGxlRFeXhHdcm/kOB67Dc/7o2PjcuyzU56pY3NWo0S2Tk0peK2xJMhaFWHJ6igb27YGSxPNitT0AAAgAElEQVSHtQ+y9hqdY5fhHlHL2XrdBakvLI9w82MJ7l8SoyIG/7VfhnM+kmbCsIG7P9XPeveUO/iyPSrPGBPt0c5l04CA4Gv0d2vwAuZMO3is/l5TCEbtiUYdcjl52SAleqmTPRK9JDlJn4osqa+KSHQCmV7qZI9Er4F02tAKF99bwR0L40wfl+PWT7axx8jg28Zye61pcnh5ZWTrCNnKKO9v2hqQ7Tkyzz47+QHZ3uNyTB2Tpyrhv7era2g+D++ud9qNZC1e1X4qZE3Sax9kjckxeVS+16NvHemun95YE+HWx+P8ZWGcvAen7Z3lvEPTTB7d/wHIjv5Z3xb9EXxd0d00Qtd1rwAu0+Cr/HQ18rVTXZ6XLgp/5GvYsGrWrw/fo4jkm1JpfQUynUCmlxSnrqan3HhK+FORJf7+SXQqRcrnqhR1skei10A5PfpmlK/9tYLGJocLjkjz9cPTxLu5CxwIr9WbHRau8AOyl1dGeXHF1rVWEcfDHZVnaKXHc0ujZPJbr6FRx2PCMI/GzQ4thWtrxPHYdXhxFKuwPmtMnglDPZx+TM5o008rNjj8/KkEtz0XpyXtcOykLOcfluLAif0XhO3In3Ubwgi+5gCXa/BVfoJutMBjbJ3Hn2e1MmkAnnYMFqSvj1OUctDVAxnwGFoJVXGP6qRHdQKqE1u/ViU6bEt6he3t21UnPKqT/n6qEvRoyoy03z+JTooy2GlJw9UPJPmfpxPsMdIf7Zo+Tua9iOfBqs1Ou9GxR96Ikvc6R0/JqMdZB2XYa3SOyWPy7Dly60iZVNa1wG+eTvDrp+Osa4lw8M5ZZh+W5qg9c/0aICqd6S74EpCsUukJ/g1CW7snt6fvneEPL8Y59udV/PCENs7YNxvaL1lVVYKWlnQ4P7wD338wuE7GVf9McvK0LLGQHw1I6qsiEp1AppcEp+UbnC7r5gB8cp8MzWmH5jQ0px1a0v6NR3M6QnOKLa8F3Xh0RWW8fZBWVRqkbQni4LZn44G/f9+5N8mqJodcziHnQTbv1//J5Sl875DPF7Z7kMtBznPatdvyWt7Z8v3W9zjt2uULPyObd1i6ziHndXb6/oNJMcGXhM9VR9Rp20geUe3Pvnp+WYTz7qjkrbURvvzhNJcck8K2/FMY59BxYGydx9i6LB+f7G8b9d2awLbpHFx9fPhpy3vST/VV8K0Zac75aJo/PB/np08k+OxtVUwenWP2YWlOnlq+ex9pv4Mg0ymI3gZfR7iu6wFpoAVYCbxujFnU0x25rjsbv2DzAcCe+EUgKo0xbQFtG4B3utndZGPMawHv+zJwLrAHsBG4F7jEGNPYU18JnD49y+nTs+0+ZF/6cIav/qWCr99ZyRNvZ7j2pLYdPgVpVzel72+OMO6KGoZVeoys8RhRXfhX4zGy8NX/Ps/Iar9NdQJ9aqSIYV0L3PSvJL/5T9d3OeOHePzghG3fOHgepLK0C9Ka09Cc8qfblAZp/lc/iCtt15x2WNPk0FLY1pLeOlWnIxvbIlz5j86LIeJRj6jjj6xFIxCLeEQciEVKt0E04hGL0Om1qONvTxRej0UgUvh/cb/vfBD8J6+7AFZRtkXHEdXlGx0uuLsC2H5HVDM5uOGRBDc9lmBMrccdn2/h0N1yYWv1ivFDvMBrwLghMtYO9YbqBJx9SIazDszw15dj3PJ4gnP+UskPH8zz1UPTnLFvxjpIVspPuRJuFHeyAfgjUAXMspl2WAjiAN4DhuDXB9tW8LUQuCtgd7cYY9Z2eM81wLeB14G7gfHAzMJ+DjTGrN+WY4EGBEw77I5cHn7yrwTXLUiw6/A8v/pMG1PGyBz67082tsJV/0xy23PB8wOGVuT50iEZ1jY7/r8mhzXNEdY2Oe0yFZVSEfMDspE1JcFZdb5TwDayxmN4ldftkyXJT0gV2bSk4Vf/TnDz4wmaUjBzepZpY3N8r8Mor4SpdB+6tpoVm4LXpz7xteatwZRDpyxo/UVXUzSjjsfvP9fKUXsOzptHJVz2/lE1qzbLzUJcbkxjhHNvr+DllVFmTs/wgxPaqCtTcokw2BGmI+fz8ICJctNjSZ5fFmVEdZ7/PiTD5w9Kl6VOmtKZck87PLLwNQpU4AdL44BpwOHAV9kajNlwPPCsMWat67qPFvaxLV4yxlyxrUau604FLgQWAQcbY1oK2/8BzAMuAy7ogasIuioGGI3AN49Mc0hDji/Pr+C4n1fx/U+k+Nz+mQEbtQl7seO9r8a4+N4ka5ocjt4zwxNvxzoVc/zhCV0HO+ksfNDiP8X3gzI/QFvT5Adna5sdVm92eOX9CGubY2RywR1bX5XfMqJWGrAtW+9w+8I46ZzMJ6Rhn7+ukOg1kE6ZHPzh+TjXP5Jg9eYIx03KcMkx6S1rPOurPHEB/Xc/lgq8obnsY6nQRuUvPaazUyLqUV/lccbvqvjU9AxXH99GfVU4fqCfdVvCdmpscvjbKzHuWhQLDLzAv743pQh9Fkq5+iqfh1/+O873H0xSk/D4zRmtnDCl99eZsM9hkaDlHBKuoUXK0U+RCBw3Ocexk1p4+t0ocx9P8IOHksx9PMGsAzJ8+cNpxtT1bGBByvkrRaJTEGUvsuy67inAbfijX2fhTyN8yRjzssV7H8UPvrY18jXPGHOWxf6uA74FnGGM+VOH1wwwHBhjjLH5DWtAwMhXcsF8aueej5Nq3bLNS1ayefbN7aqxr2lyOO+OCh55I8ap0zJcf3Jb2dKedkdYaT7f3+Twnb8l+fuSONPG5vjxKW3sMy7fr6NMngeb2tgSnK0pjKKt3RKwlX4fYUNr1xFwdcLjsmNTTB6VZ9LoHMNCuvmTlKa1FIleA+Hkef4DhR88lOSttREOnJjlux9Lc3BD8AiNtH6SOMob5HTC1Cw3Pppg7mMJhlZ6XHNiihOnhLN2VtI5lHj+ioTRT+tb4L7Fce58OcaT7/hJGiaPzrFig8OmVHAAVp3wOH2fDGcekGHvncKZiVKOvlq23mH2Xyt48p0Yx07KcsMpbYyq6ds+JX3Wi+xITq+8H+GWxxPctShGLAKf/lCGcz+aZtcRdj9rR+qr3lDWbIc2FIKeb5Zs6jY7Ysn7HsUu+HoIuAeoAZYCDxhj1gS0fxo4CBjV8XXXdX8KnAPsYxMYIiT4qp81hWjjsk7bc6MmsG7eq+225fNwy+MJfvhwgonDPH796Vam9fPFf6AL3OXz8Lvn4lz9zySZHFx0VIqvfDjTadqfhMJ76SyMv6IGAuq0+YPFW7ePqc0zabT/b/KoHJNG59lzVJ7qfs60JKGfgpDo1d9OT7wd5ep/JnlxRRR3VI5Lj0lx7KTuM1ZJ7CeQ6RXk9Mr7Eb5xZwULV0b5+OQM156UYnTtwF7vpfSV9KlYA9VPm9vg70ti3LUozqNvRsnmHXYZnufUaRlOnpZl8uh8l+UezvtommUbI9y9yJ+Bsc9OOT53QIbT9s4M6GhYX/rK8+DPL8a45L4KPA++/4nyJfWS8lkvZUd0enedw0+fSPDHF+Kkc3DilCznH5pmn21krNwR+6onDHjw1Vt6EHx1pBU/gcZPOrRfCySMMXUB+/omcD1wujHmrxZ6DQgIvkYcPwQn4Jx5jsPa+zcGvufpd6N8ZX4Fa5sdrvx4ii8c1H/TEIcOrWLDhpb+2XkHXm+M8M27k/znvRiH7prl+pPb2GV48LkZSK/u6GrNybi6PPd9uYXXVkdY0hjhtdVRlqyO8HpjZMu0ScfxmDjUY3KhgGMxONtteJ5EmfKWSumnjkj06i+nRe9H+N4DSR55I8a4IXm+fVSKT03PWqV4l9hPINOrK6dsDn7+VJxrH06SiMFVHx/YDLJS+qqra5WUdUz92U/NaXjIxLhzUYyHX4+RyjqMH5Ln5GlZTt07w7Sx+U6fh+5GCTe0wh0L4/zu2ThLVkepSvhZij93QIZ9duq8r3LT275a0+TwzbuT/GNJnEMassw9rY2d68t3/yPls17KjuzU2OTwq6fi/OY/CTanHA7fzU9T/9Fdgx/67ch9ZUN3wdcALXMuGy3AFcA+QC0wFvgvYD1wo+u6Z3RoXwds6mJfxe1DeiJQWUgPM2xYNdGoQywWYehQf45YdXVyy+v19dVEIg7xeJQhhdWMNTVJKir814cPr8FxIJGIUlfnv15bW0Ey6d9FjxxZC0AyGaO2MF+wrq4Sb+T4QK/8yPEMGVJJPB4lEnGor6/e4nvUlBgPn9vC0ZP8yvNf+nMlTtJ/vaoqQVWhcEU5jmnjxpYeH1MiEcVxKH5IqaiIU1N4LBh0TNF4nLlPVDLj1ipeXxPllk+muPNLbey7e1WXx9TU1Dag56mrY7r0mBRV8fZ/vCrjHledkGWPnRLM2DPHpSfE+dmn0zxyfisbbvR4+utN/OGsDJcem2P6uBxL18eY+3iCL8+v5PCbq2m4qobDb6nmq7dXceOjCZ5YVs176yNEoz0/pg0bWsp2nior41RX+68PHVpFLBYhGnUYNqznn71IxBnQ82RzTECfjqnjZ+/ddQ7n31nFUbdW8+LyKNed7vH0N5o582CPYUPtjimf90I9T139PrW1ZUI7T10dUzqdDTymWBS+fVyEp76VZsqYHF+/s5KZ8ypZuTk2IJ+9DRtaQjtPpcfUVQbI5RsdHnmvlhUbHBKJ8K4RGza0lPVaXje0lr8viXHO7ZVMuaaGs/9cyYvLY3z+4Cz3f7mZd3/oMOe4FAfuGqW2tvMxnT0jyQsXNrPphhTmCj8jcfGYhtc4fOvjCR49r4UFs9OcPj3P7QvjfOxn1Rzzsypuey5BJNl/f59aW9M9Pk//eC3GEbdUs+D1GN8/McMD5+fZud4r62ev+PA/7Gt56TE5hSij3L9PfTmmaOHJW39fy3cZneB7J3u8eGETPzwlz5LGCKf/bxWf+FUN974ao6rKP6Y7Xoqx/49rSJ4XYb/rq7nfVA34eerqmDZvbg3tPAUdU1f0auTLdd048DXg04ALVBljYoXXpgP/DdxkjDE93O+jdDPy1c37PgQ8A7xhjNmrZHsaaDTGdIpYXNc9G/gl8AVjzP9a/JgGBIx82a75CiKfh589Fef7DyTZaYjHrz7dyofGl3d4tro6SXNz/9XFeHZphG/eVcFrjVFOnZbh6k+krOad97dXTyjHOopUFt5cG+G11YV/jf5I2dL1W5+nVMU99hyVZ1JhHdnk0Xkmj84zutbr0VNbCUg6f0XK5bSmyeHHjyb43bNxYhH470PSnHdo7zJQSewnkOll41Sc1nzVP5Pk83DJMSm+eHDGutB0f3n1F54Hj74ZZe5jCZ58J3g43cHDK0yRHlObZ/+JOfafkGP/iTn2HpunYoDSV5ejnzI5ePytKHcuinP/4hibUw71VXlOnJrllKlZDm7I9fhc23ptaoPbC6Nhi1dFqYp7nFoYDfvQuPKOhvWkrza1wXfvq+BPL8aZOtYvmDx5dP9M4xqs14WBJiyntgzMfynOLY8neHddhN1H5Dhk5xx/WRjvlMhMynRkSeevrNMOXdetAR7Gr8vVCGSBscW08q7r1gHv4wdfl/Rw34/Si+Cr8N5nCk5DjDGbCtu2u2mH0HW2Q1ueWxbhy3+uZNVmh8uPTfHfh5RvGmJlZZzW1kx5dlZCU8ovmvyb/8TZqc7j2pPaOMa1TwvdX159oT+cmlJ+GuDXVkd5rTHCkkJw1ti09Q5iaKXHpMI6skmj8zRucvjpkwmxF1PYPs9fUwp++kSCnz2ZoC0Ln903w4Uzep5xqpxO/YVEr544rdjg8K17Knj49Rj7T8hx46ltuKP654Y0jL7K5+G+JTHm/ivBwpVRxtTm+eguWe5d3Pkm67oT29hzdJ7nl0V5dmmU55ZFtzz0iUc9po3Ns/+EHPtN8IOy8UM7P+wpB73tp1we/v1ulDtfjnHf4hjrWiLUVXh8Yq8sJ0/LcOiuOeJ9KELbUy/PgxdXRLjt2Th3vhynJeMwZYy/NuyT+2TKksLd1unJt6Ocf0cFKzc5fO2wNN88Ml22Ke198RpI1Kkzubyf+GnuYwkWvR/8yyFlOnLYfVVKuYOva/EzCH4DmAvMAS4rrenluu59wGhjzP493Pej9D74uh/4OLCTMeb9wrbtLuFGudjQCrP/WsE/lsQ5blKGm05rCy3D3rZ44LUoF91TwfubHb50cIaLjw4vVfVg5YNmB1MIxpaUjJZt6qKuGci5mG5vpLPwu2fj/PjRBGubI5w4xf9M7z5y8F9Xtmc8D+5YGOO79ydpSjlccIQ/QtmfN6f9TTrrH9PNjyd4c22UXYbnOf/QNJ+aniEZsx8Rb2xyeH5ZlOeWRnhuWZSXVkS3JJ8YXVsajOXZZ1xuwIu75vPw7LIody+Kcc8rMRqbIlQlPI6blOWUaRmO3CNHUsB53NwGd7zsj4a98r4/GnbytCyfOyDNfuP7b21YW8Z/uPmLpxLsMjzPrZ9sZf8JMpIW7Mj09UF7ufE8GH1Z10nDvnRwht1G5Nm98G9snTdgNRwlUu46X5/Czy54E7QrklzKO/ijUANCYRrkPvhrwkqDrMfxg6+jgD91eNtRwAfA4oFw7A/q66tZt653N8dDK2HeZ9v41b9zXPnPJEfdWs0vPt3KARP7dsHti1NHGpscLr03yd2vxJk8Osevz+j9H4RyepWLgXQaXu3x4V1yfHiXraOFnuen6J9+XTVBF9PlGx1WbnTYaUj4QcH2cP7yebhzUYwfPpRk6foIH90ly3ePbWXfMk79ldhPINOrp06OA5+cnuXw3XNcel+Sax5Ocs+rMX5yahvTt5EVrD+9ekNzGv7vuTg/ezLBio0Rpo7N8atP+zWbSqfZnT7dX7u0LadRNR4fn5zl45P97zM5WLI6smVk7PllUe5b7EdcsYg/OlYcGdt/Yo4JvRgd25aT58HClRHuWhTn7kUxVmyMkIx5HONmOWVaiqP3zFLVD9lj+3L+aivgrAMzzDogw8KV/mjYHS/H+eML/t/AMwujYT2dktyd08sr/YLJpjHK5w9Kc/mxqX7PqmvjFRZSnDouMYk2LqN27vkAoQVgjgPjh3iB60HjUfjjC3Ga01tfq4p77FoIxHbr8LW/HqBLOX/bojcjX234Uwq/Xfh+DnB5h5Gv64DzjDE9ukRYZDvcG3jFGJMv2RYFbsBfg/Z7Y8znSl6bCiwEXqV9keUz8Yss32iMsS2y3ICwka9IxCmLy4vLI5z950pWbnS45JgUX/1IptdPK8rh5HnwxxdiXPGPClrSlOUJc7n6qpxIceoqqxl4RBz42KQsZx2Y4YjdcqE9xZLSV6XYOnkePPJGlO89mOSV96NMGZPjsmNTHLl792nj+9NpoJHo1Venvy+JcdE9fkH3cz6S4aKjUmUZ0enPvtrQCr95OsGv/h3ng5YIhzRk+dphaY7co/vPYjmc1jQ5PL8s4o+QLYvy4vIoLYXRsVE1hWBsYp4DJuTYe6fcNgOjICfP84O+uxfFuHNRnHfXRYhHPY7cPcfJ0zIcNynb7/Uuy33+mlLw15fj3PZsnIUro1TGPU6a6o+GHTDBbjQsyCmbg7mPJbj+kQQjqj1+clobM/awn8pfDrbH60K56ElZoYGkuxIUp+2TZfVmhzfXRnhzbYS3Cl/fXBNh2QaHvLf1PaNr2wdjxf9PHOb1aU2tlPMH5Z92uAL4lzHms4Xvg4Kve4HJxpjdLPb3HWBS4dvjgNHA74HiVeBbxpi1hbZ3AfsBT+HX96rBD9YmA28CHzXGrO6w/x8BFwGvA3cD4/AThbwDHGiMWW956A0IC77i8SiZTHkulhtb4Rt3VXDvq3GO3jPLzae3Mby658fZV6e3P3C48O4KHn87xsE7Z7nhlBR7jOz9U2Vpw/allPP89YWuLqaXHJ1iTbPDH56Ps7Y5QkN9njMPSHPGvtlefTb6gpS+KsXG6YXlEa7+Z5In34kxcViei49Oceq0bL8FsRL7CWR6lcNpYytc+Y8kv3/en6514ylt7UaXw/LqyOrNDj9/MsFvn/GfTB/j+imkD9rZ7uf0h1O2MDr2XCEYe25ZlHc+8H8xYhGPKWO2JvPYb0KOnYf5o2NBUyGnj89x58tx7n4lhmmMEnE8Dt01xynTshy/V2ZAp9T352d94YoItz0X546F/nmcNMpfG/ap6RmGdvOou6PTm2sczrujkheWRzlt7wzXnNjW7fv7i+31ulAOelNWaKDoTYKuVBbe+cAPxt4uBmWFAG1969Z7j0TUY5fhnYOy3Ufku/09lpg0rNzB1++BU4Fpxpi3OwZfhWyHzwG/NMZ81WJ/j+IHUF2xizHm3ULb/8JPLT8VGIlfmfYt4C7gemNMp0+k67oOfvbF84A9gI3AvcDFxphGm2Mu0ICw4GvIkEo2bmzddkNLPA/+95k4l9+fZHi1xy9mtnFwQ88uQr11yuTgZ08muH5BgngULj82xef27/0IHPQtM+RAUO7z1xe6u3ClsnD/4hi/fSbOv9+NkYh6nDjVHw07cGL5R2+CkNRXRbpzenONww8eSnLvq3FGVOe54Ig0Zx6Q6ff1QRL7CWR6ldPpsbeifPOuCt5bH2HWgWku/1iq1yMs5fR6d53DLY8n+POLcTI5OGValvMPSzNlTM8eaA3U+Vvb7PDCskJAtjTKCyuitBSmMY2ozjNuiMerqyJk81svOsXsi47jcfDOfsB1wpQsIy2y4PYHA9FXTSm4a5E/GvbiiigVMf+a/Ln9Mxy0c+drctEpn/f/xl/1zyTJGFx7UhunTAvvBnV7vy70BakjX6WUq68+aHYKgVj7UbN310XI5LZ+mIdXlUxfHOltCc5eWBbhor/JKwhf7uBrT+B5/PVV38dfa3UWcARwMHAJflA03RiztE/msmhAWPDVXyxaGeFLf65k6XqHb89IM/uwdL9ON1u4IsI37qrglfejfGKvDD88IdWnjG9FBsPFa7Dx2uoI856NM//FOJtTDpNH5zjrQP/JqyZBgVWbHK5bkOAPL8SpiME5H0nz1Y+mtW92AJrT8KOHk/zyqThjaj2uP7mNo3uQkbWcvLoqws2PJbhrUYxYBD79oQznHppm1y6K0Eslm4PXGrcGY399OdYu8CoypCLPY7NbGFuGvxuDjUUr/dGw2xfGaUo57DnSHw2bOT3j1+gqPFQbXesxrNJjSWOUo/bMcuMpbWX5O6v0D9IfHg8E2RwsXR8wjXFthDVNpTelHkHr1sNOGlbW4AvAdd2PAn8AxrP1qItflwMzjTFP98laHg0IC75qapI0NfVPPYPNbfCtuyu4c1GcI3bPcusn26yeJPbEqfRmZWSNxzUnpvjEXuV7SiF52B769/z1FlunphTc+XKc3z4TZ9H7UaoTHp+cnuGsAzM9fqpeTq+BIGgqa+MhM7nl8QS//HeCbB5mHZDhG0ekB/zpu6R+KkWiV385Pb8swtfv9BMYnL5Phu8dn+rRNN2+eD2zNMLcfyV5wMSoTnjMOjDDVz7ct/IFfXUqJ6O/W7OlxlgpDh6rv9cUglFnwuqrphTc80qM255N8PzyKLGIh+dBzivtL4/P7pvhxlNTAzJjYVtI+VyVIslJ8rIJCLevNrWxJSA79/YKgoKvsK8LZQ++YEuGwZPwsxrWA5vwCx3fbYyR8cktLw0IC74qKuK0tfVfPQPPg98/F+fS+5IMqfT4+afa+Miu3T/JtXV65I0oF95dwdINEc48IM1lH0v1qqhsd0gf+erv89cbeupUrFHz2//4T9nbsg77T8hx1oFpTpqaLVvBVSl9lVwwn8qfnE884z+NbHOS3DTmG1wz8Qo2ZJOctneG7xydoqE+nGuElH7qiESv/nRKZeGmfyX4yb8SDK30+MEJKU6emrW64e3N7+Ajb0a56V8J/v1ujPqqPGcfkuELB6XLttZJyvnrKjlQ2E+4S5HQV6+8H+HEX1W1yzxXRPuqe9TJHileUq8L/RJ87YA0ICz4GiheXRXh7D9V8PYHEb55ZJoLjkj3OhvNB80Ol/89yV9eirP7iBw3nJzikD4uUO8KHbYfWNa3wJ9fjDPv2QRvrY1QX5XnM/tmOfOAwTfdqSsqzphC7YZlZIly2/DPMWenK1mWmMjRLY9w8YUHMm2s1sZRtrJ4lT8K9tKKKMdNynDtSeWZUg1+4dP7Fse46V9+4dOd6vKc89E0/2//zIClCh9ousu0FvbiemkMhlFCRSkHUq8L/RZ8ua5bA0wB6vBHvl41xmyvv9UNCAu+hg+v4YMPBqa7m1Lw7b9V8JeX4hy6a5affqqN0bWd+6Erp2KB0svuT7KxzWH2YWm+fni6bCMjXSF52H4gz9+2KGc/eR48/naU3z4T5+9LYuTyDkfs7ifo+JibJRbd9j46EmZfrW12WLIqwuLVEd7+3R94pXIqr1ROpTVSxQHNz/Cj5d/m8KZ/8cHfw5/KKukzVYpEr4Fyyubgl/+Oc81DSRIxuOK4FP+1X6bLUbBteaWz8JeX4tzyhP+QY7cRec4/NMUn98n2W0IXSedPYlazUqT0ldTRgFKk9FUp6mSPJC+J14X+WPO1K3AdcCJQeiuVA/4GXGiMebuXvlJpQFjw5Tj+je5A4XnwpxdifOfeCqoTHj/7VBuH795+1CrIael6h4vuqWDBGzH2G5/jhlPa2Ksf1gV1x0D3lQ1SnPpzhHDVJof/e97PyrVyU4SxdXn+3/4ZPrd/pkcjAAPRV20ZeGNNhFdXRViyOsriVRGWrI7QWLKwd3hmDdNbF7J368scsflRTtz4Nxzg3cREqu9+pX8FLZDymeqIRK+Bdnr7A4cL7qzgqXdjHLprlhtOaQucntqVV3MabnvWL4z8/qYIe++U42uHpTl+r2yf6uLYoOfPHileUkcDSpHSV6Wokz0SvSQ5lTvb4STgcWA48Bp+za1GYBTwYfyaXR/g19wyfXSXRAPCgq9EIko6PfDZtF5bHeHsP1fw+poI3zg8zbeOTG8ZzSh1yuXhV4UnvpB6mtQAACAASURBVI4Dlx6T4vMHZfr9RiGIsPqqO6Q4DcTauGwOHnzdT1f/yBsxohGP4wrFmw/dddvFm8vZV57nPxBYsrp9kPXWBxFyhUxqFTEPd1SeyaPz7DUmx+TReSaPyfOzOXfxoyVfptpr2bK/ZqeKb0/+BXNuOLksfn1BymeqIxK9wnDK5+H3z8e54h9Jcnm4+OgUZx/S/prY0Wt9C/zP0wl+/XScdS0RPtyQ5WuHpzmiH4p0d4WeP3skeUkcDShFUl8VUSd7JHpJcip38PU34OPA540xtwW8fibwG+B+Y8xJvXSWSAPCgq+6uko2bQqnHkVLGi65N8kfXkhwSEOWk6ZkuPWJrRf5WQekuX+JX4PkGDfLj05sY/zQ8PotzL7qCilOA50V8p0PHH73bII/vhBjXUuEXYfnmXVgms98qOtiqL3tq42tsGR1tDCaFWHxqiivNUZoSm29a915WJ7JY3LsNTrPXmPy7DU6xy7DvcCHBHe8FOPpX/+VK5ZdysT0UpYmJnLFhO9z8JdOE3FTI+Uz1RGJXmE6rdzocOE9FTxo/NkAN57axqvvR9rdKJ/70RRLN0T53bN+Qd1jJ2WZfViKAyYO/LpCPX/2SPSS6AQyvdTJHolekpzKHXxtwg+sPtNNm/nAccaYuh7byqUBYcGXBOa/GOObd1WQykH7VJ8eNUn48Slt1lm+lHAIKytkWwb+9mqM3z6T4NmlfqHQk6dlOevANPuOz+M49k9uMzk/7ezikiBryeoIK0rWPAyt9Jg8OsdeY7aOaE0ale9xDS7pT5OVwYHnwZ0vx7j0viQbWh0chw41rPx0CafunWX2YekBn6qtKIqi9J7ugq/eLM/NAW9to80bwNG92LfSA2prK9i8uS1Uh5kfynL1Pz1WN3UcJnCoTeQ5ZZqMm1IJfdURKU7Ns+YErvlqnjWnX39uRRw+NT3Lp6ZneXVVhHnPxPnLS3H+/GKcaWNzTBub468vx2nL+jekyzc6fOOuCta3tLHLCI9XCwHW4lV+0cVMzm8Xj/qV7w9uyDF5dIYphWmDY+u8sjwEOH16ltOnZ8Wcv1IkOoFMr7CdHAdO2yfLYbvn2O/66nZrcwotGF2b5+czw++3sPsqCIlOINNLohPI9FIneyR6SXQKojfB16PAodtocxjwSC/2rfSAdFpGYNPYFHxHu2qznOEuKX1VihSnYlKNMLNCThmT59qTUlx+bIrbF/rFm//wQud82W1Zh0vu31oQbtwQfxTrGDftr8sanWf3Efl+y/pWipTzV4pEJ5DpJcVpRLVHV6VyVgu5hkrpq1IkOoFML4lOINNLneyR6CXRKYjeTDtswE+48XfgCmPMypLXdgKuBI4FDjPGvFs20/BpQKcdBjIYUtoqgwvPg9GX1RBUtR487vlSK5NG5xha5sLcihIGeg1VFEXZvuhu2mFv8s79Bj+b4ReBd1zXfd113Sdd130deAf4ArAO+I3rugtK/j3cl4NQOjNyZG3YCoCfxbAy3j4grYz7a2GkIKWvSlGnrnEcGD8k+CHH+CEeBzeEH3hJ6atSJDqBTC9JTtKvoZL6qohEJ5DpJdEJZHqpkz0SvSQ6BdGbka/ervr1jDG9KK8qhgZ05KtLNAmBUm4GQ50aRSkXeg1VFEXZfih7keUdlAaEBV/JZIxUStYfZ4lOINNLnbaN5BtSaX0FMp1AppdEJ5DppU72SPSS6AQyvdTJHolekpzKne1QEUIiIedDVkSiE8j0UqdtIzmzoLS+AplOINNLohPI9FIneyR6SXQCmV7qZI9EL4lOQViNfBUKJ/cYY8zvevM+oTQgbORLURRFURRFURRZlGPk67dATyIOp9B+ewq+xCGpkncRiU4g00ud7JHopU72SPSS6AQyvdTJHoleEp1Appc62SPRS6JTED2Zdvj3wj9FCG1t6bAVOiHRCWR6qZM9Er3UyR6JXhKdQKaXOtkj0UuiE8j0Uid7JHpJdAqiJ8HXM8aYW/vNROkxmUwubIVOSHQCmV7qZI9EL3WyR6KXRCeQ6aVO9kj0kugEMr3UyR6JXhKdguhNnS9FCPX1NWErdEKiE8j0Uid7JHqpkz0SvSQ6gUwvdbJHopdEJ5DppU72SPSS6BSEbcKNPHCFMeaq/lcSSwOacENRFEVRlEFAcsF8quddSWTNcvIjx9M8aw6pGTPD1lKUHYLuEm7oyNcgpqIiHrZCJyQ6gUwvdbJHopc62SPRS6ITyPRSJ3ukeCUXzKd27vlEG5fheB7RxmXUzj2f5IL5YattQUpflaJO9kj0kugUhAZfg5hYTN7pk+gEMr3UyR6JXupkj0QviU4g00ud7JHiVT3vSpxU+6xvTqqV6nlXhmTUGSl9VYo62SPRS6JTEIPDUgmkqSkVtkInJDqBTC91skeilzrZI9FLohPI9FIne6R4RdYs79H2MJDSV6Wokz0SvSQ6BdGTbIczXded2oP2njHm0z0VUuwZMqSSjRtl1TOQ6AQyvdTJHole6mSPRC+JTiDTS53skeKVHzmeaOOywO1SkNJXpaiTPRK9JDoF0ZPga6/CP1s0K0U/09Iir56BRCeQ6aVO9kj0Uid7JHpJdAKZXupkjxSv5llzqJ17fruph16ykuZZc0K0ao+UvipFneyR6CXRKQjb4GuXfrVQekUulw9boRMSnUCmlzrZI9FLneyR6CXRCWR6qZM9UryKWQ0lZzuU0lelqJM9Er0kOgVhlWpeAQSmmq+vr2bduuawNdoh0QlkeqmTPRK91MkeiV4SnUCmlzrZI9FLohPI9FIneyR6SXLqLtW8Bl/2NCAs+FIURZGM1hlSFEVRdkS0ztd2SmWlvHoGEp1Appc62SPRS526R3qdIUl9VYpEL3WyR6KXRCeQ6aVO9kj0kugUhAZfg5hIRN7pk+gEMr3UyR6JXurUPdLrDEnqq1IkeqmTPRK9JDqBTC91skeil0SnIHTaoT0N6LRDRVEUK0YcPwQn4O+L5zisvX9jCEaKoiiKMjDotMPtlKFDq8JW6IREJ5DppU72SPRSp+7pqp6QlDpDkvqqFIle6mSPRC+JTiDTS53skegl0SkIDb4GMU1NbWErdEKiE8j0Uid7JHqpU/c0z5qDl6xst01SnSFJfVWKRC91skeil0QnkOmlTvZI9JLoFERPiiwrwpA4ZVSiE8j0Uid7JHqpU/dIrzMkqa9KkeilTvZI9JLoBDK91MkeiV4SnYIIPfhyXXc2cEDh356AA1QaY7oMX13XPR24CJgGtAIPA98xxrzdRfsvA+cCewAbgXuBS4wxjWU8lAGnrq6K9etl1DMoItEJZHqpkz0SvdRp26RmzCQ1YybDhlWL8gJ5fVVEopc62SPRS6ITyPRSJ3skekl0CiL0hBuu6xYF3gOGAEPpJvhyXfcrwM+AFcD8wnvOAJqBA40x73Rofw3wbeB14G5gPDATeKfQfr2lagOacENRFEVRFEVRlG6QnnDjeGCkMaYBWNhdQ9d1RwLXA6uAfY0xFxhjvljYx3Dghg7tpwIXAouADxljLjLGfBb4ArA7cFmZj2VAqapKhK3QCYlOINNLneyR6KVO9kj0kuaUXDCf+llTGHH8EOpnTRFTDw3k9RXIdAKZXhKdQKaXOtkj0UuiUxChB1/GmL8bY9ZaNp8JVAM3lU4ZNMY8CjwEnOS67oiS9rPwj/EHxpiWkva/wx8JO9N13dCnXiqKoig7LtILUiuKoijlI/Tgq4ccWvj6cMBrDwFR4MOW7R/GHy3bq2x2A0xLSzpshU5IdAKZXupkj0QvdbJHopckJ+kFqSX1VRGJTiDTS6ITyPRSJ3skekl0CmKwBV+7F76+FfDaWx3aFP+/2RizxrL9oGLYsOqwFToh0QlkeqmTPRK91MkeiV6SnCJrlvdo+0Ajqa+KSHQCmV4SnUCmlzrZI9FLolMQgy34qit83RTwWnHbkA7tg9p21X6bVFbGAf8ER6MOsVhkS1G36urkltfr66uJRBzi8ShDhvi1bmpqklRU+K8PH16D40AiEaWuzn+9traCZNKfBTlyZC0AyWSM2toK/2DqKkkkojiO//5Nm1qoqIhTU5P0D2RIJfF4lEjEob6+eotvdbX/+tChVcRiEaJRZ8sHtKoqsWWObDmOadOmlj4dE9Avx9Tc3BbaeerqmDZvbg3tPHV1TJs2tYR6njoeU+0Td1A/awrRQ2LUz5pC1WO3D/h56uqYwAvtPHV1TPl8PpTztK1jSqXSoZ2nro4pk8mGdp46HlN3BaklXCM2bWoRcy0vHtOmTS1iruWlx5ROZ0Rcy0uPqa0tHfq1POiYignfwr6Wlx6T4xDaeerqmKJRJ9Tz1PGYkgvmM+LzU4keEmP4rCkMffquAT9PXR1TU1NrqNfyjsfUFaFnOyzFdd1HgcPpItuh67qv46eLjxtjsh1eOwZ4ALjKGDOnsC0NNBpjOv1lc133bOCXwBeMMf9rodeAsGyHsViEbDYftkY7JDqBTC916p7iOpjS6VhespLNs28WUStKUl8VkegEMr0kOelnvedIdAKZXhKdQKaXOnWPXqvskZ7tsCcUR6vqAl4rbtvYoX1Q267aDypqairCVuiERCeQ6aVO3SN9HYykvioi0QlkeklySs2YyebZN5MbNQHPcciNmiDmZgZk9VURiU4g00uiE8j0Uqfu0b/L5WGwZfp7E9gP2A1Y1+G13UralLY/yHXdkQHrvoLaDyo2bGjZdqMBRqITyPRSp+6Rvg5GUl8VkegEMr2kORULUktEWl+BTCeQ6SXRCWR6qVP36N/l8jDYRr4eL3w9KuC1o4Ec8JRl+6OAD4DFZbMbYLauPZGDRCeQ6aVO3dPdOhgJSOqrIhKdQKaXRCeQ6aVO9kj0kugEMr3UqXv073J5GGzB13ygGZjtuu6o4kbXdQ/HD77u6VAzbB6QBy5xXbeqpP2ZwJ7A7zquHRtM5PMy5rWWItEJZHqpU/c0z5qDl6xst81LVtI8a05IRu2R1FdFJDqBTC+JTiDTS53skegl0QlkeqlT9+jf5fIQesIN13W/A0wqfHscMBr4Pf4oFsC3SgMq13XPAX4KrMAPxuqAz+IHZQcaY97psP8fARfhF1W+GxgHfBp4p9B+vaVqA8ISbijK9k5ywXyq511JZM1y8iPH0zxrjtipWYqiKIqyvaN/l+3oLuGGhODrUfwMh12xizHm3Q7v+SR+QDUVaMMvmPwdY0yn+l+u6zrAfwPn4WdK3AjcC1xsjGnsgWoDwoKv+vpq1q1rDlujHRKdQKaXOtkj0Uud7JHoJdEJZHqpkz0SvSQ6gUwvdbJHopckJ9HB1yCiAWHBVyTiiHEpItEJZHqpkz0SvdTJHoleEp1Appc62SPRS6ITyPRSJ3skekly2p5SzSslRKPyTp9EJ5DppU72SPRSJ3skekl0Aple6mSPRC+JTiDTS53skegl0SmIwWGpBFKs6i0JiU4g00ud7JHopU72SPSS6AQyvdTJHoleEp1Appc62SPRS6JTEDrt0J4GhE07VBRFURRFURRFFjrtcDulpkZePQOJTiDTS53skeilTvZI9JLoBDK91MkeiV4SnUCmlzrZI9FLolMQGnwNYrJZefUMJDqBTC91skeilzrZI9FLohPI9FIneyR6SXQCmV7qZI9EL4lOQei0Q3sa0GmHiqIoiqIoiqJ0g0473E4pnFRRSHQCmV7qZI9EL3WyR6KXRCeQ6aVO9kj0kugEMr3UyR6JXhKdgtCRL3saEDby5Tgg7fRJdAKZXupkj0QvdbJHopdEJ5DppU72SPSS6AQyvdTJHolekpx05Gs7JR6Phq3QCYlOINNLneyR6KVO9kj0kugEMr3UyR6JXhKdQKaXOtkj0UuiUxAafA1iKirk1TOQ6AQyvdTJHole6mSPRC+JTiDTS53skegl0QlkeqmTPRK9JDoFodMO7WlA2LRDRVEURVEURVFkodMOt1NqayvCVuiERCeQ6aVO9kj0Uid7JHpJdAKZXupkj0QviU4g00ud7JHoJdEpCA2+BjHpdDZshU5IdAKZXupkj0QvdbJHopdEJ5DppU72SPSS6AQyvdTJHoleEp2C0OBrEJNKyfmQJRfMp37WFGqPqqZ+1hSSC+aHrdQOSX1VRJ3skeilTvZI9JLoBDK91MkeiV4SnUCmlzrZI9FLolMQGnwNYkaOrA1bAfADr9q55xNtXIbjeUQbl1E793xRAZiUvipFneyR6KVO9kj0kugEMr3UyR6JXhKdQKaXOtkj0UuiUxCacMOeBjThRiD1s6YQbVzWaXtu1ATWzXs1BCNFURRFURRFCQdNuLGdkkzGwlYAILJmeY+2h4GUvipFneyR6KVO9kj0kugEMr3UyR6JXhKdQKaXOtkj0UuiUxAafA1iEgkZH7L8yPE92h4GUvqqFHWyR6KXOtkj0UuiE8j0Uid7JHpJdAKZXupkj0QviU5B6LRDexrQaYeBFNd8OanWLdu8ZCWbZ99MasbMEM0URVEURVEUZWDRaYfbKXV1lWErAJCaMZPNs28mN2oCnuOQGzVBXOAlpa9KUSd7JHqpkz0SvSQ6gSyvYhbbEccPEZfFVlI/lSLRS6ITyPRSJ3skekl0CmJwjM8pgbS1pcNW2EJqxkxSM2aSSERJp3Nh63RCUl8VUSd7JHqpkz0SvSQ6gRyvjjMaillsAREP1qT0U0ckekl0Aple6mSPRC+JTkHotEN7GhA27dBxQNrpk+gEMr3UyR6JXupkj0QviU4gx0t6Flsp/dQRiV4SnUCmlzrZI9FLkpNOO9xOqa+vCVuhExKdQKaXOtkj0Uud7JHoJdEJ5HhJz2IrpZ86ItFLohPI9FIneyR6SXQKQke+7GlA2MiXoiiKovQH0ke+FEVRJKMjX9spFRXxsBU6IdEJZHqpkz0SvdTJHoleEp1AjlfzrDl4yfaL171kJc2z5oRk1B4p/dQRiV4SnUCmlzrZI9FLolMQGnwNYmIxeadPohPI9FIneyR6SXIqZqWrmVElLisdyOqrIhKdQI6X9Cy2UvqpIxK9JDqBTC91skeil0SnIHTaoT0N6LRDRVGEoXX2FEVR/n979x1mV1nuffwbQpGAkRYQQQkg3oACHqQeuoSXIhApEkGqFBUw4kEMJAgJ8B6kCAkgcF4DJCCoASQaupTQpIgCGt94IyUoVUAEgVBSzh/3s5PFnjUzezIzaz0Tfp/ryrWTtXb5zc6eZ697PWWJ5EXDDhdSH/tYftczyDET5JlLmVqXY65cMi01ccwHCi+Afu/OZKmJY2pK1FYu71VRjpkgz1zK1Locc+WYCfLMpUytyzFXjpnKqPjqw95+O7/rGeSYCfLMpUytyzFXLplyX5UO8nmvinLMBHnmUqbW5Zgrx0yQZy5lal2OuXLMVEbFVx82e/acuiO0kWMmyDOXMrUux1y5ZJozaNUuba9DLu9VUY6ZIM9cytS6HHPlmAnyzKVMrcsxV46Zyqj46sOWWWZA3RHayDET5JlLmVqXY65cMuW+Kh3k814V5ZgJ8sylTK3LMVeOmSDPXMrUuhxz5ZipjBbcaN1gtOCGiGRoiTsmsdTEMSzy8rPMGbQqbx10shbbEBERqYkW3FhILblkftczyDET5JlLmVqXY66cMr37xX3458Q/89adb/PPiX/OrvDK6b1qyDET5JlLmVqXY64cM0GeuZSpdTnmyjFTGRVffdgii+T335djJsgzlzK1LsdcytS6HHPlmAnyzKVMrcsxV46ZIM9cytS6HHPlmKmMhh22bjAadigiIiIiIh3QsMOFVI4TC3PMBHnmUqbW5ZhLmVqXY64cM0GeuZSpdTnmyjET5JlLmVqXY64cM5VR8dWHvfnmO3VHaCPHTJBnLmVqXY65lKl1OebKMRPkmUuZWpdjrhwzQZ65lKl1OebKMVMZFV99WI5DRnPMBHnmUqbW5ZhLmVqXY64cM0GeuZSpdTnmyjET5JlLmVqXY64cM5VR8dWHDRyYX/dqjpkgz1zK1LoccylT63LMlWMmyDOXMrUux1w5ZoI8cylT63LMlWOmMlpwo3WD0YIbIiIiIiLSgY4W3Fi0jkB9VH+INzMXSy65GDNnvl93jA/IMRPkmUuZWpdjLmVqXY65cswEeeZSptblmCvHTJBnLmVqXY65cspUqBf6N+9Tz1frtgTuqTuEiIiIiIj0CVsB9xY3qPhq3RLAxsALwOyas4iIiIiISJ76AysDvwPeLe5Q8SUiIiIiIlIBrXYoIiIiIiJSARVfIiIiIiIiFVDxJSIiIiIiUgEVXyIiIiIiIhVQ8SUiIiIiIlIBFV8iIiIiIiIVUPElIiIiIiJSgUXrDiBdY2bbAicDGxEXe74fGOnuj9SUZzhx8emNgc8A/YAl3f2dOvKkTKsC+wBfAtYGBgEvAb8BTnX3p2vItBwwBtgUGAx8DHge+D1wurv/vupM7TGz64AvAy+5+8drytDRBQh3dvebKwtTYGaLAkcBBxCfrdnAU8Bkdx9TQ57RRHvQka3d/Z4K4sxjZksA3wQOAtYA5gBPApcC4939/SrzpExLAycCewOfBF4DbgRGufsLFbx+l9tKM9sL+D6wHjATuB043t2fqjqTmQ0AjgQ2SfcfTC+0EV3M9Bmird8JWAtYBngWuB44zd1frinX6sAJxHu1KrA08HfgPuC/3f3xqjOVPLY/8ABxLPGgu2/WE5m6msvMBgMdfSev4+5/qTJT4TEDgO8Rn7E1gHeAx4GJ7n5RlZnMbALRnnbkU+7+9ypzpft/FPgvom1dHXibeJ8uBH7m7t2+oPACZFoRGA3sBqwEvAhcC4x299e7m6e7VHz1IWb2JeDXwOvAxLR5P+A+M9vG3X9XQ6xx6faZlGuZGjI0OxoYAUwHphC5NgIOAfYws63cfVrFmVYEDgZ+CzycMq0GDE2ZvuruV1ecqQ0z2wfYnfiSqdszwISS7U9UnAOY90V8A7AtcA/xxbIYcdC3J1FcV21qO9s/QvwOvA5U2i6YWT/i4HcI8ChRcC0K7EK8Z0OAvSrONAC4C9iQ+P37FXFQfCAwxMw2cfcXezlGl9pKM/smcBHwHHAxccJmX2C7lLcnTiJ1JdOKwFnAXOCv9F4b0ZVMpwDDgD8Ak4B3ga2A4US7upm7P19DLiM+4/cRbcVbxAHjfsAwMxvi7vdVnKnZscA6PZChzILkegyYXLL9lToypYP324F1gVuINm0A8Z7tRvxuVplpMjCjZPvHgW8Aj/dE4dXVXGa2JHFc8znis34zsBSwB3Al8AXis1ZlppWAB4ljrKnAL4jfyWOAbc1sS3d/qwcyLTAVX32EmS1OfAG/A2zu7p62X0D0nlxMfMirtgvwO3d/xcymAtvUkKHZg8AW7v7b4kYz+y5wDnA2caa0Sk8Ay7r7rKZMawOPAD8Eai2+zGx54HzgAqIo/EideYAZ7j665gxF5wBbA8PcfVJxR+oRq5y7T6WkADOzYemvk2rohd6GKLBuAHZrnPU0s+OI3809zWztnjib3QXDicLrSuBAd5+TMu2Scp5B52eVu6vlttLMBhHt1IvAhu7+j7T9CuAO4EdEwV9ZJuIgeAjwsLu/bmYz6J02oiuZbiJ6uD5wMs3MxhH/5ycRPbBV57oDWKH5jH8auXInUTRuX3GmYo7PECeLRhLtWk9bkFyP9nJ739VMlxO9Xdu5+93FHT3Y3recyd0nU1KcmtmI9NeJzfuqyEWc/PgccKG7H1XIdSLwJ+DbZjba3f9dYaYxROF1uruPLGQ6EvgxMZqgsxEjvUpzvvqOHYgztVc0Ci+AdABzJbChmf1H1aHc/SZ376kzUz3C3a9rLryScUR3+JYVR8LdZzUXXmn7X4geusGpx6BO44gzx6NqzpEdM1sNOBy4vLnwgvj/rT5VhxqFxIQaXntwur25ePDp7u8SZ5IBVqg4027p9rRG4ZUy3Qg8RPRGfLQ3A3SxrdyHOHs8rlF4peeYCtwG7G5m3X4Pu5LJ3d9099t7e8hOFzNNbGcUw+nptsfa+i7meq9sqFX6/3uNOKivNFND+p4ZD0wDzuuJHD2Rq7d1JZOZbQXsCJzZXHil5+qR9r6H3qeDiGHdl/dAJKDLuQan25uanuOfxLDWxYhe+yoz7Ua8J6c1bb+ImIJyaN3HW+r56ju2Sre3l+y7jTgw3IroRZH2zSKGzWQhjXf/DDC9J8ZFdyPHl4CvAbu6+5tmVleUomXT0KvlgBeA23pwWEVX7UmcrLo29UoMJQqIGcCN7v5GTbnaMLOPA/8H+Gs7JyF62/R0uxPRi9rItQTwReLg848VZ1ox3T5Tsm8GMTdnM2JeaA46a+93AP6TGIYubTXmFGZ1UsTMNgaWJYZp1eVIYHNgY3efnUlbD7CKmX2bmB/3N+DWnpyz10V7p9trzexTwK7ARwEnTirlMCy/8Xlah/hufLamGI32fmdiaCYwb577ZsSon+cqzrQi8Iq7v13c6O5zzewZor3/NDF8uhYqvvqOT6fbJ0v2Pdl0Hyk3FBgIXFdXADP7BHAE0J+Y9P9lohj8do2ZBhLDVie5+w115SixPh8cVz/LzM4FRtRQqDaG9BrR0zywsO9VMxvm7mUHynXYn/h89eQwlJa5+4NmdjlwoJn9gRhmtSixAM4A4Cs1FKuvEu3jakDzcMfB6XYt8im+1N53z4Hp9o46Q5jZukQv5mLAmsR82peA42vKsxoxxP0cd3+0jgwdGJL+NMw0s5HuPraGLI32fhtiWObihX3PmNlQd3+s+lht1DnCoeEa4vfsSDNbj+jtWpqY8/UGsE8N39evAoPMbECxAEu9XZ9K/1yLGosvDTvsOxoHe2UHLY1t3e7aXVilCZjnE8PqTqoxyieIscYnEg3ne8Ce7n5njZnOIoY4Da8xQ7OziFWNliF6mHYjDjqPo54Dl8YQrzOIuXmDgeWJs8hLA79MhXUOGsNQrqgxw8HEkI/PE6tgDSfeMVOyrQAAES9JREFUs6uIBS+qdmu6HVkcbmJmOxFnQSGv9lPt/QJK82jHEAdgZ9YcZ12ivR9JzI15AdilhgWfGv6HKP5G1/T6Zd4m8mxA9C6tTIzCeA0418z2rSFTo70fS3yGVkm5TiIO3qekhSZqk9YB2JdoD2o7oezus4ler0uJHvvjgG8R7dPlzO8Zq9KtRH0zsmn7EcQCJVBz+6meL1nomdlSxOpmqwCH1/jFh7s/DPRLDeeaxCpAN5nZ0e5+cdV50gTww4n35aWqX7897v79pk3Xm9mjxATe483sbK92ufLGiarHiPeqcSbvojQs5XjgUODUCjO1YWYbEpOfb3f3v9WUoT/xpbsrscLo9cSywEOJeYWN1QXfqzDWucSBygHA2mZ2NzGHdi/iM7UeUbBKH5aG3F5PLASyTwUrWHbI3a8h2vslieFhJwH3ptVtKx0yamYHEfOYdnD3mVW+dkfSnMbiSrFvAleZ2XRiPuYPgJ9VHKvR3k9x9x8Utp+aejO/SgxNrPME167EkPxLmofXVcniEh7XESca9iBGOgwgRmCcDmxBLJZRpZOIgnCUmf0nsSidEe/ZNOI7stb2Xj1ffUfjbOfAkn2NbbVfuyA36UtvCnF9rePcfXzNkYB5E7Knu/thxByOsWa2SpUZ0opN44G7ibNWWUtj2n9DfN57a4nk9jR+t64vGUIxJd3Wsdpos8YwlFqGHCaHEUtqj0wLIrzq7q+4+yXMP8N9YEdP0NPc/TVijtTFRO/zcOA/iOG+jfeqrvklZdTed1FarfU3RA/rAV7TtQDLuPtMd/8DccD+FHBJlT0naf7NucSCQbdV9brd4XHt0keAddLQ+Co1fremlOzLpb3Poa2HWKBrCHCEu09299fd/QV3P4tob3c2syEdP0XPcvcZxIiGK4lCazjRY/kVojiEmtt79Xz1HY1rG61JXNOkaM2m+wjzJvhfB2wHnOzuZ9ccqT13EGckN6Ha4QNLE5+dNYE5ZROvLS52/Lq753D9Nph/zZelKn7dxkVRyw54G9vqHoayGFH0/Ju4mGRddky3d5Xsa2z7fEVZ5kmT97+V/sxjZpekv+a0WNETxMHdmsA/m/apvW9iZssShddnga+7+y9qjlTK3WelXtdvERdpr+oz9ylioY8DzazsxMemqa1/zN0r/93sQLG9r3Ke6OPEtUGzbO/Tok87A0+6+z115Ug6a++PItr7Sot+j+sg7t+8PS03P5e4BmVtVHz1HfcQF03dnrbXgxpSuI8w70B0EvOXiz2l5kgdWTndVr0y17vAJe3sG0Ys2nAVMSY/Fxul27JV63rTVGL8eFmPW2NbLcP8CnYh5ipcVucwFOZPTi9bCr2xrcohh+1KF1/ejShkclqA4B7id3B72l4kewgwm3pXzMtGukTAzURP5lHuPqHeRJ2qo71/lfbb+kOJXoBfU38bNk/6Dt+A+P6pupdiKnEiK9f2fj9iEZceW16+G4rt/ZtN+3Jr7z9BzEu7Iy2FXxsVX33HbcCzwAFmdm7jWl9pcvHXgEdSN/2HXppz8lNiZanz3X1EJw/pdWb2WWLp7/eatq8PfJ34grm3ykxp3P9hZfvSMIGPpGGRlUpj6p8oea+OJRbhuNfdn6841p3EykhfM7Nz3H16yrQ08xcAqbO3CfJY+QrgfmJlwxFmdl9jbl7qiW7M5Ss7S9qrzGxgcZXFNOz2AmAQcEydl3ooMYlY3GW4mV3q8y+y3LiA9eTcrqNUh1Q830CMGjjW3S+sORIAZrYB8KfiNeXS9h2IeSfPAX+uKk+6REd7bf2hwFN1tPXp9dcHphXfq/QdfhYxRPinPXVdrS64mvj9Ozr9/r2Qcq1IDGGbC/yy4kxFB6UMORRf9xM9zqPM7IhGO5qGijYW8aq0vU+Fe//iJQFSW3EZUfeMrjJPmX5z5+b0fSMdMbNdiYUjXid6JCDOgCwJbOPuD9WQ6Xhi+ATEdX1WIgqf2Wnb96o+SDCzMcSEy1eACym5rpe7j64401iiC/xe4rpCs4kJoDsRixEc5u6XVZmpI2Y2gyi+Pt7JXXvjtccSJxTuJs4u9ieuS7MRcQZ0m0bxU3GurYlVlN4jCq1/E0XGGsQBwgFVZypkWx54njhB8+marxm3LLGi4RrE8J1biPnFOxFD5m4Ddmw+MK0g1xvEdbOeIM7W7kwsNzzO3Y+p4PW71Faa2beI9us5ohgbSLT3bwGbpGE1VWc6m/lns/cmfjfnDfFz94OrzGRmE4n5g0+m+zT7V08tVd7FXJOJE0X3E+39YsTcky8SIw6GuvstVWbq4DnmAg+6+2bdzbMgudJ79QWiJ/dvxHD4bYgepieALXtiMagF+Kx/lTjOehmYTCzQ8GVitbzTmhbiqCRTesx6xHUSp7r7dt3N0N1cZrY60Tu/PDGMdioxTHR34r261N0PrTjTqsTCGjcTv38DU55VgP9y93O7m6e71PPVh7j79alH4mRiKec5wH3AqDSZtw47EQ1lUXGc7Wjmj9uuymrpdgXaX1Z+dDVR5rmGGHO/OTGUaHHgReKgamwdhXPGbibmKGxIfL76E8MMxwFnNM5CVs3d7zazLYiVufYgVlR7HPgOhYsJ12Rf4jN1ed09OO7+mpltSkzE3hX4BnEC5PG07eyqC6/kKuLgd0fiIryPACe4e1U9ll1qK939IjN7megt/CbwDtHLc3xPFF4LkokouFbjgw4q/P3gijM1sqxJfC82e4ZYLrwndCXXeKLI2pgYDrwIcWJkPPAjd2++1lwVmarUlVxXE23X5sQB8lyimD6NaCt6amGZrv7+/dzMXiHarP2I76FpxMJdZYV+r2dKqhjh0HIud3/azDYiLp+zA3A00b7+f+AU4vIGlWYiOiimEEMMv0yMLHqAWIinzsv6zKOeLxERERERkQpoqXkREREREZEKqPgSERERERGpgIovERERERGRCqj4EhERERERqYCKLxERERERkQqo+BIREREREamAii8REREREZEK6CLLIiIiFTCzZYFtgZWBQenPme7+tzpziYhIdVR8iYiI9CIzWx44D9gbWLywaw7wAPDTOnKJiEj1+s2dO7fuDCIikhkzGww8DVzr7nu3c5+jgfOBQ9x9QnXp+g4zWwq4H1gPGA+MBaa7+5xag4mISC3U8yUiItJ7fkAUXsPd/fy6w4iISL204IaIiEgvMLP+wKHAHSq8REQE1PMlIiK9wMy+AhwDrA/0A6YB57n7VU33Oxi4LP1zmLtPatr/BeDh9M8x7j66af/GwEhgS2AgMAO4gljI4r2S1zkEmAmcABjwKnB5eu53W/zZFgeOBfYH1gTeBn4LnOLuDxXu+mlgBeABM/sxsDuwEvAycCNwsrs/X3jeWUD/ppdb3d1ntJCpP/AN4OvAOsR8soeB09z99qb7TgW2cfd+hW39iLln+wHfdfexZjYaOLmz1yb9v6T35Zvp51yHWFDkH8AtwEnu/lwLzyUislBTz5eIiPQoMzsBmEQUJhOIuU6rAFea2Zh2HjYbOLxk+xFpX9nr7E0UPdsRxcz5RDF1KnBNKiia7QNMBB4FxqX7N/J2yswWAX4F/HfKNQ64LmW4x8x2LNx9ULodARxJFKA/Ioqiw4CHzGzVwv1PAcakP4+1kidl6pfy/xhYDLgEuIoogG41s31aeJoLiMJrjLuPTdumFvKMST83xPtX3D41bV8OOCf9/VfE/LZpRMH7WzNbrtWfSURkYaWeLxER6ci6qQekzCbNG8xsLaL4eQbY2N1fTttHAw8CJ5rZNe7+p6aH3gjsamZruPtT6TFLA/sCNxC9KcXXGUT0ZD0NbOnu/yjsGwcMB75C26JqZ2Bbd78r3XcUcBOwu5kNdfdf0bGDgZ2AKcAe7j47Pc/56ee71MwGu/v7zP+O7Q+McPczCxmPJIqlc1NO3P2Uwv7BwAadZGn4BrAnUewc21jMw8xGAr8DLjSzKe4+s+zBZnYaURyeV+xZdPepzC+sGr2HQ4EJaV+z14BPuvsLTc+/L1EMHkV8NkREPrTU8yUiIh1Zhxh6VvZn55L770cUG2c0Ci8Ad/8X8H+J750DSh43hRiidlhh277E0uyXl9z/QGBp4PvFwis5EZgLDCt53C2Nwivlmg2clP65f8n9mzWyj2gUXul5HgWuBD4B7ND0mGeJIqvoYuAJYA8z+2gLr9uRo4BXgOOKqyi6+6tET9vywJCyB5rZd4FRxHt8THdCuPu7zYVX8nPgdWD77jy/iMjCQD1fIiLSkVaWmi9q9NbcRVt3Nd2n6H3SnCwzO8ndZxFDDn9JDA1s1uh129rMPl+yfyYxp6vZvSXbHgJmEfPTOrMB8LK7Ty/ZdxcxxG4Doiev4f7UEzaPu88xs3uJeWGfI5ajL3OMmf2LmMP1IvBHd3+gsdPMBgCfJea6nWjW5kdeq3FXosCdx8wOIYqzucDp7t7ta8+Y2abA94HNiWGXxeOMlbv7/CIifZ2KLxER6UkD0+1LJftearpPs58Q86N2M7OngY2A49q5b2P+0Hc7yLJUybaXmzekQuiVDnIVDQTKCi9o+/PNatre2f3LfKd5g5ndDQxNvYnLEguarE7Hi2OUvRc/IeafbQD8j5lt250CzMy2AX5D/Nw3A08Cb6XdxwBLLOhzi4gsLFR8iYhIT3oj3a5E2x6rlZru8wHu/pSZ3UEsvPEM8Fd3n2pm23bwOi2tBlgwqHlDWkRjeWL+WGfeYP7P0az553utaXtn9y+zurvPSBkHEwt9DCN6l0YWHnuXu2/bYfK2HiOGIx5NDAn9NnBeF5+jaASx4MfWTb1z/Wi/iBYR+VDRnC8REelJjVX6ti7Zt1W6fbSDx/8/YEdibtVPOrhfY0n3TbuULpakb7YJUTT8sYXHPwYMMrO1S/Y1/3yPE8MfNzezxYp3TMXUFsSKidM6e1F3n5MWIvle2rRh2v5v4C/AemkIYlfs5O5vAGcCvwdON7M1uvgcRWsArxYLr2QDoKvZREQWSiq+RESkJ11FFBQjzGz5xkYz+xixEMYc4npS7ZlMDOt7lVimvj0TiCFtZ5jZ6s07zWxFM1un5HE7mtnWhfv1J5Z4h1gwozNXpNsfpgKq8TzrEwXj88BtAGme19XAqkSvUtHhxHys61IB1arPpdvXCtsuIIZhjkvX2voAM9ukrDBrLIiS5tcdTIyGubSdJfpb8XdgOStMPEsrVo5t/yEiIh8uGnYoIiI9xt3/amYnEcPY/mRmVxMF117AJ4kLETcvM198/HvMLzA6ep2XzOwA4GfAdDO7gZhjNJAoarYGfkDb+Vk3Ede++jmxgMXOxEIbv3b3yS38iBOIpeGHAr83s1uICyl/Ne0/tGlxjROALwI/MrPtiZ6zdYml85+j4zlrMH/BjUWA1Yj3cS7zL0wNcCHR63YYsL2Z3UnMbVsV+AKwNrHYxdvtvYi7TzOzU4ml4I8iCrquupgYxnifmf2CmIu2U8ryfEcPFBH5sFDPl4iI9Ch3b8xLmkEUBEcALwD7u3tHi0J09XWuAzYmepc2IxZ12INYgv5Uoheu2STgIODz6f4rAD+kfFn6stecQxReo4CPEMXTXsRKh1u5+81N93+eGBo5Pr3mcSnzeGATd3+2k5f8DrGQxihiCft7gR3c/dbCa8wlluU/mFjWfu/0s21BDH08iFiKvjM/BP5A9Oq16U3sjLtfy/zev68T79ONKff7HTxURORDo9/cud1eWVZERCRr6QLBlwGHuPuEetOIiMiHlXq+REREREREKqDiS0REREREpAIqvkRERERERCqgOV8iIiIiIiIVUM+XiIiIiIhIBVR8iYiIiIiIVEDFl4iIiIiISAVUfImIiIiIiFRAxZeIiIiIiEgFVHyJiIiIiIhU4H8BizUJcrrJc5YAAAAASUVORK5CYII=\n",
         "text/plain": "<Figure size 1008x360 with 1 Axes>"
        },
        "metadata": {
         "needs_background": "light"
        },
        "output_type": "display_data"
       }
      ]
     }
    }
   }
  }
 },
 "nbformat": 4,
 "nbformat_minor": 1
}
